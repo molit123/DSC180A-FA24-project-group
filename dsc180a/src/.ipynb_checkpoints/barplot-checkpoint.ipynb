{
 "cells": [
  {
   "cell_type": "code",
   "execution_count": 1,
   "id": "d6c4e4d7-df7b-4ea3-a39c-c2b8502f3be3",
   "metadata": {},
   "outputs": [],
   "source": [
    "import pandas as pd\n",
    "import numpy as np\n",
    "import matplotlib.pyplot as plt\n",
    "import seaborn"
   ]
  },
  {
   "cell_type": "code",
   "execution_count": 2,
   "id": "643b17ed-582e-4199-8a03-ef488badf8ae",
   "metadata": {},
   "outputs": [],
   "source": [
    "MLP_df = pd.read_csv('results/MLP.csv')\n",
    "CNN_df = pd.read_csv('results/CNN.csv')\n",
    "GCMERGE_df = pd.read_csv('results/GCMERGE.csv')"
   ]
  },
  {
   "cell_type": "code",
   "execution_count": 3,
   "id": "bc7aefc3-8689-4ace-874c-a0028851b85d",
   "metadata": {},
   "outputs": [],
   "source": [
    "MLP_df = MLP_df.add_prefix('MLP_').rename(columns={'MLP_cell_line': 'cell_line'})\n",
    "CNN_df = CNN_df.add_prefix('CNN_').rename(columns={'CNN_cell_line': 'cell_line'})\n",
    "GCMERGE_df = GCMERGE_df.add_prefix('GC-MERGE_').rename(columns={'GC-MERGE_cell_line': 'cell_line'})"
   ]
  },
  {
   "cell_type": "code",
   "execution_count": 4,
   "id": "ff66fc12-9e6f-4b9c-a015-bc5a33a06b4b",
   "metadata": {},
   "outputs": [
    {
     "data": {
      "text/html": [
       "<div>\n",
       "<style scoped>\n",
       "    .dataframe tbody tr th:only-of-type {\n",
       "        vertical-align: middle;\n",
       "    }\n",
       "\n",
       "    .dataframe tbody tr th {\n",
       "        vertical-align: top;\n",
       "    }\n",
       "\n",
       "    .dataframe thead th {\n",
       "        text-align: right;\n",
       "    }\n",
       "</style>\n",
       "<table border=\"1\" class=\"dataframe\">\n",
       "  <thead>\n",
       "    <tr style=\"text-align: right;\">\n",
       "      <th></th>\n",
       "      <th>cell_line</th>\n",
       "      <th>MLP_auroc_mu</th>\n",
       "      <th>MLP_auroc_std</th>\n",
       "      <th>MLP_pcc_mu</th>\n",
       "      <th>MLP_pcc_std</th>\n",
       "    </tr>\n",
       "  </thead>\n",
       "  <tbody>\n",
       "    <tr>\n",
       "      <th>0</th>\n",
       "      <td>E116</td>\n",
       "      <td>0.907744</td>\n",
       "      <td>0.009392</td>\n",
       "      <td>0.767275</td>\n",
       "      <td>0.009781</td>\n",
       "    </tr>\n",
       "    <tr>\n",
       "      <th>1</th>\n",
       "      <td>E122</td>\n",
       "      <td>0.889378</td>\n",
       "      <td>0.008922</td>\n",
       "      <td>0.728302</td>\n",
       "      <td>0.020876</td>\n",
       "    </tr>\n",
       "    <tr>\n",
       "      <th>2</th>\n",
       "      <td>E123</td>\n",
       "      <td>0.920344</td>\n",
       "      <td>0.009770</td>\n",
       "      <td>0.785644</td>\n",
       "      <td>0.015155</td>\n",
       "    </tr>\n",
       "  </tbody>\n",
       "</table>\n",
       "</div>"
      ],
      "text/plain": [
       "  cell_line  MLP_auroc_mu  MLP_auroc_std  MLP_pcc_mu  MLP_pcc_std\n",
       "0      E116      0.907744       0.009392    0.767275     0.009781\n",
       "1      E122      0.889378       0.008922    0.728302     0.020876\n",
       "2      E123      0.920344       0.009770    0.785644     0.015155"
      ]
     },
     "execution_count": 4,
     "metadata": {},
     "output_type": "execute_result"
    }
   ],
   "source": [
    "MLP_df"
   ]
  },
  {
   "cell_type": "code",
   "execution_count": 5,
   "id": "742af4dc-2f3f-424b-a5d0-cf95d4864b08",
   "metadata": {
    "scrolled": true
   },
   "outputs": [
    {
     "data": {
      "text/html": [
       "<div>\n",
       "<style scoped>\n",
       "    .dataframe tbody tr th:only-of-type {\n",
       "        vertical-align: middle;\n",
       "    }\n",
       "\n",
       "    .dataframe tbody tr th {\n",
       "        vertical-align: top;\n",
       "    }\n",
       "\n",
       "    .dataframe thead th {\n",
       "        text-align: right;\n",
       "    }\n",
       "</style>\n",
       "<table border=\"1\" class=\"dataframe\">\n",
       "  <thead>\n",
       "    <tr style=\"text-align: right;\">\n",
       "      <th></th>\n",
       "      <th>cell_line</th>\n",
       "      <th>CNN_auroc_mu</th>\n",
       "      <th>CNN_auroc_std</th>\n",
       "      <th>CNN_pcc_mu</th>\n",
       "      <th>CNN_pcc_std</th>\n",
       "    </tr>\n",
       "  </thead>\n",
       "  <tbody>\n",
       "    <tr>\n",
       "      <th>0</th>\n",
       "      <td>E116</td>\n",
       "      <td>0.906999</td>\n",
       "      <td>0.001565</td>\n",
       "      <td>0.773801</td>\n",
       "      <td>0.008594</td>\n",
       "    </tr>\n",
       "    <tr>\n",
       "      <th>1</th>\n",
       "      <td>E122</td>\n",
       "      <td>0.878282</td>\n",
       "      <td>0.003869</td>\n",
       "      <td>0.724646</td>\n",
       "      <td>0.016385</td>\n",
       "    </tr>\n",
       "    <tr>\n",
       "      <th>2</th>\n",
       "      <td>E123</td>\n",
       "      <td>0.913792</td>\n",
       "      <td>0.002093</td>\n",
       "      <td>0.782654</td>\n",
       "      <td>0.006321</td>\n",
       "    </tr>\n",
       "  </tbody>\n",
       "</table>\n",
       "</div>"
      ],
      "text/plain": [
       "  cell_line  CNN_auroc_mu  CNN_auroc_std  CNN_pcc_mu  CNN_pcc_std\n",
       "0      E116      0.906999       0.001565    0.773801     0.008594\n",
       "1      E122      0.878282       0.003869    0.724646     0.016385\n",
       "2      E123      0.913792       0.002093    0.782654     0.006321"
      ]
     },
     "execution_count": 5,
     "metadata": {},
     "output_type": "execute_result"
    }
   ],
   "source": [
    "CNN_df"
   ]
  },
  {
   "cell_type": "code",
   "execution_count": 6,
   "id": "0a8fc0d2-ef81-4572-b146-f2f0e94e898a",
   "metadata": {},
   "outputs": [
    {
     "data": {
      "text/html": [
       "<div>\n",
       "<style scoped>\n",
       "    .dataframe tbody tr th:only-of-type {\n",
       "        vertical-align: middle;\n",
       "    }\n",
       "\n",
       "    .dataframe tbody tr th {\n",
       "        vertical-align: top;\n",
       "    }\n",
       "\n",
       "    .dataframe thead th {\n",
       "        text-align: right;\n",
       "    }\n",
       "</style>\n",
       "<table border=\"1\" class=\"dataframe\">\n",
       "  <thead>\n",
       "    <tr style=\"text-align: right;\">\n",
       "      <th></th>\n",
       "      <th>cell_line</th>\n",
       "      <th>GC-MERGE_auroc_mu</th>\n",
       "      <th>GC-MERGE_auroc_std</th>\n",
       "      <th>GC-MERGE_pcc_mu</th>\n",
       "      <th>GC-MERGE_pcc_std</th>\n",
       "    </tr>\n",
       "  </thead>\n",
       "  <tbody>\n",
       "    <tr>\n",
       "      <th>0</th>\n",
       "      <td>E116</td>\n",
       "      <td>0.911711</td>\n",
       "      <td>0.006064</td>\n",
       "      <td>0.771114</td>\n",
       "      <td>0.016954</td>\n",
       "    </tr>\n",
       "    <tr>\n",
       "      <th>1</th>\n",
       "      <td>E122</td>\n",
       "      <td>0.902928</td>\n",
       "      <td>0.010035</td>\n",
       "      <td>0.744150</td>\n",
       "      <td>0.024400</td>\n",
       "    </tr>\n",
       "    <tr>\n",
       "      <th>2</th>\n",
       "      <td>E123</td>\n",
       "      <td>0.926258</td>\n",
       "      <td>0.007558</td>\n",
       "      <td>0.788237</td>\n",
       "      <td>0.022091</td>\n",
       "    </tr>\n",
       "  </tbody>\n",
       "</table>\n",
       "</div>"
      ],
      "text/plain": [
       "  cell_line  GC-MERGE_auroc_mu  GC-MERGE_auroc_std  GC-MERGE_pcc_mu  \\\n",
       "0      E116           0.911711            0.006064         0.771114   \n",
       "1      E122           0.902928            0.010035         0.744150   \n",
       "2      E123           0.926258            0.007558         0.788237   \n",
       "\n",
       "   GC-MERGE_pcc_std  \n",
       "0          0.016954  \n",
       "1          0.024400  \n",
       "2          0.022091  "
      ]
     },
     "execution_count": 6,
     "metadata": {},
     "output_type": "execute_result"
    }
   ],
   "source": [
    "GCMERGE_df"
   ]
  },
  {
   "cell_type": "code",
   "execution_count": 7,
   "id": "9afe7ead-f0f3-4889-ba20-9e03c87cba06",
   "metadata": {},
   "outputs": [
    {
     "data": {
      "text/html": [
       "<div>\n",
       "<style scoped>\n",
       "    .dataframe tbody tr th:only-of-type {\n",
       "        vertical-align: middle;\n",
       "    }\n",
       "\n",
       "    .dataframe tbody tr th {\n",
       "        vertical-align: top;\n",
       "    }\n",
       "\n",
       "    .dataframe thead th {\n",
       "        text-align: right;\n",
       "    }\n",
       "</style>\n",
       "<table border=\"1\" class=\"dataframe\">\n",
       "  <thead>\n",
       "    <tr style=\"text-align: right;\">\n",
       "      <th></th>\n",
       "      <th>cell_line</th>\n",
       "      <th>GC-MERGE_auroc_mu</th>\n",
       "      <th>GC-MERGE_auroc_std</th>\n",
       "      <th>GC-MERGE_pcc_mu</th>\n",
       "      <th>GC-MERGE_pcc_std</th>\n",
       "      <th>MLP_auroc_mu</th>\n",
       "      <th>MLP_auroc_std</th>\n",
       "      <th>MLP_pcc_mu</th>\n",
       "      <th>MLP_pcc_std</th>\n",
       "      <th>CNN_auroc_mu</th>\n",
       "      <th>CNN_auroc_std</th>\n",
       "      <th>CNN_pcc_mu</th>\n",
       "      <th>CNN_pcc_std</th>\n",
       "    </tr>\n",
       "  </thead>\n",
       "  <tbody>\n",
       "    <tr>\n",
       "      <th>0</th>\n",
       "      <td>E116</td>\n",
       "      <td>0.911711</td>\n",
       "      <td>0.006064</td>\n",
       "      <td>0.771114</td>\n",
       "      <td>0.016954</td>\n",
       "      <td>0.907744</td>\n",
       "      <td>0.009392</td>\n",
       "      <td>0.767275</td>\n",
       "      <td>0.009781</td>\n",
       "      <td>0.906999</td>\n",
       "      <td>0.001565</td>\n",
       "      <td>0.773801</td>\n",
       "      <td>0.008594</td>\n",
       "    </tr>\n",
       "    <tr>\n",
       "      <th>1</th>\n",
       "      <td>E122</td>\n",
       "      <td>0.902928</td>\n",
       "      <td>0.010035</td>\n",
       "      <td>0.744150</td>\n",
       "      <td>0.024400</td>\n",
       "      <td>0.889378</td>\n",
       "      <td>0.008922</td>\n",
       "      <td>0.728302</td>\n",
       "      <td>0.020876</td>\n",
       "      <td>0.878282</td>\n",
       "      <td>0.003869</td>\n",
       "      <td>0.724646</td>\n",
       "      <td>0.016385</td>\n",
       "    </tr>\n",
       "    <tr>\n",
       "      <th>2</th>\n",
       "      <td>E123</td>\n",
       "      <td>0.926258</td>\n",
       "      <td>0.007558</td>\n",
       "      <td>0.788237</td>\n",
       "      <td>0.022091</td>\n",
       "      <td>0.920344</td>\n",
       "      <td>0.009770</td>\n",
       "      <td>0.785644</td>\n",
       "      <td>0.015155</td>\n",
       "      <td>0.913792</td>\n",
       "      <td>0.002093</td>\n",
       "      <td>0.782654</td>\n",
       "      <td>0.006321</td>\n",
       "    </tr>\n",
       "  </tbody>\n",
       "</table>\n",
       "</div>"
      ],
      "text/plain": [
       "  cell_line  GC-MERGE_auroc_mu  GC-MERGE_auroc_std  GC-MERGE_pcc_mu  \\\n",
       "0      E116           0.911711            0.006064         0.771114   \n",
       "1      E122           0.902928            0.010035         0.744150   \n",
       "2      E123           0.926258            0.007558         0.788237   \n",
       "\n",
       "   GC-MERGE_pcc_std  MLP_auroc_mu  MLP_auroc_std  MLP_pcc_mu  MLP_pcc_std  \\\n",
       "0          0.016954      0.907744       0.009392    0.767275     0.009781   \n",
       "1          0.024400      0.889378       0.008922    0.728302     0.020876   \n",
       "2          0.022091      0.920344       0.009770    0.785644     0.015155   \n",
       "\n",
       "   CNN_auroc_mu  CNN_auroc_std  CNN_pcc_mu  CNN_pcc_std  \n",
       "0      0.906999       0.001565    0.773801     0.008594  \n",
       "1      0.878282       0.003869    0.724646     0.016385  \n",
       "2      0.913792       0.002093    0.782654     0.006321  "
      ]
     },
     "execution_count": 7,
     "metadata": {},
     "output_type": "execute_result"
    }
   ],
   "source": [
    "merged_df = GCMERGE_df.merge(MLP_df, on='cell_line').merge(CNN_df, on='cell_line')\n",
    "merged_df"
   ]
  },
  {
   "cell_type": "code",
   "execution_count": 8,
   "id": "494a0a79-37b4-4a62-a36d-29b8498ed104",
   "metadata": {},
   "outputs": [
    {
     "data": {
      "text/plain": [
       "(array([[0.90774412, 0.88937842, 0.92034439],\n",
       "        [0.90699862, 0.87828182, 0.91379236],\n",
       "        [0.91171105, 0.90292816, 0.92625753]]),\n",
       " array([[0.0093924 , 0.00892162, 0.00976962],\n",
       "        [0.00156469, 0.00386885, 0.00209259],\n",
       "        [0.00606382, 0.01003533, 0.00755837]]))"
      ]
     },
     "execution_count": 8,
     "metadata": {},
     "output_type": "execute_result"
    }
   ],
   "source": [
    "cell_lines = [\"E116\", \"E123\", \"E122\"]\n",
    "models = ['MLP', 'CNN', 'GC-MERGE']\n",
    "means_auroc = merged_df[[f\"{model}_auroc_mu\" for model in models]].values.T\n",
    "stds_auroc = merged_df[[f\"{model}_auroc_std\" for model in models]].values.T\n",
    "means_auroc, stds_auroc"
   ]
  },
  {
   "cell_type": "code",
   "execution_count": 9,
   "id": "b8a23074-b707-4d7a-95c7-ad3e751f3c0e",
   "metadata": {},
   "outputs": [
    {
     "data": {
      "text/plain": [
       "(array([[0.76727474, 0.72830188, 0.78564395],\n",
       "        [0.77380092, 0.72464588, 0.78265358],\n",
       "        [0.77111376, 0.74415041, 0.78823737]]),\n",
       " array([[0.00978136, 0.02087614, 0.01515516],\n",
       "        [0.00859415, 0.01638523, 0.00632109],\n",
       "        [0.01695361, 0.0244001 , 0.02209078]]))"
      ]
     },
     "execution_count": 9,
     "metadata": {},
     "output_type": "execute_result"
    }
   ],
   "source": [
    "means_pcc = merged_df[[f\"{model}_pcc_mu\" for model in models]].values.T\n",
    "stds_pcc = merged_df[[f\"{model}_pcc_std\" for model in models]].values.T\n",
    "means_pcc, stds_pcc"
   ]
  },
  {
   "cell_type": "code",
   "execution_count": 10,
   "id": "aa731dbb-a8f5-4d28-a9a7-969eeab535f9",
   "metadata": {},
   "outputs": [],
   "source": [
    "x_pos = np.arange(len(cell_lines))\n",
    "bar_width = 0.25 \n",
    "colors = [\"#41106e\", \"#f00e1d\", \"#f08800\"]"
   ]
  },
  {
   "cell_type": "markdown",
   "id": "468a87ce-0688-40f2-a19e-f4974f92a736",
   "metadata": {},
   "source": [
    "# AUROC Bar Graph"
   ]
  },
  {
   "cell_type": "code",
   "execution_count": 11,
   "id": "0d0a852f-fc14-4eeb-a463-ca50a5b42b38",
   "metadata": {},
   "outputs": [
    {
     "data": {
      "image/png": "[encoded data removed]",
      "text/plain": [
       "<Figure size 1000x600 with 1 Axes>"
      ]
     },
     "metadata": {},
     "output_type": "display_data"
    },
    {
     "data": {
      "text/plain": [
       "<Figure size 640x480 with 0 Axes>"
      ]
     },
     "metadata": {},
     "output_type": "display_data"
    }
   ],
   "source": [
    "plt.figure(figsize=(10, 6))\n",
    "for i, (model, color) in enumerate(zip(models,colors)):\n",
    "    plt.bar(\n",
    "        x_pos + i * bar_width,\n",
    "        means_auroc[i],\n",
    "        yerr=stds_auroc[i],\n",
    "        capsize=5,\n",
    "        label=model,\n",
    "        width=bar_width, \n",
    "        color=color\n",
    "    )\n",
    "\n",
    "# Add labels and title\n",
    "plt.xticks(x_pos + bar_width, cell_lines)  \n",
    "plt.ylabel(\"AUROC\")\n",
    "plt.title(\"AUROC Scores for E116, E123, and E122 Cell Lines\")\n",
    "plt.legend()\n",
    "\n",
    "plt.ylim(0.8, 0.94)\n",
    "plt.tight_layout()\n",
    "plt.savefig('results/AUROC.png')\n",
    "plt.show()"
   ]
  },
  {
   "cell_type": "markdown",
   "id": "f1b3af49-9918-433b-9cdd-7befcb8a33a0",
   "metadata": {},
   "source": [
    "# PCC Bar Graph"
   ]
  },
  {
   "cell_type": "code",
   "execution_count": 12,
   "id": "6020c592-d95d-40d9-9bfe-8595925a0ffd",
   "metadata": {},
   "outputs": [
    {
     "data": {
      "image/png": "[encoded data removed]",
      "text/plain": [
       "<Figure size 1000x600 with 1 Axes>"
      ]
     },
     "metadata": {},
     "output_type": "display_data"
    },
    {
     "data": {
      "text/plain": [
       "<Figure size 640x480 with 0 Axes>"
      ]
     },
     "metadata": {},
     "output_type": "display_data"
    }
   ],
   "source": [
    "plt.figure(figsize=(10, 6))\n",
    "for i, (model, color) in enumerate(zip(models,colors)):\n",
    "    plt.bar(\n",
    "        x_pos + i * bar_width, \n",
    "        means_pcc[i], \n",
    "        yerr=stds_pcc[i], \n",
    "        capsize=5,  \n",
    "        label=model,\n",
    "        width=bar_width,\n",
    "        color=color\n",
    "    )\n",
    "\n",
    "# Add labels and title\n",
    "plt.xticks(x_pos + bar_width, cell_lines)\n",
    "plt.ylabel(\"PCC\")\n",
    "plt.title(\"PCC Scores for E116, E123, and E122 Cell Lines\")\n",
    "plt.legend()\n",
    "\n",
    "# Display the plot\n",
    "plt.ylim(0.68, 0.82)\n",
    "plt.tight_layout()\n",
    "plt.savefig('results/PCC.png')\n",
    "plt.show()"
   ]
  }
 ],
 "metadata": {
  "kernelspec": {
   "display_name": "Python 3 (ipykernel)",
   "language": "python",
   "name": "python3"
  },
  "language_info": {
   "codemirror_mode": {
    "name": "ipython",
    "version": 3
   },
   "file_extension": ".py",
   "mimetype": "text/x-python",
   "name": "python",
   "nbconvert_exporter": "python",
   "pygments_lexer": "ipython3",
   "version": "3.11.9"
  }
 },
 "nbformat": 4,
 "nbformat_minor": 5
}
