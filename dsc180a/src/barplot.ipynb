{
 "cells": [
  {
   "cell_type": "code",
   "execution_count": 1,
   "id": "d6c4e4d7-df7b-4ea3-a39c-c2b8502f3be3",
   "metadata": {},
   "outputs": [],
   "source": [
    "import pandas as pd\n",
    "import numpy as np\n",
    "import matplotlib.pyplot as plt\n",
    "import seaborn"
   ]
  },
  {
   "cell_type": "code",
   "execution_count": 2,
   "id": "643b17ed-582e-4199-8a03-ef488badf8ae",
   "metadata": {},
   "outputs": [],
   "source": [
    "MLP_df = pd.read_csv('results/MLP.csv')\n",
    "CNN_df = pd.read_csv('results/CNN.csv')\n",
    "GCMERGE_df = pd.read_csv('results/GCMERGE.csv')"
   ]
  },
  {
   "cell_type": "code",
   "execution_count": 3,
   "id": "bc7aefc3-8689-4ace-874c-a0028851b85d",
   "metadata": {},
   "outputs": [],
   "source": [
    "MLP_df = MLP_df.add_prefix('MLP_').rename(columns={'MLP_cell_line': 'cell_line'})\n",
    "CNN_df = CNN_df.add_prefix('CNN_').rename(columns={'CNN_cell_line': 'cell_line'})\n",
    "GCMERGE_df = GCMERGE_df.add_prefix('GC-MERGE_').rename(columns={'GC-MERGE_cell_line': 'cell_line'})"
   ]
  },
  {
   "cell_type": "code",
   "execution_count": 4,
   "id": "ff66fc12-9e6f-4b9c-a015-bc5a33a06b4b",
   "metadata": {},
   "outputs": [
    {
     "data": {
      "text/html": [
       "<div>\n",
       "<style scoped>\n",
       "    .dataframe tbody tr th:only-of-type {\n",
       "        vertical-align: middle;\n",
       "    }\n",
       "\n",
       "    .dataframe tbody tr th {\n",
       "        vertical-align: top;\n",
       "    }\n",
       "\n",
       "    .dataframe thead th {\n",
       "        text-align: right;\n",
       "    }\n",
       "</style>\n",
       "<table border=\"1\" class=\"dataframe\">\n",
       "  <thead>\n",
       "    <tr style=\"text-align: right;\">\n",
       "      <th></th>\n",
       "      <th>cell_line</th>\n",
       "      <th>MLP_auroc_mu</th>\n",
       "      <th>MLP_auroc_std</th>\n",
       "      <th>MLP_pcc_mu</th>\n",
       "      <th>MLP_pcc_std</th>\n",
       "    </tr>\n",
       "  </thead>\n",
       "  <tbody>\n",
       "    <tr>\n",
       "      <th>0</th>\n",
       "      <td>E116</td>\n",
       "      <td>0.906605</td>\n",
       "      <td>0.009987</td>\n",
       "      <td>0.764181</td>\n",
       "      <td>0.016639</td>\n",
       "    </tr>\n",
       "    <tr>\n",
       "      <th>1</th>\n",
       "      <td>E122</td>\n",
       "      <td>0.892412</td>\n",
       "      <td>0.010573</td>\n",
       "      <td>0.723698</td>\n",
       "      <td>0.029949</td>\n",
       "    </tr>\n",
       "    <tr>\n",
       "      <th>2</th>\n",
       "      <td>E123</td>\n",
       "      <td>0.918281</td>\n",
       "      <td>0.006657</td>\n",
       "      <td>0.782800</td>\n",
       "      <td>0.018913</td>\n",
       "    </tr>\n",
       "  </tbody>\n",
       "</table>\n",
       "</div>"
      ],
      "text/plain": [
       "  cell_line  MLP_auroc_mu  MLP_auroc_std  MLP_pcc_mu  MLP_pcc_std\n",
       "0      E116      0.906605       0.009987    0.764181     0.016639\n",
       "1      E122      0.892412       0.010573    0.723698     0.029949\n",
       "2      E123      0.918281       0.006657    0.782800     0.018913"
      ]
     },
     "execution_count": 4,
     "metadata": {},
     "output_type": "execute_result"
    }
   ],
   "source": [
    "MLP_df"
   ]
  },
  {
   "cell_type": "code",
   "execution_count": 5,
   "id": "742af4dc-2f3f-424b-a5d0-cf95d4864b08",
   "metadata": {
    "scrolled": true
   },
   "outputs": [
    {
     "data": {
      "text/html": [
       "<div>\n",
       "<style scoped>\n",
       "    .dataframe tbody tr th:only-of-type {\n",
       "        vertical-align: middle;\n",
       "    }\n",
       "\n",
       "    .dataframe tbody tr th {\n",
       "        vertical-align: top;\n",
       "    }\n",
       "\n",
       "    .dataframe thead th {\n",
       "        text-align: right;\n",
       "    }\n",
       "</style>\n",
       "<table border=\"1\" class=\"dataframe\">\n",
       "  <thead>\n",
       "    <tr style=\"text-align: right;\">\n",
       "      <th></th>\n",
       "      <th>cell_line</th>\n",
       "      <th>CNN_auroc_mu</th>\n",
       "      <th>CNN_auroc_std</th>\n",
       "      <th>CNN_pcc_mu</th>\n",
       "      <th>CNN_pcc_std</th>\n",
       "    </tr>\n",
       "  </thead>\n",
       "  <tbody>\n",
       "    <tr>\n",
       "      <th>0</th>\n",
       "      <td>E116</td>\n",
       "      <td>0.906885</td>\n",
       "      <td>0.002406</td>\n",
       "      <td>0.774956</td>\n",
       "      <td>0.007025</td>\n",
       "    </tr>\n",
       "    <tr>\n",
       "      <th>1</th>\n",
       "      <td>E122</td>\n",
       "      <td>0.890568</td>\n",
       "      <td>0.002996</td>\n",
       "      <td>0.723383</td>\n",
       "      <td>0.015368</td>\n",
       "    </tr>\n",
       "    <tr>\n",
       "      <th>2</th>\n",
       "      <td>E123</td>\n",
       "      <td>0.926766</td>\n",
       "      <td>0.002855</td>\n",
       "      <td>0.801633</td>\n",
       "      <td>0.011083</td>\n",
       "    </tr>\n",
       "  </tbody>\n",
       "</table>\n",
       "</div>"
      ],
      "text/plain": [
       "  cell_line  CNN_auroc_mu  CNN_auroc_std  CNN_pcc_mu  CNN_pcc_std\n",
       "0      E116      0.906885       0.002406    0.774956     0.007025\n",
       "1      E122      0.890568       0.002996    0.723383     0.015368\n",
       "2      E123      0.926766       0.002855    0.801633     0.011083"
      ]
     },
     "execution_count": 5,
     "metadata": {},
     "output_type": "execute_result"
    }
   ],
   "source": [
    "CNN_df"
   ]
  },
  {
   "cell_type": "code",
   "execution_count": 6,
   "id": "0a8fc0d2-ef81-4572-b146-f2f0e94e898a",
   "metadata": {},
   "outputs": [
    {
     "data": {
      "text/html": [
       "<div>\n",
       "<style scoped>\n",
       "    .dataframe tbody tr th:only-of-type {\n",
       "        vertical-align: middle;\n",
       "    }\n",
       "\n",
       "    .dataframe tbody tr th {\n",
       "        vertical-align: top;\n",
       "    }\n",
       "\n",
       "    .dataframe thead th {\n",
       "        text-align: right;\n",
       "    }\n",
       "</style>\n",
       "<table border=\"1\" class=\"dataframe\">\n",
       "  <thead>\n",
       "    <tr style=\"text-align: right;\">\n",
       "      <th></th>\n",
       "      <th>cell_line</th>\n",
       "      <th>GC-MERGE_auroc_mu</th>\n",
       "      <th>GC-MERGE_auroc_std</th>\n",
       "      <th>GC-MERGE_pcc_mu</th>\n",
       "      <th>GC-MERGE_pcc_std</th>\n",
       "    </tr>\n",
       "  </thead>\n",
       "  <tbody>\n",
       "    <tr>\n",
       "      <th>0</th>\n",
       "      <td>E116</td>\n",
       "      <td>0.912873</td>\n",
       "      <td>0.003854</td>\n",
       "      <td>0.778975</td>\n",
       "      <td>0.011006</td>\n",
       "    </tr>\n",
       "    <tr>\n",
       "      <th>1</th>\n",
       "      <td>E122</td>\n",
       "      <td>0.904813</td>\n",
       "      <td>0.007665</td>\n",
       "      <td>0.742654</td>\n",
       "      <td>0.020384</td>\n",
       "    </tr>\n",
       "    <tr>\n",
       "      <th>2</th>\n",
       "      <td>E123</td>\n",
       "      <td>0.927106</td>\n",
       "      <td>0.007539</td>\n",
       "      <td>0.790787</td>\n",
       "      <td>0.018534</td>\n",
       "    </tr>\n",
       "  </tbody>\n",
       "</table>\n",
       "</div>"
      ],
      "text/plain": [
       "  cell_line  GC-MERGE_auroc_mu  GC-MERGE_auroc_std  GC-MERGE_pcc_mu  \\\n",
       "0      E116           0.912873            0.003854         0.778975   \n",
       "1      E122           0.904813            0.007665         0.742654   \n",
       "2      E123           0.927106            0.007539         0.790787   \n",
       "\n",
       "   GC-MERGE_pcc_std  \n",
       "0          0.011006  \n",
       "1          0.020384  \n",
       "2          0.018534  "
      ]
     },
     "execution_count": 6,
     "metadata": {},
     "output_type": "execute_result"
    }
   ],
   "source": [
    "GCMERGE_df"
   ]
  },
  {
   "cell_type": "code",
   "execution_count": 7,
   "id": "9afe7ead-f0f3-4889-ba20-9e03c87cba06",
   "metadata": {},
   "outputs": [
    {
     "data": {
      "text/html": [
       "<div>\n",
       "<style scoped>\n",
       "    .dataframe tbody tr th:only-of-type {\n",
       "        vertical-align: middle;\n",
       "    }\n",
       "\n",
       "    .dataframe tbody tr th {\n",
       "        vertical-align: top;\n",
       "    }\n",
       "\n",
       "    .dataframe thead th {\n",
       "        text-align: right;\n",
       "    }\n",
       "</style>\n",
       "<table border=\"1\" class=\"dataframe\">\n",
       "  <thead>\n",
       "    <tr style=\"text-align: right;\">\n",
       "      <th></th>\n",
       "      <th>cell_line</th>\n",
       "      <th>GC-MERGE_auroc_mu</th>\n",
       "      <th>GC-MERGE_auroc_std</th>\n",
       "      <th>GC-MERGE_pcc_mu</th>\n",
       "      <th>GC-MERGE_pcc_std</th>\n",
       "      <th>MLP_auroc_mu</th>\n",
       "      <th>MLP_auroc_std</th>\n",
       "      <th>MLP_pcc_mu</th>\n",
       "      <th>MLP_pcc_std</th>\n",
       "      <th>CNN_auroc_mu</th>\n",
       "      <th>CNN_auroc_std</th>\n",
       "      <th>CNN_pcc_mu</th>\n",
       "      <th>CNN_pcc_std</th>\n",
       "    </tr>\n",
       "  </thead>\n",
       "  <tbody>\n",
       "    <tr>\n",
       "      <th>0</th>\n",
       "      <td>E116</td>\n",
       "      <td>0.912873</td>\n",
       "      <td>0.003854</td>\n",
       "      <td>0.778975</td>\n",
       "      <td>0.011006</td>\n",
       "      <td>0.906605</td>\n",
       "      <td>0.009987</td>\n",
       "      <td>0.764181</td>\n",
       "      <td>0.016639</td>\n",
       "      <td>0.906885</td>\n",
       "      <td>0.002406</td>\n",
       "      <td>0.774956</td>\n",
       "      <td>0.007025</td>\n",
       "    </tr>\n",
       "    <tr>\n",
       "      <th>1</th>\n",
       "      <td>E122</td>\n",
       "      <td>0.904813</td>\n",
       "      <td>0.007665</td>\n",
       "      <td>0.742654</td>\n",
       "      <td>0.020384</td>\n",
       "      <td>0.892412</td>\n",
       "      <td>0.010573</td>\n",
       "      <td>0.723698</td>\n",
       "      <td>0.029949</td>\n",
       "      <td>0.890568</td>\n",
       "      <td>0.002996</td>\n",
       "      <td>0.723383</td>\n",
       "      <td>0.015368</td>\n",
       "    </tr>\n",
       "    <tr>\n",
       "      <th>2</th>\n",
       "      <td>E123</td>\n",
       "      <td>0.927106</td>\n",
       "      <td>0.007539</td>\n",
       "      <td>0.790787</td>\n",
       "      <td>0.018534</td>\n",
       "      <td>0.918281</td>\n",
       "      <td>0.006657</td>\n",
       "      <td>0.782800</td>\n",
       "      <td>0.018913</td>\n",
       "      <td>0.926766</td>\n",
       "      <td>0.002855</td>\n",
       "      <td>0.801633</td>\n",
       "      <td>0.011083</td>\n",
       "    </tr>\n",
       "  </tbody>\n",
       "</table>\n",
       "</div>"
      ],
      "text/plain": [
       "  cell_line  GC-MERGE_auroc_mu  GC-MERGE_auroc_std  GC-MERGE_pcc_mu  \\\n",
       "0      E116           0.912873            0.003854         0.778975   \n",
       "1      E122           0.904813            0.007665         0.742654   \n",
       "2      E123           0.927106            0.007539         0.790787   \n",
       "\n",
       "   GC-MERGE_pcc_std  MLP_auroc_mu  MLP_auroc_std  MLP_pcc_mu  MLP_pcc_std  \\\n",
       "0          0.011006      0.906605       0.009987    0.764181     0.016639   \n",
       "1          0.020384      0.892412       0.010573    0.723698     0.029949   \n",
       "2          0.018534      0.918281       0.006657    0.782800     0.018913   \n",
       "\n",
       "   CNN_auroc_mu  CNN_auroc_std  CNN_pcc_mu  CNN_pcc_std  \n",
       "0      0.906885       0.002406    0.774956     0.007025  \n",
       "1      0.890568       0.002996    0.723383     0.015368  \n",
       "2      0.926766       0.002855    0.801633     0.011083  "
      ]
     },
     "execution_count": 7,
     "metadata": {},
     "output_type": "execute_result"
    }
   ],
   "source": [
    "merged_df = GCMERGE_df.merge(MLP_df, on='cell_line').merge(CNN_df, on='cell_line')\n",
    "merged_df"
   ]
  },
  {
   "cell_type": "code",
   "execution_count": 8,
   "id": "494a0a79-37b4-4a62-a36d-29b8498ed104",
   "metadata": {},
   "outputs": [
    {
     "data": {
      "text/plain": [
       "(array([[0.90660486, 0.89241172, 0.91828059],\n",
       "        [0.90688513, 0.89056796, 0.92676647],\n",
       "        [0.91287264, 0.90481334, 0.92710624]]),\n",
       " array([[0.00998704, 0.0105726 , 0.0066567 ],\n",
       "        [0.00240645, 0.00299639, 0.00285544],\n",
       "        [0.00385397, 0.00766508, 0.00753883]]))"
      ]
     },
     "execution_count": 8,
     "metadata": {},
     "output_type": "execute_result"
    }
   ],
   "source": [
    "cell_lines = [\"E116\", \"E123\", \"E122\"]\n",
    "models = ['MLP', 'CNN', 'GC-MERGE']\n",
    "means_auroc = merged_df[[f\"{model}_auroc_mu\" for model in models]].values.T\n",
    "stds_auroc = merged_df[[f\"{model}_auroc_std\" for model in models]].values.T\n",
    "means_auroc, stds_auroc"
   ]
  },
  {
   "cell_type": "code",
   "execution_count": 9,
   "id": "b8a23074-b707-4d7a-95c7-ad3e751f3c0e",
   "metadata": {},
   "outputs": [
    {
     "data": {
      "text/plain": [
       "(array([[0.7641811 , 0.72369794, 0.78279967],\n",
       "        [0.77495605, 0.72338335, 0.80163348],\n",
       "        [0.77897481, 0.74265411, 0.79078689]]),\n",
       " array([[0.01663876, 0.02994946, 0.01891292],\n",
       "        [0.00702537, 0.0153684 , 0.0110833 ],\n",
       "        [0.01100627, 0.02038392, 0.01853431]]))"
      ]
     },
     "execution_count": 9,
     "metadata": {},
     "output_type": "execute_result"
    }
   ],
   "source": [
    "means_pcc = merged_df[[f\"{model}_pcc_mu\" for model in models]].values.T\n",
    "stds_pcc = merged_df[[f\"{model}_pcc_std\" for model in models]].values.T\n",
    "means_pcc, stds_pcc"
   ]
  },
  {
   "cell_type": "code",
   "execution_count": 10,
   "id": "aa731dbb-a8f5-4d28-a9a7-969eeab535f9",
   "metadata": {},
   "outputs": [],
   "source": [
    "x_pos = np.arange(len(cell_lines))\n",
    "bar_width = 0.25 \n",
    "colors = [\"#41106e\", \"#f00e1d\", \"#f08800\"]"
   ]
  },
  {
   "cell_type": "markdown",
   "id": "468a87ce-0688-40f2-a19e-f4974f92a736",
   "metadata": {},
   "source": [
    "# AUROC Bar Graph"
   ]
  },
  {
   "cell_type": "code",
   "execution_count": 11,
   "id": "0d0a852f-fc14-4eeb-a463-ca50a5b42b38",
   "metadata": {},
   "outputs": [
    {
     "data": {
      "image/png": "[encoded data removed]",
      "text/plain": [
       "<Figure size 1000x600 with 1 Axes>"
      ]
     },
     "metadata": {},
     "output_type": "display_data"
    },
    {
     "data": {
      "text/plain": [
       "<Figure size 640x480 with 0 Axes>"
      ]
     },
     "metadata": {},
     "output_type": "display_data"
    }
   ],
   "source": [
    "plt.figure(figsize=(10, 6))\n",
    "for i, (model, color) in enumerate(zip(models,colors)):\n",
    "    plt.bar(\n",
    "        x_pos + i * bar_width,\n",
    "        means_auroc[i],\n",
    "        yerr=stds_auroc[i],\n",
    "        capsize=5,\n",
    "        label=model,\n",
    "        width=bar_width, \n",
    "        color=color\n",
    "    )\n",
    "\n",
    "# Add labels and title\n",
    "plt.xticks(x_pos + bar_width, cell_lines)  \n",
    "plt.ylabel(\"AUROC\")\n",
    "plt.title(\"AUROC Scores for E116, E123, and E122 Cell Lines\")\n",
    "plt.legend()\n",
    "\n",
    "plt.ylim(0.8, 0.94)\n",
    "plt.tight_layout()\n",
    "plt.show()\n",
    "plt.savefig('results/AUROC.png')"
   ]
  },
  {
   "cell_type": "markdown",
   "id": "f1b3af49-9918-433b-9cdd-7befcb8a33a0",
   "metadata": {},
   "source": [
    "# PCC Bar Graph"
   ]
  },
  {
   "cell_type": "code",
   "execution_count": 14,
   "id": "6020c592-d95d-40d9-9bfe-8595925a0ffd",
   "metadata": {},
   "outputs": [
    {
     "data": {
      "image/png": "[encoded data removed]",
      "text/plain": [
       "<Figure size 1000x600 with 1 Axes>"
      ]
     },
     "metadata": {},
     "output_type": "display_data"
    },
    {
     "data": {
      "text/plain": [
       "<Figure size 640x480 with 0 Axes>"
      ]
     },
     "metadata": {},
     "output_type": "display_data"
    }
   ],
   "source": [
    "plt.figure(figsize=(10, 6))\n",
    "for i, (model, color) in enumerate(zip(models,colors)):\n",
    "    plt.bar(\n",
    "        x_pos + i * bar_width, \n",
    "        means_pcc[i], \n",
    "        yerr=stds_pcc[i], \n",
    "        capsize=5,  \n",
    "        label=model,\n",
    "        width=bar_width,\n",
    "        color=color\n",
    "    )\n",
    "\n",
    "# Add labels and title\n",
    "plt.xticks(x_pos + bar_width, cell_lines)\n",
    "plt.ylabel(\"PCC\")\n",
    "plt.title(\"PCC Scores for E116, E123, and E122 Cell Lines\")\n",
    "plt.legend()\n",
    "\n",
    "# Display the plot\n",
    "plt.ylim(0.68, 0.82)\n",
    "plt.tight_layout()\n",
    "plt.show()\n",
    "plt.savefig('results/PCC.png')"
   ]
  }
 ],
 "metadata": {
  "kernelspec": {
   "display_name": "Python 3 (ipykernel)",
   "language": "python",
   "name": "python3"
  },
  "language_info": {
   "codemirror_mode": {
    "name": "ipython",
    "version": 3
   },
   "file_extension": ".py",
   "mimetype": "text/x-python",
   "name": "python",
   "nbconvert_exporter": "python",
   "pygments_lexer": "ipython3",
   "version": "3.11.9"
  }
 },
 "nbformat": 4,
 "nbformat_minor": 5
}
