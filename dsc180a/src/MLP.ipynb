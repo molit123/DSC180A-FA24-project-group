{
 "cells": [
  {
   "cell_type": "code",
   "execution_count": 1,
   "id": "92bd3045",
   "metadata": {},
   "outputs": [],
   "source": [
    "import os\n",
    "import argparse\n",
    "import time\n",
    "from datetime import datetime, date\n",
    "import random\n",
    "\n",
    "import numpy as np\n",
    "from scipy.sparse import load_npz\n",
    "from scipy.stats import pearsonr\n",
    "from sklearn.metrics import roc_auc_score, precision_recall_curve, auc\n",
    "import pandas as pd\n",
    "\n",
    "import torch\n",
    "import torch_geometric\n",
    "import torch.nn as nn\n",
    "from torch.utils.data import TensorDataset, DataLoader\n",
    "import torch.nn.functional as F\n",
    "\n",
    "from model_classes_ import MLP_Classification, MLP_Regression\n",
    "from custom_funcs import experiment_n"
   ]
  },
  {
   "cell_type": "code",
   "execution_count": 2,
   "id": "d19d13f6",
   "metadata": {},
   "outputs": [],
   "source": [
    "torch.cuda.empty_cache()"
   ]
  },
  {
   "cell_type": "code",
   "execution_count": 3,
   "id": "ccbd744c",
   "metadata": {},
   "outputs": [
    {
     "name": "stdout",
     "output_type": "stream",
     "text": [
      "True\n",
      "1\n",
      "0\n",
      "NVIDIA GeForce RTX 2060\n"
     ]
    }
   ],
   "source": [
    "# Check for GPU\n",
    "print(torch.cuda.is_available())  # True/False\n",
    "print(torch.cuda.device_count())  # Number of GPUs available\n",
    "print(torch.cuda.current_device())  # Current GPU ID (e.g., `0`)\n",
    "print(torch.cuda.get_device_name(0))  # GPU name"
   ]
  },
  {
   "cell_type": "code",
   "execution_count": 4,
   "id": "70354865",
   "metadata": {},
   "outputs": [],
   "source": [
    "# Hyperparameters\n",
    "chip_res = 10000\n",
    "hic_res = 10000\n",
    "num_hm = 6\n",
    "num_feat = int((hic_res/chip_res)*num_hm)\n",
    "\n",
    "# This function trains and evaluates models\n",
    "###Test for GPU availability\n",
    "cuda_flag = torch.cuda.is_available()\n",
    "if cuda_flag:  \n",
    "  dev = \"cuda\" \n",
    "else:\n",
    "  dev = \"cpu\"  \n",
    "device = torch.device(dev)  "
   ]
  },
  {
   "cell_type": "code",
   "execution_count": 5,
   "id": "30edcf58",
   "metadata": {},
   "outputs": [],
   "source": [
    "# Stores AUROC and PCC across all models for each cell line\n",
    "E116 = {'name': 'E116', 'AUROC': None, 'PCC': None}\n",
    "E122 = {'name': 'E122', 'AUROC': None, 'PCC': None}\n",
    "E123 = {'name': 'E123', 'AUROC': None, 'PCC': None}"
   ]
  },
  {
   "cell_type": "markdown",
   "id": "82b91ba7",
   "metadata": {},
   "source": [
    "## MLP Model"
   ]
  },
  {
   "cell_type": "code",
   "execution_count": 6,
   "id": "6b23c1cc",
   "metadata": {},
   "outputs": [],
   "source": [
    "# # Set random seed\n",
    "# random_seed = random.randint(0,10000)\n",
    "# random.seed(random_seed)\n",
    "# np.random.seed(random_seed)\n",
    "# torch.manual_seed(random_seed)"
   ]
  },
  {
   "cell_type": "code",
   "execution_count": 7,
   "id": "2816c72e-ef9c-4557-8a2c-2e609ba53b05",
   "metadata": {},
   "outputs": [],
   "source": [
    "# Hyperparameters\n",
    "chip_res = 10000\n",
    "hic_res = 10000\n",
    "num_hm = 6\n",
    "num_feat = int((hic_res/chip_res)*num_hm)\n",
    "regression_flag = 0\n",
    "max_epoch = 50\n",
    "learning_rate = 0.001\n",
    "num_lin_layers = 2\n",
    "lin_hidden_size = 100\n",
    "num_graph_conv_layers = 2\n",
    "graph_conv_embed_size = 256\n",
    "num_runs = 10\n",
    "graph_conv_layer_sizes = [num_feat] + \\\n",
    "        [int(max(graph_conv_embed_size, lin_hidden_size)) \\\n",
    "              for i in np.arange(1, num_graph_conv_layers, 1)] + [lin_hidden_size]\n",
    "\n",
    "lin_hidden_sizes_r = [graph_conv_layer_sizes[-1]] + \\\n",
    "        [int(max(lin_hidden_size, 1)) \\\n",
    "              for i in np.arange(1, num_lin_layers, 1)] + [1]\n",
    "lin_hidden_sizes_c = [graph_conv_layer_sizes[-1]] + \\\n",
    "        [int(max(lin_hidden_size, 2)) \\\n",
    "              for i in np.arange(1, num_lin_layers, 1)] + [2]"
   ]
  },
  {
   "cell_type": "code",
   "execution_count": 8,
   "id": "4e815f84-abed-4173-bd59-7cda4b3a4c3b",
   "metadata": {
    "scrolled": true
   },
   "outputs": [
    {
     "name": "stdout",
     "output_type": "stream",
     "text": [
      "Cell line: E116\n",
      "Classification Task...\n",
      "Iteration 1:\n",
      "\n",
      "\n",
      "Epoch 0 out of 50\n",
      "Elapsed time: 00:00:08\n",
      "Performance:\n",
      "Test AUROC: 0.8876631201128059 \n",
      "\n",
      "Iteration 2:\n",
      "\n",
      "\n",
      "Epoch 0 out of 50\n",
      "Elapsed time: 00:00:02\n",
      "Performance:\n",
      "Test AUROC: 0.9053118202983795 \n",
      "\n",
      "Iteration 3:\n",
      "\n",
      "\n",
      "Epoch 0 out of 50\n",
      "Elapsed time: 00:00:01\n",
      "Performance:\n",
      "Test AUROC: 0.902234504701629 \n",
      "\n",
      "Iteration 4:\n",
      "\n",
      "\n",
      "Epoch 0 out of 50\n",
      "Elapsed time: 00:00:01\n",
      "Performance:\n",
      "Test AUROC: 0.8933536221932645 \n",
      "\n",
      "Iteration 5:\n",
      "\n",
      "\n",
      "Epoch 0 out of 50\n",
      "Elapsed time: 00:00:01\n",
      "Performance:\n",
      "Test AUROC: 0.905409257855396 \n",
      "\n",
      "Iteration 6:\n",
      "\n",
      "\n",
      "Epoch 0 out of 50\n",
      "Elapsed time: 00:00:01\n",
      "Performance:\n",
      "Test AUROC: 0.9098585193877524 \n",
      "\n",
      "Iteration 7:\n",
      "\n",
      "\n",
      "Epoch 0 out of 50\n",
      "Elapsed time: 00:00:01\n",
      "Performance:\n",
      "Test AUROC: 0.918191861158067 \n",
      "\n",
      "Iteration 8:\n",
      "\n",
      "\n",
      "Epoch 0 out of 50\n",
      "Elapsed time: 00:00:01\n",
      "Performance:\n",
      "Test AUROC: 0.9225224213386563 \n",
      "\n",
      "Iteration 9:\n",
      "\n",
      "\n",
      "Epoch 0 out of 50\n",
      "Elapsed time: 00:00:01\n",
      "Performance:\n",
      "Test AUROC: 0.9087247618036266 \n",
      "\n",
      "Iteration 10:\n",
      "\n",
      "\n",
      "Epoch 0 out of 50\n",
      "Elapsed time: 00:00:01\n",
      "Performance:\n",
      "Test AUROC: 0.9127787247941941 \n",
      "\n",
      "Regression Task...\n",
      "Iteration 1:\n",
      "\n",
      "\n",
      "Epoch 0 out of 75\n"
     ]
    },
    {
     "name": "stderr",
     "output_type": "stream",
     "text": [
      "c:\\Users\\archi\\anaconda3\\envs\\asid\\lib\\site-packages\\torch\\nn\\modules\\loss.py:536: UserWarning: Using a target size (torch.Size([2505])) that is different to the input size (torch.Size([2505, 1])). This will likely lead to incorrect results due to broadcasting. Please ensure they have the same size.\n",
      "  return F.mse_loss(input, target, reduction=self.reduction)\n"
     ]
    },
    {
     "name": "stdout",
     "output_type": "stream",
     "text": [
      "Elapsed time: 00:00:02\n",
      "Performance:\n",
      "Test pearson: 0.7196668486553742 \n",
      "\n",
      "Iteration 2:\n",
      "\n",
      "\n",
      "Epoch 0 out of 75\n"
     ]
    },
    {
     "name": "stderr",
     "output_type": "stream",
     "text": [
      "c:\\Users\\archi\\anaconda3\\envs\\asid\\lib\\site-packages\\torch\\nn\\modules\\loss.py:536: UserWarning: Using a target size (torch.Size([2505])) that is different to the input size (torch.Size([2505, 1])). This will likely lead to incorrect results due to broadcasting. Please ensure they have the same size.\n",
      "  return F.mse_loss(input, target, reduction=self.reduction)\n"
     ]
    },
    {
     "name": "stdout",
     "output_type": "stream",
     "text": [
      "Elapsed time: 00:00:02\n",
      "Performance:\n",
      "Test pearson: 0.7619321091552888 \n",
      "\n",
      "Iteration 3:\n",
      "\n",
      "\n",
      "Epoch 0 out of 75\n"
     ]
    },
    {
     "name": "stderr",
     "output_type": "stream",
     "text": [
      "c:\\Users\\archi\\anaconda3\\envs\\asid\\lib\\site-packages\\torch\\nn\\modules\\loss.py:536: UserWarning: Using a target size (torch.Size([2505])) that is different to the input size (torch.Size([2505, 1])). This will likely lead to incorrect results due to broadcasting. Please ensure they have the same size.\n",
      "  return F.mse_loss(input, target, reduction=self.reduction)\n"
     ]
    },
    {
     "name": "stdout",
     "output_type": "stream",
     "text": [
      "Elapsed time: 00:00:02\n",
      "Performance:\n",
      "Test pearson: 0.7719210934241042 \n",
      "\n",
      "Iteration 4:\n",
      "\n",
      "\n",
      "Epoch 0 out of 75\n"
     ]
    },
    {
     "name": "stderr",
     "output_type": "stream",
     "text": [
      "c:\\Users\\archi\\anaconda3\\envs\\asid\\lib\\site-packages\\torch\\nn\\modules\\loss.py:536: UserWarning: Using a target size (torch.Size([2505])) that is different to the input size (torch.Size([2505, 1])). This will likely lead to incorrect results due to broadcasting. Please ensure they have the same size.\n",
      "  return F.mse_loss(input, target, reduction=self.reduction)\n"
     ]
    },
    {
     "name": "stdout",
     "output_type": "stream",
     "text": [
      "Elapsed time: 00:00:02\n",
      "Performance:\n",
      "Test pearson: 0.7640636066791061 \n",
      "\n",
      "Iteration 5:\n",
      "\n",
      "\n",
      "Epoch 0 out of 75\n"
     ]
    },
    {
     "name": "stderr",
     "output_type": "stream",
     "text": [
      "c:\\Users\\archi\\anaconda3\\envs\\asid\\lib\\site-packages\\torch\\nn\\modules\\loss.py:536: UserWarning: Using a target size (torch.Size([2505])) that is different to the input size (torch.Size([2505, 1])). This will likely lead to incorrect results due to broadcasting. Please ensure they have the same size.\n",
      "  return F.mse_loss(input, target, reduction=self.reduction)\n"
     ]
    },
    {
     "name": "stdout",
     "output_type": "stream",
     "text": [
      "Elapsed time: 00:00:02\n",
      "Performance:\n",
      "Test pearson: 0.75667038990519 \n",
      "\n",
      "Iteration 6:\n",
      "\n",
      "\n",
      "Epoch 0 out of 75\n"
     ]
    },
    {
     "name": "stderr",
     "output_type": "stream",
     "text": [
      "c:\\Users\\archi\\anaconda3\\envs\\asid\\lib\\site-packages\\torch\\nn\\modules\\loss.py:536: UserWarning: Using a target size (torch.Size([2505])) that is different to the input size (torch.Size([2505, 1])). This will likely lead to incorrect results due to broadcasting. Please ensure they have the same size.\n",
      "  return F.mse_loss(input, target, reduction=self.reduction)\n"
     ]
    },
    {
     "name": "stdout",
     "output_type": "stream",
     "text": [
      "Elapsed time: 00:00:02\n",
      "Performance:\n",
      "Test pearson: 0.7682614091689682 \n",
      "\n",
      "Iteration 7:\n",
      "\n",
      "\n",
      "Epoch 0 out of 75\n"
     ]
    },
    {
     "name": "stderr",
     "output_type": "stream",
     "text": [
      "c:\\Users\\archi\\anaconda3\\envs\\asid\\lib\\site-packages\\torch\\nn\\modules\\loss.py:536: UserWarning: Using a target size (torch.Size([2505])) that is different to the input size (torch.Size([2505, 1])). This will likely lead to incorrect results due to broadcasting. Please ensure they have the same size.\n",
      "  return F.mse_loss(input, target, reduction=self.reduction)\n"
     ]
    },
    {
     "name": "stdout",
     "output_type": "stream",
     "text": [
      "Elapsed time: 00:00:02\n",
      "Performance:\n",
      "Test pearson: 0.7745683861836107 \n",
      "\n",
      "Iteration 8:\n",
      "\n",
      "\n",
      "Epoch 0 out of 75\n"
     ]
    },
    {
     "name": "stderr",
     "output_type": "stream",
     "text": [
      "c:\\Users\\archi\\anaconda3\\envs\\asid\\lib\\site-packages\\torch\\nn\\modules\\loss.py:536: UserWarning: Using a target size (torch.Size([2505])) that is different to the input size (torch.Size([2505, 1])). This will likely lead to incorrect results due to broadcasting. Please ensure they have the same size.\n",
      "  return F.mse_loss(input, target, reduction=self.reduction)\n"
     ]
    },
    {
     "name": "stdout",
     "output_type": "stream",
     "text": [
      "Elapsed time: 00:00:02\n",
      "Performance:\n",
      "Test pearson: 0.7642545151905589 \n",
      "\n",
      "Iteration 9:\n",
      "\n",
      "\n",
      "Epoch 0 out of 75\n"
     ]
    },
    {
     "name": "stderr",
     "output_type": "stream",
     "text": [
      "c:\\Users\\archi\\anaconda3\\envs\\asid\\lib\\site-packages\\torch\\nn\\modules\\loss.py:536: UserWarning: Using a target size (torch.Size([2505])) that is different to the input size (torch.Size([2505, 1])). This will likely lead to incorrect results due to broadcasting. Please ensure they have the same size.\n",
      "  return F.mse_loss(input, target, reduction=self.reduction)\n"
     ]
    },
    {
     "name": "stdout",
     "output_type": "stream",
     "text": [
      "Elapsed time: 00:00:02\n",
      "Performance:\n",
      "Test pearson: 0.7838059638359237 \n",
      "\n",
      "Iteration 10:\n",
      "\n",
      "\n",
      "Epoch 0 out of 75\n"
     ]
    },
    {
     "name": "stderr",
     "output_type": "stream",
     "text": [
      "c:\\Users\\archi\\anaconda3\\envs\\asid\\lib\\site-packages\\torch\\nn\\modules\\loss.py:536: UserWarning: Using a target size (torch.Size([2505])) that is different to the input size (torch.Size([2505, 1])). This will likely lead to incorrect results due to broadcasting. Please ensure they have the same size.\n",
      "  return F.mse_loss(input, target, reduction=self.reduction)\n"
     ]
    },
    {
     "name": "stdout",
     "output_type": "stream",
     "text": [
      "Elapsed time: 00:00:02\n",
      "Performance:\n",
      "Test pearson: 0.7766666915790591 \n",
      "\n",
      "Cell line: E122\n",
      "Classification Task...\n",
      "Iteration 1:\n",
      "\n",
      "\n",
      "Epoch 0 out of 50\n",
      "Elapsed time: 00:00:01\n",
      "Performance:\n",
      "Test AUROC: 0.8674609361455115 \n",
      "\n",
      "Iteration 2:\n",
      "\n",
      "\n",
      "Epoch 0 out of 50\n",
      "Elapsed time: 00:00:01\n",
      "Performance:\n",
      "Test AUROC: 0.8822532017501836 \n",
      "\n",
      "Iteration 3:\n",
      "\n",
      "\n",
      "Epoch 0 out of 50\n",
      "Elapsed time: 00:00:01\n",
      "Performance:\n",
      "Test AUROC: 0.8959221688729226 \n",
      "\n",
      "Iteration 4:\n",
      "\n",
      "\n",
      "Epoch 0 out of 50\n",
      "Elapsed time: 00:00:01\n",
      "Performance:\n",
      "Test AUROC: 0.8917457208331734 \n",
      "\n",
      "Iteration 5:\n",
      "\n",
      "\n",
      "Epoch 0 out of 50\n",
      "Elapsed time: 00:00:01\n",
      "Performance:\n",
      "Test AUROC: 0.8902873199841482 \n",
      "\n",
      "Iteration 6:\n",
      "\n",
      "\n",
      "Epoch 0 out of 50\n",
      "Elapsed time: 00:00:01\n",
      "Performance:\n",
      "Test AUROC: 0.8935464573344214 \n",
      "\n",
      "Iteration 7:\n",
      "\n",
      "\n",
      "Epoch 0 out of 50\n",
      "Elapsed time: 00:00:01\n",
      "Performance:\n",
      "Test AUROC: 0.8952400453024321 \n",
      "\n",
      "Iteration 8:\n",
      "\n",
      "\n",
      "Epoch 0 out of 50\n",
      "Elapsed time: 00:00:01\n",
      "Performance:\n",
      "Test AUROC: 0.9080927962682385 \n",
      "\n",
      "Iteration 9:\n",
      "\n",
      "\n",
      "Epoch 0 out of 50\n",
      "Elapsed time: 00:00:01\n",
      "Performance:\n",
      "Test AUROC: 0.9021176904059786 \n",
      "\n",
      "Iteration 10:\n",
      "\n",
      "\n",
      "Epoch 0 out of 50\n",
      "Elapsed time: 00:00:01\n",
      "Performance:\n",
      "Test AUROC: 0.8974509123414545 \n",
      "\n",
      "Regression Task...\n",
      "Iteration 1:\n",
      "\n",
      "\n",
      "Epoch 0 out of 75\n"
     ]
    },
    {
     "name": "stderr",
     "output_type": "stream",
     "text": [
      "c:\\Users\\archi\\anaconda3\\envs\\asid\\lib\\site-packages\\torch\\nn\\modules\\loss.py:536: UserWarning: Using a target size (torch.Size([2502])) that is different to the input size (torch.Size([2502, 1])). This will likely lead to incorrect results due to broadcasting. Please ensure they have the same size.\n",
      "  return F.mse_loss(input, target, reduction=self.reduction)\n"
     ]
    },
    {
     "name": "stdout",
     "output_type": "stream",
     "text": [
      "Elapsed time: 00:00:02\n",
      "Performance:\n",
      "Test pearson: 0.6362626999252565 \n",
      "\n",
      "Iteration 2:\n",
      "\n",
      "\n",
      "Epoch 0 out of 75\n"
     ]
    },
    {
     "name": "stderr",
     "output_type": "stream",
     "text": [
      "c:\\Users\\archi\\anaconda3\\envs\\asid\\lib\\site-packages\\torch\\nn\\modules\\loss.py:536: UserWarning: Using a target size (torch.Size([2502])) that is different to the input size (torch.Size([2502, 1])). This will likely lead to incorrect results due to broadcasting. Please ensure they have the same size.\n",
      "  return F.mse_loss(input, target, reduction=self.reduction)\n"
     ]
    },
    {
     "name": "stdout",
     "output_type": "stream",
     "text": [
      "Elapsed time: 00:00:02\n",
      "Performance:\n",
      "Test pearson: 0.7255005220896544 \n",
      "\n",
      "Iteration 3:\n",
      "\n",
      "\n",
      "Epoch 0 out of 75\n"
     ]
    },
    {
     "name": "stderr",
     "output_type": "stream",
     "text": [
      "c:\\Users\\archi\\anaconda3\\envs\\asid\\lib\\site-packages\\torch\\nn\\modules\\loss.py:536: UserWarning: Using a target size (torch.Size([2502])) that is different to the input size (torch.Size([2502, 1])). This will likely lead to incorrect results due to broadcasting. Please ensure they have the same size.\n",
      "  return F.mse_loss(input, target, reduction=self.reduction)\n"
     ]
    },
    {
     "name": "stdout",
     "output_type": "stream",
     "text": [
      "Elapsed time: 00:00:02\n",
      "Performance:\n",
      "Test pearson: 0.7184199615814514 \n",
      "\n",
      "Iteration 4:\n",
      "\n",
      "\n",
      "Epoch 0 out of 75\n"
     ]
    },
    {
     "name": "stderr",
     "output_type": "stream",
     "text": [
      "c:\\Users\\archi\\anaconda3\\envs\\asid\\lib\\site-packages\\torch\\nn\\modules\\loss.py:536: UserWarning: Using a target size (torch.Size([2502])) that is different to the input size (torch.Size([2502, 1])). This will likely lead to incorrect results due to broadcasting. Please ensure they have the same size.\n",
      "  return F.mse_loss(input, target, reduction=self.reduction)\n"
     ]
    },
    {
     "name": "stdout",
     "output_type": "stream",
     "text": [
      "Elapsed time: 00:00:02\n",
      "Performance:\n",
      "Test pearson: 0.7295619958976622 \n",
      "\n",
      "Iteration 5:\n",
      "\n",
      "\n",
      "Epoch 0 out of 75\n"
     ]
    },
    {
     "name": "stderr",
     "output_type": "stream",
     "text": [
      "c:\\Users\\archi\\anaconda3\\envs\\asid\\lib\\site-packages\\torch\\nn\\modules\\loss.py:536: UserWarning: Using a target size (torch.Size([2502])) that is different to the input size (torch.Size([2502, 1])). This will likely lead to incorrect results due to broadcasting. Please ensure they have the same size.\n",
      "  return F.mse_loss(input, target, reduction=self.reduction)\n"
     ]
    },
    {
     "name": "stdout",
     "output_type": "stream",
     "text": [
      "Elapsed time: 00:00:02\n",
      "Performance:\n",
      "Test pearson: 0.7417074554995361 \n",
      "\n",
      "Iteration 6:\n",
      "\n",
      "\n",
      "Epoch 0 out of 75\n"
     ]
    },
    {
     "name": "stderr",
     "output_type": "stream",
     "text": [
      "c:\\Users\\archi\\anaconda3\\envs\\asid\\lib\\site-packages\\torch\\nn\\modules\\loss.py:536: UserWarning: Using a target size (torch.Size([2502])) that is different to the input size (torch.Size([2502, 1])). This will likely lead to incorrect results due to broadcasting. Please ensure they have the same size.\n",
      "  return F.mse_loss(input, target, reduction=self.reduction)\n"
     ]
    },
    {
     "name": "stdout",
     "output_type": "stream",
     "text": [
      "Elapsed time: 00:00:02\n",
      "Performance:\n",
      "Test pearson: 0.7377146939034056 \n",
      "\n",
      "Iteration 7:\n",
      "\n",
      "\n",
      "Epoch 0 out of 75\n"
     ]
    },
    {
     "name": "stderr",
     "output_type": "stream",
     "text": [
      "c:\\Users\\archi\\anaconda3\\envs\\asid\\lib\\site-packages\\torch\\nn\\modules\\loss.py:536: UserWarning: Using a target size (torch.Size([2502])) that is different to the input size (torch.Size([2502, 1])). This will likely lead to incorrect results due to broadcasting. Please ensure they have the same size.\n",
      "  return F.mse_loss(input, target, reduction=self.reduction)\n"
     ]
    },
    {
     "name": "stdout",
     "output_type": "stream",
     "text": [
      "Elapsed time: 00:00:02\n",
      "Performance:\n",
      "Test pearson: 0.7359480142187046 \n",
      "\n",
      "Iteration 8:\n",
      "\n",
      "\n",
      "Epoch 0 out of 75\n"
     ]
    },
    {
     "name": "stderr",
     "output_type": "stream",
     "text": [
      "c:\\Users\\archi\\anaconda3\\envs\\asid\\lib\\site-packages\\torch\\nn\\modules\\loss.py:536: UserWarning: Using a target size (torch.Size([2502])) that is different to the input size (torch.Size([2502, 1])). This will likely lead to incorrect results due to broadcasting. Please ensure they have the same size.\n",
      "  return F.mse_loss(input, target, reduction=self.reduction)\n"
     ]
    },
    {
     "name": "stdout",
     "output_type": "stream",
     "text": [
      "Elapsed time: 00:00:02\n",
      "Performance:\n",
      "Test pearson: 0.7357499222702285 \n",
      "\n",
      "Iteration 9:\n",
      "\n",
      "\n",
      "Epoch 0 out of 75\n"
     ]
    },
    {
     "name": "stderr",
     "output_type": "stream",
     "text": [
      "c:\\Users\\archi\\anaconda3\\envs\\asid\\lib\\site-packages\\torch\\nn\\modules\\loss.py:536: UserWarning: Using a target size (torch.Size([2502])) that is different to the input size (torch.Size([2502, 1])). This will likely lead to incorrect results due to broadcasting. Please ensure they have the same size.\n",
      "  return F.mse_loss(input, target, reduction=self.reduction)\n"
     ]
    },
    {
     "name": "stdout",
     "output_type": "stream",
     "text": [
      "Elapsed time: 00:00:02\n",
      "Performance:\n",
      "Test pearson: 0.7341331836170119 \n",
      "\n",
      "Iteration 10:\n",
      "\n",
      "\n",
      "Epoch 0 out of 75\n"
     ]
    },
    {
     "name": "stderr",
     "output_type": "stream",
     "text": [
      "c:\\Users\\archi\\anaconda3\\envs\\asid\\lib\\site-packages\\torch\\nn\\modules\\loss.py:536: UserWarning: Using a target size (torch.Size([2502])) that is different to the input size (torch.Size([2502, 1])). This will likely lead to incorrect results due to broadcasting. Please ensure they have the same size.\n",
      "  return F.mse_loss(input, target, reduction=self.reduction)\n"
     ]
    },
    {
     "name": "stdout",
     "output_type": "stream",
     "text": [
      "Elapsed time: 00:00:02\n",
      "Performance:\n",
      "Test pearson: 0.7419809407251355 \n",
      "\n",
      "Cell line: E123\n",
      "Classification Task...\n",
      "Iteration 1:\n",
      "\n",
      "\n",
      "Epoch 0 out of 50\n",
      "Elapsed time: 00:00:01\n",
      "Performance:\n",
      "Test AUROC: 0.906429951616737 \n",
      "\n",
      "Iteration 2:\n",
      "\n",
      "\n",
      "Epoch 0 out of 50\n",
      "Elapsed time: 00:00:01\n",
      "Performance:\n",
      "Test AUROC: 0.9096746523276841 \n",
      "\n",
      "Iteration 3:\n",
      "\n",
      "\n",
      "Epoch 0 out of 50\n",
      "Elapsed time: 00:00:01\n",
      "Performance:\n",
      "Test AUROC: 0.9173437516014308 \n",
      "\n",
      "Iteration 4:\n",
      "\n",
      "\n",
      "Epoch 0 out of 50\n",
      "Elapsed time: 00:00:01\n",
      "Performance:\n",
      "Test AUROC: 0.914615021135844 \n",
      "\n",
      "Iteration 5:\n",
      "\n",
      "\n",
      "Epoch 0 out of 50\n",
      "Elapsed time: 00:00:01\n",
      "Performance:\n",
      "Test AUROC: 0.9201915922619048 \n",
      "\n",
      "Iteration 6:\n",
      "\n",
      "\n",
      "Epoch 0 out of 50\n",
      "Elapsed time: 00:00:01\n",
      "Performance:\n",
      "Test AUROC: 0.9187653003718466 \n",
      "\n",
      "Iteration 7:\n",
      "\n",
      "\n",
      "Epoch 0 out of 50\n",
      "Elapsed time: 00:00:01\n",
      "Performance:\n",
      "Test AUROC: 0.9299928468328075 \n",
      "\n",
      "Iteration 8:\n",
      "\n",
      "\n",
      "Epoch 0 out of 50\n",
      "Elapsed time: 00:00:01\n",
      "Performance:\n",
      "Test AUROC: 0.9226539357510569 \n",
      "\n",
      "Iteration 9:\n",
      "\n",
      "\n",
      "Epoch 0 out of 50\n",
      "Elapsed time: 00:00:01\n",
      "Performance:\n",
      "Test AUROC: 0.9255993384842913 \n",
      "\n",
      "Iteration 10:\n",
      "\n",
      "\n",
      "Epoch 0 out of 50\n",
      "Elapsed time: 00:00:01\n",
      "Performance:\n",
      "Test AUROC: 0.9175395176853611 \n",
      "\n",
      "Regression Task...\n",
      "Iteration 1:\n",
      "\n",
      "\n",
      "Epoch 0 out of 75\n"
     ]
    },
    {
     "name": "stderr",
     "output_type": "stream",
     "text": [
      "c:\\Users\\archi\\anaconda3\\envs\\asid\\lib\\site-packages\\torch\\nn\\modules\\loss.py:536: UserWarning: Using a target size (torch.Size([2503])) that is different to the input size (torch.Size([2503, 1])). This will likely lead to incorrect results due to broadcasting. Please ensure they have the same size.\n",
      "  return F.mse_loss(input, target, reduction=self.reduction)\n"
     ]
    },
    {
     "name": "stdout",
     "output_type": "stream",
     "text": [
      "Elapsed time: 00:00:02\n",
      "Performance:\n",
      "Test pearson: 0.7299817775891344 \n",
      "\n",
      "Iteration 2:\n",
      "\n",
      "\n",
      "Epoch 0 out of 75\n"
     ]
    },
    {
     "name": "stderr",
     "output_type": "stream",
     "text": [
      "c:\\Users\\archi\\anaconda3\\envs\\asid\\lib\\site-packages\\torch\\nn\\modules\\loss.py:536: UserWarning: Using a target size (torch.Size([2503])) that is different to the input size (torch.Size([2503, 1])). This will likely lead to incorrect results due to broadcasting. Please ensure they have the same size.\n",
      "  return F.mse_loss(input, target, reduction=self.reduction)\n"
     ]
    },
    {
     "name": "stdout",
     "output_type": "stream",
     "text": [
      "Elapsed time: 00:00:02\n",
      "Performance:\n",
      "Test pearson: 0.7746930221192869 \n",
      "\n",
      "Iteration 3:\n",
      "\n",
      "\n",
      "Epoch 0 out of 75\n"
     ]
    },
    {
     "name": "stderr",
     "output_type": "stream",
     "text": [
      "c:\\Users\\archi\\anaconda3\\envs\\asid\\lib\\site-packages\\torch\\nn\\modules\\loss.py:536: UserWarning: Using a target size (torch.Size([2503])) that is different to the input size (torch.Size([2503, 1])). This will likely lead to incorrect results due to broadcasting. Please ensure they have the same size.\n",
      "  return F.mse_loss(input, target, reduction=self.reduction)\n"
     ]
    },
    {
     "name": "stdout",
     "output_type": "stream",
     "text": [
      "Elapsed time: 00:00:02\n",
      "Performance:\n",
      "Test pearson: 0.7886017295975379 \n",
      "\n",
      "Iteration 4:\n",
      "\n",
      "\n",
      "Epoch 0 out of 75\n"
     ]
    },
    {
     "name": "stderr",
     "output_type": "stream",
     "text": [
      "c:\\Users\\archi\\anaconda3\\envs\\asid\\lib\\site-packages\\torch\\nn\\modules\\loss.py:536: UserWarning: Using a target size (torch.Size([2503])) that is different to the input size (torch.Size([2503, 1])). This will likely lead to incorrect results due to broadcasting. Please ensure they have the same size.\n",
      "  return F.mse_loss(input, target, reduction=self.reduction)\n"
     ]
    },
    {
     "name": "stdout",
     "output_type": "stream",
     "text": [
      "Elapsed time: 00:00:02\n",
      "Performance:\n",
      "Test pearson: 0.7897534304210483 \n",
      "\n",
      "Iteration 5:\n",
      "\n",
      "\n",
      "Epoch 0 out of 75\n"
     ]
    },
    {
     "name": "stderr",
     "output_type": "stream",
     "text": [
      "c:\\Users\\archi\\anaconda3\\envs\\asid\\lib\\site-packages\\torch\\nn\\modules\\loss.py:536: UserWarning: Using a target size (torch.Size([2503])) that is different to the input size (torch.Size([2503, 1])). This will likely lead to incorrect results due to broadcasting. Please ensure they have the same size.\n",
      "  return F.mse_loss(input, target, reduction=self.reduction)\n"
     ]
    },
    {
     "name": "stdout",
     "output_type": "stream",
     "text": [
      "Elapsed time: 00:00:02\n",
      "Performance:\n",
      "Test pearson: 0.7843721145926588 \n",
      "\n",
      "Iteration 6:\n",
      "\n",
      "\n",
      "Epoch 0 out of 75\n"
     ]
    },
    {
     "name": "stderr",
     "output_type": "stream",
     "text": [
      "c:\\Users\\archi\\anaconda3\\envs\\asid\\lib\\site-packages\\torch\\nn\\modules\\loss.py:536: UserWarning: Using a target size (torch.Size([2503])) that is different to the input size (torch.Size([2503, 1])). This will likely lead to incorrect results due to broadcasting. Please ensure they have the same size.\n",
      "  return F.mse_loss(input, target, reduction=self.reduction)\n"
     ]
    },
    {
     "name": "stdout",
     "output_type": "stream",
     "text": [
      "Elapsed time: 00:00:02\n",
      "Performance:\n",
      "Test pearson: 0.785846473001265 \n",
      "\n",
      "Iteration 7:\n",
      "\n",
      "\n",
      "Epoch 0 out of 75\n"
     ]
    },
    {
     "name": "stderr",
     "output_type": "stream",
     "text": [
      "c:\\Users\\archi\\anaconda3\\envs\\asid\\lib\\site-packages\\torch\\nn\\modules\\loss.py:536: UserWarning: Using a target size (torch.Size([2503])) that is different to the input size (torch.Size([2503, 1])). This will likely lead to incorrect results due to broadcasting. Please ensure they have the same size.\n",
      "  return F.mse_loss(input, target, reduction=self.reduction)\n"
     ]
    },
    {
     "name": "stdout",
     "output_type": "stream",
     "text": [
      "Elapsed time: 00:00:02\n",
      "Performance:\n",
      "Test pearson: 0.7862045753189091 \n",
      "\n",
      "Iteration 8:\n",
      "\n",
      "\n",
      "Epoch 0 out of 75\n"
     ]
    },
    {
     "name": "stderr",
     "output_type": "stream",
     "text": [
      "c:\\Users\\archi\\anaconda3\\envs\\asid\\lib\\site-packages\\torch\\nn\\modules\\loss.py:536: UserWarning: Using a target size (torch.Size([2503])) that is different to the input size (torch.Size([2503, 1])). This will likely lead to incorrect results due to broadcasting. Please ensure they have the same size.\n",
      "  return F.mse_loss(input, target, reduction=self.reduction)\n"
     ]
    },
    {
     "name": "stdout",
     "output_type": "stream",
     "text": [
      "Elapsed time: 00:00:02\n",
      "Performance:\n",
      "Test pearson: 0.7905089204291257 \n",
      "\n",
      "Iteration 9:\n",
      "\n",
      "\n",
      "Epoch 0 out of 75\n"
     ]
    },
    {
     "name": "stderr",
     "output_type": "stream",
     "text": [
      "c:\\Users\\archi\\anaconda3\\envs\\asid\\lib\\site-packages\\torch\\nn\\modules\\loss.py:536: UserWarning: Using a target size (torch.Size([2503])) that is different to the input size (torch.Size([2503, 1])). This will likely lead to incorrect results due to broadcasting. Please ensure they have the same size.\n",
      "  return F.mse_loss(input, target, reduction=self.reduction)\n"
     ]
    },
    {
     "name": "stdout",
     "output_type": "stream",
     "text": [
      "Elapsed time: 00:00:11\n",
      "Performance:\n",
      "Test pearson: 0.8029359974463404 \n",
      "\n",
      "Iteration 10:\n",
      "\n",
      "\n",
      "Epoch 0 out of 75\n"
     ]
    },
    {
     "name": "stderr",
     "output_type": "stream",
     "text": [
      "c:\\Users\\archi\\anaconda3\\envs\\asid\\lib\\site-packages\\torch\\nn\\modules\\loss.py:536: UserWarning: Using a target size (torch.Size([2503])) that is different to the input size (torch.Size([2503, 1])). This will likely lead to incorrect results due to broadcasting. Please ensure they have the same size.\n",
      "  return F.mse_loss(input, target, reduction=self.reduction)\n"
     ]
    },
    {
     "name": "stdout",
     "output_type": "stream",
     "text": [
      "Elapsed time: 00:00:11\n",
      "Performance:\n",
      "Test pearson: 0.7950986977435135 \n",
      "\n"
     ]
    }
   ],
   "source": [
    "for cell_line in [E116, E122, E123]:\n",
    "        \n",
    "        print(f\"Cell line: {cell_line['name']}\")\n",
    "        experiment_n(\n",
    "            cell_line, \n",
    "            num_runs, \n",
    "            MLP_Classification(num_feat, lin_hidden_sizes_c, 2),\n",
    "            MLP_Regression(num_feat, lin_hidden_sizes_r, 1),\n",
    "            'MLP', \n",
    "            max_epoch=max_epoch\n",
    "        )"
   ]
  },
  {
   "cell_type": "code",
   "execution_count": 9,
   "id": "f0db670c",
   "metadata": {},
   "outputs": [
    {
     "name": "stdout",
     "output_type": "stream",
     "text": [
      "E116:{'name': 'E116', 'AUROC': (0.9066048613643771, 0.009987044003754822), 'PCC': (0.7641811013777184, 0.01663876169138925)}\n",
      "E122:{'name': 'E122', 'AUROC': (0.8924117249238466, 0.010572603824662628), 'PCC': (0.7236979389728047, 0.029949463726850884)}\n",
      "E123:{'name': 'E123', 'AUROC': (0.9182805908068964, 0.006656704207871221), 'PCC': (0.782799673825882, 0.018912920074783218)}\n"
     ]
    }
   ],
   "source": [
    "print(f'E116:{E116}')\n",
    "print(f'E122:{E122}')\n",
    "print(f'E123:{E123}')"
   ]
  },
  {
   "cell_type": "code",
   "execution_count": 10,
   "id": "d282e50c",
   "metadata": {},
   "outputs": [],
   "source": [
    "with open('results/MLP.csv', 'w') as f:\n",
    "    f.write('cell_line,auroc_mu,auroc_std,pcc_mu,pcc_std\\n')\n",
    "    f.write(f\"E116,{E116['AUROC'][0]},{E116['AUROC'][1]},{E116['PCC'][0]},{E116['PCC'][1]}\\n\")\n",
    "    f.write(f\"E122,{E122['AUROC'][0]},{E122['AUROC'][1]},{E122['PCC'][0]},{E122['PCC'][1]}\\n\")\n",
    "    f.write(f\"E123,{E123['AUROC'][0]},{E123['AUROC'][1]},{E123['PCC'][0]},{E123['PCC'][1]}\\n\")\n",
    "\n",
    "f.close()"
   ]
  }
 ],
 "metadata": {
  "kernelspec": {
   "display_name": "asid",
   "language": "python",
   "name": "python3"
  },
  "language_info": {
   "codemirror_mode": {
    "name": "ipython",
    "version": 3
   },
   "file_extension": ".py",
   "mimetype": "text/x-python",
   "name": "python",
   "nbconvert_exporter": "python",
   "pygments_lexer": "ipython3",
   "version": "3.8.20"
  }
 },
 "nbformat": 4,
 "nbformat_minor": 5
}
