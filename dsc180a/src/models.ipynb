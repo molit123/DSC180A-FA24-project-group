{
 "cells": [
  {
   "cell_type": "code",
   "execution_count": 1,
   "id": "92bd3045",
   "metadata": {},
   "outputs": [
    {
     "name": "stdout",
     "output_type": "stream",
     "text": [
      "run_models_.py\n",
      "Model date and time:\n",
      "2024-11-04-at-11-26-17 \n",
      "\n",
      "\n",
      "Cell line: E123\n",
      "Task: Regression\n",
      "ChIP-seq resolution: 10000\n",
      "\n",
      "\n",
      "Training set: 70%\n",
      "Validation set: 15%\n",
      "Testing set: 15%\n",
      "\n",
      "\n",
      "Model hyperparameters: \n",
      "Number of epochs: 1000\n",
      "Learning rate: 0.0001\n",
      "Number of graph convolutional layers: 2\n",
      "Graph convolutional embedding size: 256\n",
      "Number of linear layers: 3\n",
      "Linear hidden layer size: 256\n",
      "\n",
      "Model's state_dict:\n",
      "conv1.lin_l.weight \t torch.Size([256, 12])\n",
      "conv1.lin_l.bias \t torch.Size([256])\n",
      "conv2.lin_l.weight \t torch.Size([256, 512])\n",
      "conv2.lin_l.bias \t torch.Size([256])\n",
      "lin1.weight \t torch.Size([256, 256])\n",
      "lin1.bias \t torch.Size([256])\n",
      "lin2.weight \t torch.Size([256, 256])\n",
      "lin2.bias \t torch.Size([256])\n",
      "lin3.weight \t torch.Size([1, 256])\n",
      "lin3.bias \t torch.Size([1])\n",
      "\n",
      "\n",
      "Epoch 0 out of 1000\n",
      "Epoch 100 out of 1000\n",
      "Epoch 200 out of 1000\n",
      "Epoch 300 out of 1000\n",
      "Epoch 400 out of 1000\n",
      "Epoch 500 out of 1000\n",
      "Epoch 600 out of 1000\n",
      "Epoch 700 out of 1000\n",
      "Epoch 800 out of 1000\n",
      "Epoch 900 out of 1000\n",
      "/opt/conda/lib/python3.9/site-packages/numpy/lib/npyio.py:518: VisibleDeprecationWarning: Creating an ndarray from ragged nested sequences (which is a list-or-tuple of lists-or-tuples-or ndarrays with different lengths or shapes) is deprecated. If you meant to do this, you must specify 'dtype=object' when creating the ndarray.\n",
      "  arr = np.asanyarray(arr)\n",
      "/home/apimple/DSC180A-FA24-project-group/dsc180a/src/run_models_.py:656: FutureWarning: The behavior of DataFrame concatenation with empty or all-NA entries is deprecated. In a future version, this will no longer exclude empty or all-NA columns when determining the result dtypes. To retain the old behavior, exclude the relevant entries before the concat operation.\n",
      "  df_full_metrics = pd.concat([df_full_metrics, partial_metrics], ignore_index=True)\n",
      "Elapsed time: 00:03:04\n",
      "\n",
      "Performance:\n",
      "Test pearson: 0.8176393126509267 \n",
      "\n",
      "\u001b[0m"
     ]
    }
   ],
   "source": [
    "! python /home/apimple/DSC180A-FA24-project-group/dsc180a/src/run_models_.py -c E123 -rf 1 -me 1000"
   ]
  },
  {
   "cell_type": "code",
   "execution_count": null,
   "id": "7ed587a1",
   "metadata": {},
   "outputs": [],
   "source": []
  }
 ],
 "metadata": {
  "kernelspec": {
   "display_name": "Python 3 (ipykernel)",
   "language": "python",
   "name": "python3"
  },
  "language_info": {
   "codemirror_mode": {
    "name": "ipython",
    "version": 3
   },
   "file_extension": ".py",
   "mimetype": "text/x-python",
   "name": "python",
   "nbconvert_exporter": "python",
   "pygments_lexer": "ipython3",
   "version": "3.9.5"
  }
 },
 "nbformat": 4,
 "nbformat_minor": 5
}
