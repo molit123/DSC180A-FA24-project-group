{
 "cells": [
  {
   "cell_type": "code",
   "execution_count": 1,
   "metadata": {},
   "outputs": [],
   "source": [
    "import os\n",
    "import argparse\n",
    "import time\n",
    "from datetime import datetime, date\n",
    "import random\n",
    "\n",
    "import numpy as np\n",
    "from scipy.sparse import load_npz\n",
    "from scipy.stats import pearsonr\n",
    "from sklearn.metrics import roc_auc_score, precision_recall_curve, auc\n",
    "import pandas as pd\n",
    "\n",
    "import torch\n",
    "import torch_geometric\n",
    "import torch.nn as nn\n",
    "import matplotlib.pyplot as plt\n",
    "from torch.utils.data import TensorDataset, DataLoader\n",
    "import torch.nn.functional as F\n",
    "from scipy.stats import linregress\n",
    "\n",
    "from model_classes_ import GCN_classification, GCN_regression, MLP_Classification, MLP_Regression, CNN\n",
    "from custom_funcs import experiment_n"
   ]
  },
  {
   "cell_type": "code",
   "execution_count": 2,
   "metadata": {},
   "outputs": [],
   "source": [
    "torch.cuda.empty_cache()"
   ]
  },
  {
   "cell_type": "code",
   "execution_count": 3,
   "metadata": {},
   "outputs": [
    {
     "name": "stdout",
     "output_type": "stream",
     "text": [
      "True\n",
      "1\n",
      "0\n",
      "NVIDIA RTX A5000\n"
     ]
    }
   ],
   "source": [
    "# Check for GPU\n",
    "print(torch.cuda.is_available())  # True/False\n",
    "print(torch.cuda.device_count())  # Number of GPUs available\n",
    "print(torch.cuda.current_device())  # Current GPU ID (e.g., `0`)\n",
    "print(torch.cuda.get_device_name(0))  # GPU name"
   ]
  },
  {
   "cell_type": "code",
   "execution_count": 4,
   "metadata": {},
   "outputs": [],
   "source": [
    "# Hyperparameters\n",
    "chip_res = 10000\n",
    "hic_res = 10000\n",
    "num_hm = 6\n",
    "num_feat = int((hic_res/chip_res)*num_hm)\n",
    "regression_flag = 0\n",
    "max_epoch = 50\n",
    "learning_rate = 0.001\n",
    "num_lin_layers = 2\n",
    "lin_hidden_size = 100\n",
    "num_graph_conv_layers = 2\n",
    "graph_conv_embed_size = 256\n",
    "num_runs = 10\n",
    "graph_conv_layer_sizes = [num_feat] + \\\n",
    "        [int(max(graph_conv_embed_size, lin_hidden_size)) \\\n",
    "              for i in np.arange(1, num_graph_conv_layers, 1)] + [lin_hidden_size]\n",
    "\n",
    "lin_hidden_sizes_r = [graph_conv_layer_sizes[-1]] + \\\n",
    "        [int(max(lin_hidden_size, 1)) \\\n",
    "              for i in np.arange(1, num_lin_layers, 1)] + [1]\n",
    "lin_hidden_sizes_c = [graph_conv_layer_sizes[-1]] + \\\n",
    "        [int(max(lin_hidden_size, 2)) \\\n",
    "              for i in np.arange(1, num_lin_layers, 1)] + [2]"
   ]
  },
  {
   "cell_type": "code",
   "execution_count": 5,
   "metadata": {},
   "outputs": [],
   "source": [
    "# Stores AUROC and PCC across all models for each cell line\n",
    "E116 = {'name': 'E116', 'AUROC': None, 'PCC': None}\n",
    "E122 = {'name': 'E122', 'AUROC': None, 'PCC': None}\n",
    "E123 = {'name': 'E123', 'AUROC': None, 'PCC': None}"
   ]
  },
  {
   "cell_type": "code",
   "execution_count": 6,
   "metadata": {
    "scrolled": true
   },
   "outputs": [
    {
     "name": "stdout",
     "output_type": "stream",
     "text": [
      "Cell line: E116\n",
      "Classification Task...\n",
      "Iteration 1:\n",
      "\n",
      "\n",
      "Epoch 0 out of 50\n"
     ]
    },
    {
     "name": "stderr",
     "output_type": "stream",
     "text": [
      "/home/apimple/DSC180A-FA24-project-group/dsc180a/src/custom_funcs.py:493: FutureWarning: A value is trying to be set on a copy of a DataFrame or Series through chained assignment using an inplace method.\n",
      "The behavior will change in pandas 3.0. This inplace method will never work because the intermediate object on which we are setting values always behaves as a copy.\n",
      "\n",
      "For example, when doing 'df[col].method(value, inplace=True)', try using 'df.method({col: value}, inplace=True)' or df[col] = df[col].method(value) instead, to perform the operation inplace on the original object.\n",
      "\n",
      "\n",
      "  partial_metrics['Classification'].replace(to_replace=0, value='TN', inplace=True)\n",
      "/home/apimple/DSC180A-FA24-project-group/dsc180a/src/custom_funcs.py:493: FutureWarning: A value is trying to be set on a copy of a DataFrame or Series through chained assignment using an inplace method.\n",
      "The behavior will change in pandas 3.0. This inplace method will never work because the intermediate object on which we are setting values always behaves as a copy.\n",
      "\n",
      "For example, when doing 'df[col].method(value, inplace=True)', try using 'df.method({col: value}, inplace=True)' or df[col] = df[col].method(value) instead, to perform the operation inplace on the original object.\n",
      "\n",
      "\n",
      "  partial_metrics['Classification'].replace(to_replace=0, value='TN', inplace=True)\n",
      "/home/apimple/DSC180A-FA24-project-group/dsc180a/src/custom_funcs.py:493: FutureWarning: A value is trying to be set on a copy of a DataFrame or Series through chained assignment using an inplace method.\n",
      "The behavior will change in pandas 3.0. This inplace method will never work because the intermediate object on which we are setting values always behaves as a copy.\n",
      "\n",
      "For example, when doing 'df[col].method(value, inplace=True)', try using 'df.method({col: value}, inplace=True)' or df[col] = df[col].method(value) instead, to perform the operation inplace on the original object.\n",
      "\n",
      "\n",
      "  partial_metrics['Classification'].replace(to_replace=0, value='TN', inplace=True)\n"
     ]
    },
    {
     "name": "stdout",
     "output_type": "stream",
     "text": [
      "Elapsed time: 00:00:07\n",
      "Performance:\n",
      "Test AUROC: 0.9012264843974576 \n",
      "\n",
      "Iteration 2:\n",
      "\n",
      "\n",
      "Epoch 0 out of 50\n"
     ]
    },
    {
     "name": "stderr",
     "output_type": "stream",
     "text": [
      "/home/apimple/DSC180A-FA24-project-group/dsc180a/src/custom_funcs.py:493: FutureWarning: A value is trying to be set on a copy of a DataFrame or Series through chained assignment using an inplace method.\n",
      "The behavior will change in pandas 3.0. This inplace method will never work because the intermediate object on which we are setting values always behaves as a copy.\n",
      "\n",
      "For example, when doing 'df[col].method(value, inplace=True)', try using 'df.method({col: value}, inplace=True)' or df[col] = df[col].method(value) instead, to perform the operation inplace on the original object.\n",
      "\n",
      "\n",
      "  partial_metrics['Classification'].replace(to_replace=0, value='TN', inplace=True)\n",
      "/home/apimple/DSC180A-FA24-project-group/dsc180a/src/custom_funcs.py:493: FutureWarning: A value is trying to be set on a copy of a DataFrame or Series through chained assignment using an inplace method.\n",
      "The behavior will change in pandas 3.0. This inplace method will never work because the intermediate object on which we are setting values always behaves as a copy.\n",
      "\n",
      "For example, when doing 'df[col].method(value, inplace=True)', try using 'df.method({col: value}, inplace=True)' or df[col] = df[col].method(value) instead, to perform the operation inplace on the original object.\n",
      "\n",
      "\n",
      "  partial_metrics['Classification'].replace(to_replace=0, value='TN', inplace=True)\n",
      "/home/apimple/DSC180A-FA24-project-group/dsc180a/src/custom_funcs.py:493: FutureWarning: A value is trying to be set on a copy of a DataFrame or Series through chained assignment using an inplace method.\n",
      "The behavior will change in pandas 3.0. This inplace method will never work because the intermediate object on which we are setting values always behaves as a copy.\n",
      "\n",
      "For example, when doing 'df[col].method(value, inplace=True)', try using 'df.method({col: value}, inplace=True)' or df[col] = df[col].method(value) instead, to perform the operation inplace on the original object.\n",
      "\n",
      "\n",
      "  partial_metrics['Classification'].replace(to_replace=0, value='TN', inplace=True)\n"
     ]
    },
    {
     "name": "stdout",
     "output_type": "stream",
     "text": [
      "Elapsed time: 00:00:05\n",
      "Performance:\n",
      "Test AUROC: 0.9134348622820084 \n",
      "\n",
      "Iteration 3:\n",
      "\n",
      "\n",
      "Epoch 0 out of 50\n"
     ]
    },
    {
     "name": "stderr",
     "output_type": "stream",
     "text": [
      "/home/apimple/DSC180A-FA24-project-group/dsc180a/src/custom_funcs.py:493: FutureWarning: A value is trying to be set on a copy of a DataFrame or Series through chained assignment using an inplace method.\n",
      "The behavior will change in pandas 3.0. This inplace method will never work because the intermediate object on which we are setting values always behaves as a copy.\n",
      "\n",
      "For example, when doing 'df[col].method(value, inplace=True)', try using 'df.method({col: value}, inplace=True)' or df[col] = df[col].method(value) instead, to perform the operation inplace on the original object.\n",
      "\n",
      "\n",
      "  partial_metrics['Classification'].replace(to_replace=0, value='TN', inplace=True)\n",
      "/home/apimple/DSC180A-FA24-project-group/dsc180a/src/custom_funcs.py:493: FutureWarning: A value is trying to be set on a copy of a DataFrame or Series through chained assignment using an inplace method.\n",
      "The behavior will change in pandas 3.0. This inplace method will never work because the intermediate object on which we are setting values always behaves as a copy.\n",
      "\n",
      "For example, when doing 'df[col].method(value, inplace=True)', try using 'df.method({col: value}, inplace=True)' or df[col] = df[col].method(value) instead, to perform the operation inplace on the original object.\n",
      "\n",
      "\n",
      "  partial_metrics['Classification'].replace(to_replace=0, value='TN', inplace=True)\n",
      "/home/apimple/DSC180A-FA24-project-group/dsc180a/src/custom_funcs.py:493: FutureWarning: A value is trying to be set on a copy of a DataFrame or Series through chained assignment using an inplace method.\n",
      "The behavior will change in pandas 3.0. This inplace method will never work because the intermediate object on which we are setting values always behaves as a copy.\n",
      "\n",
      "For example, when doing 'df[col].method(value, inplace=True)', try using 'df.method({col: value}, inplace=True)' or df[col] = df[col].method(value) instead, to perform the operation inplace on the original object.\n",
      "\n",
      "\n",
      "  partial_metrics['Classification'].replace(to_replace=0, value='TN', inplace=True)\n"
     ]
    },
    {
     "name": "stdout",
     "output_type": "stream",
     "text": [
      "Elapsed time: 00:00:05\n",
      "Performance:\n",
      "Test AUROC: 0.9117877112822315 \n",
      "\n",
      "Iteration 4:\n",
      "\n",
      "\n",
      "Epoch 0 out of 50\n"
     ]
    },
    {
     "name": "stderr",
     "output_type": "stream",
     "text": [
      "/home/apimple/DSC180A-FA24-project-group/dsc180a/src/custom_funcs.py:493: FutureWarning: A value is trying to be set on a copy of a DataFrame or Series through chained assignment using an inplace method.\n",
      "The behavior will change in pandas 3.0. This inplace method will never work because the intermediate object on which we are setting values always behaves as a copy.\n",
      "\n",
      "For example, when doing 'df[col].method(value, inplace=True)', try using 'df.method({col: value}, inplace=True)' or df[col] = df[col].method(value) instead, to perform the operation inplace on the original object.\n",
      "\n",
      "\n",
      "  partial_metrics['Classification'].replace(to_replace=0, value='TN', inplace=True)\n",
      "/home/apimple/DSC180A-FA24-project-group/dsc180a/src/custom_funcs.py:493: FutureWarning: A value is trying to be set on a copy of a DataFrame or Series through chained assignment using an inplace method.\n",
      "The behavior will change in pandas 3.0. This inplace method will never work because the intermediate object on which we are setting values always behaves as a copy.\n",
      "\n",
      "For example, when doing 'df[col].method(value, inplace=True)', try using 'df.method({col: value}, inplace=True)' or df[col] = df[col].method(value) instead, to perform the operation inplace on the original object.\n",
      "\n",
      "\n",
      "  partial_metrics['Classification'].replace(to_replace=0, value='TN', inplace=True)\n",
      "/home/apimple/DSC180A-FA24-project-group/dsc180a/src/custom_funcs.py:493: FutureWarning: A value is trying to be set on a copy of a DataFrame or Series through chained assignment using an inplace method.\n",
      "The behavior will change in pandas 3.0. This inplace method will never work because the intermediate object on which we are setting values always behaves as a copy.\n",
      "\n",
      "For example, when doing 'df[col].method(value, inplace=True)', try using 'df.method({col: value}, inplace=True)' or df[col] = df[col].method(value) instead, to perform the operation inplace on the original object.\n",
      "\n",
      "\n",
      "  partial_metrics['Classification'].replace(to_replace=0, value='TN', inplace=True)\n"
     ]
    },
    {
     "name": "stdout",
     "output_type": "stream",
     "text": [
      "Elapsed time: 00:00:05\n",
      "Performance:\n",
      "Test AUROC: 0.9137673739426788 \n",
      "\n",
      "Iteration 5:\n",
      "\n",
      "\n",
      "Epoch 0 out of 50\n"
     ]
    },
    {
     "name": "stderr",
     "output_type": "stream",
     "text": [
      "/home/apimple/DSC180A-FA24-project-group/dsc180a/src/custom_funcs.py:493: FutureWarning: A value is trying to be set on a copy of a DataFrame or Series through chained assignment using an inplace method.\n",
      "The behavior will change in pandas 3.0. This inplace method will never work because the intermediate object on which we are setting values always behaves as a copy.\n",
      "\n",
      "For example, when doing 'df[col].method(value, inplace=True)', try using 'df.method({col: value}, inplace=True)' or df[col] = df[col].method(value) instead, to perform the operation inplace on the original object.\n",
      "\n",
      "\n",
      "  partial_metrics['Classification'].replace(to_replace=0, value='TN', inplace=True)\n",
      "/home/apimple/DSC180A-FA24-project-group/dsc180a/src/custom_funcs.py:493: FutureWarning: A value is trying to be set on a copy of a DataFrame or Series through chained assignment using an inplace method.\n",
      "The behavior will change in pandas 3.0. This inplace method will never work because the intermediate object on which we are setting values always behaves as a copy.\n",
      "\n",
      "For example, when doing 'df[col].method(value, inplace=True)', try using 'df.method({col: value}, inplace=True)' or df[col] = df[col].method(value) instead, to perform the operation inplace on the original object.\n",
      "\n",
      "\n",
      "  partial_metrics['Classification'].replace(to_replace=0, value='TN', inplace=True)\n",
      "/home/apimple/DSC180A-FA24-project-group/dsc180a/src/custom_funcs.py:493: FutureWarning: A value is trying to be set on a copy of a DataFrame or Series through chained assignment using an inplace method.\n",
      "The behavior will change in pandas 3.0. This inplace method will never work because the intermediate object on which we are setting values always behaves as a copy.\n",
      "\n",
      "For example, when doing 'df[col].method(value, inplace=True)', try using 'df.method({col: value}, inplace=True)' or df[col] = df[col].method(value) instead, to perform the operation inplace on the original object.\n",
      "\n",
      "\n",
      "  partial_metrics['Classification'].replace(to_replace=0, value='TN', inplace=True)\n"
     ]
    },
    {
     "name": "stdout",
     "output_type": "stream",
     "text": [
      "Elapsed time: 00:00:05\n",
      "Performance:\n",
      "Test AUROC: 0.8989397868049553 \n",
      "\n",
      "Iteration 6:\n",
      "\n",
      "\n",
      "Epoch 0 out of 50\n"
     ]
    },
    {
     "name": "stderr",
     "output_type": "stream",
     "text": [
      "/home/apimple/DSC180A-FA24-project-group/dsc180a/src/custom_funcs.py:493: FutureWarning: A value is trying to be set on a copy of a DataFrame or Series through chained assignment using an inplace method.\n",
      "The behavior will change in pandas 3.0. This inplace method will never work because the intermediate object on which we are setting values always behaves as a copy.\n",
      "\n",
      "For example, when doing 'df[col].method(value, inplace=True)', try using 'df.method({col: value}, inplace=True)' or df[col] = df[col].method(value) instead, to perform the operation inplace on the original object.\n",
      "\n",
      "\n",
      "  partial_metrics['Classification'].replace(to_replace=0, value='TN', inplace=True)\n",
      "/home/apimple/DSC180A-FA24-project-group/dsc180a/src/custom_funcs.py:493: FutureWarning: A value is trying to be set on a copy of a DataFrame or Series through chained assignment using an inplace method.\n",
      "The behavior will change in pandas 3.0. This inplace method will never work because the intermediate object on which we are setting values always behaves as a copy.\n",
      "\n",
      "For example, when doing 'df[col].method(value, inplace=True)', try using 'df.method({col: value}, inplace=True)' or df[col] = df[col].method(value) instead, to perform the operation inplace on the original object.\n",
      "\n",
      "\n",
      "  partial_metrics['Classification'].replace(to_replace=0, value='TN', inplace=True)\n",
      "/home/apimple/DSC180A-FA24-project-group/dsc180a/src/custom_funcs.py:493: FutureWarning: A value is trying to be set on a copy of a DataFrame or Series through chained assignment using an inplace method.\n",
      "The behavior will change in pandas 3.0. This inplace method will never work because the intermediate object on which we are setting values always behaves as a copy.\n",
      "\n",
      "For example, when doing 'df[col].method(value, inplace=True)', try using 'df.method({col: value}, inplace=True)' or df[col] = df[col].method(value) instead, to perform the operation inplace on the original object.\n",
      "\n",
      "\n",
      "  partial_metrics['Classification'].replace(to_replace=0, value='TN', inplace=True)\n"
     ]
    },
    {
     "name": "stdout",
     "output_type": "stream",
     "text": [
      "Elapsed time: 00:00:04\n",
      "Performance:\n",
      "Test AUROC: 0.9146184528936466 \n",
      "\n",
      "Iteration 7:\n",
      "\n",
      "\n",
      "Epoch 0 out of 50\n"
     ]
    },
    {
     "name": "stderr",
     "output_type": "stream",
     "text": [
      "/home/apimple/DSC180A-FA24-project-group/dsc180a/src/custom_funcs.py:493: FutureWarning: A value is trying to be set on a copy of a DataFrame or Series through chained assignment using an inplace method.\n",
      "The behavior will change in pandas 3.0. This inplace method will never work because the intermediate object on which we are setting values always behaves as a copy.\n",
      "\n",
      "For example, when doing 'df[col].method(value, inplace=True)', try using 'df.method({col: value}, inplace=True)' or df[col] = df[col].method(value) instead, to perform the operation inplace on the original object.\n",
      "\n",
      "\n",
      "  partial_metrics['Classification'].replace(to_replace=0, value='TN', inplace=True)\n",
      "/home/apimple/DSC180A-FA24-project-group/dsc180a/src/custom_funcs.py:493: FutureWarning: A value is trying to be set on a copy of a DataFrame or Series through chained assignment using an inplace method.\n",
      "The behavior will change in pandas 3.0. This inplace method will never work because the intermediate object on which we are setting values always behaves as a copy.\n",
      "\n",
      "For example, when doing 'df[col].method(value, inplace=True)', try using 'df.method({col: value}, inplace=True)' or df[col] = df[col].method(value) instead, to perform the operation inplace on the original object.\n",
      "\n",
      "\n",
      "  partial_metrics['Classification'].replace(to_replace=0, value='TN', inplace=True)\n",
      "/home/apimple/DSC180A-FA24-project-group/dsc180a/src/custom_funcs.py:493: FutureWarning: A value is trying to be set on a copy of a DataFrame or Series through chained assignment using an inplace method.\n",
      "The behavior will change in pandas 3.0. This inplace method will never work because the intermediate object on which we are setting values always behaves as a copy.\n",
      "\n",
      "For example, when doing 'df[col].method(value, inplace=True)', try using 'df.method({col: value}, inplace=True)' or df[col] = df[col].method(value) instead, to perform the operation inplace on the original object.\n",
      "\n",
      "\n",
      "  partial_metrics['Classification'].replace(to_replace=0, value='TN', inplace=True)\n"
     ]
    },
    {
     "name": "stdout",
     "output_type": "stream",
     "text": [
      "Elapsed time: 00:00:04\n",
      "Performance:\n",
      "Test AUROC: 0.9136784950014373 \n",
      "\n",
      "Iteration 8:\n",
      "\n",
      "\n",
      "Epoch 0 out of 50\n"
     ]
    },
    {
     "name": "stderr",
     "output_type": "stream",
     "text": [
      "/home/apimple/DSC180A-FA24-project-group/dsc180a/src/custom_funcs.py:493: FutureWarning: A value is trying to be set on a copy of a DataFrame or Series through chained assignment using an inplace method.\n",
      "The behavior will change in pandas 3.0. This inplace method will never work because the intermediate object on which we are setting values always behaves as a copy.\n",
      "\n",
      "For example, when doing 'df[col].method(value, inplace=True)', try using 'df.method({col: value}, inplace=True)' or df[col] = df[col].method(value) instead, to perform the operation inplace on the original object.\n",
      "\n",
      "\n",
      "  partial_metrics['Classification'].replace(to_replace=0, value='TN', inplace=True)\n",
      "/home/apimple/DSC180A-FA24-project-group/dsc180a/src/custom_funcs.py:493: FutureWarning: A value is trying to be set on a copy of a DataFrame or Series through chained assignment using an inplace method.\n",
      "The behavior will change in pandas 3.0. This inplace method will never work because the intermediate object on which we are setting values always behaves as a copy.\n",
      "\n",
      "For example, when doing 'df[col].method(value, inplace=True)', try using 'df.method({col: value}, inplace=True)' or df[col] = df[col].method(value) instead, to perform the operation inplace on the original object.\n",
      "\n",
      "\n",
      "  partial_metrics['Classification'].replace(to_replace=0, value='TN', inplace=True)\n",
      "/home/apimple/DSC180A-FA24-project-group/dsc180a/src/custom_funcs.py:493: FutureWarning: A value is trying to be set on a copy of a DataFrame or Series through chained assignment using an inplace method.\n",
      "The behavior will change in pandas 3.0. This inplace method will never work because the intermediate object on which we are setting values always behaves as a copy.\n",
      "\n",
      "For example, when doing 'df[col].method(value, inplace=True)', try using 'df.method({col: value}, inplace=True)' or df[col] = df[col].method(value) instead, to perform the operation inplace on the original object.\n",
      "\n",
      "\n",
      "  partial_metrics['Classification'].replace(to_replace=0, value='TN', inplace=True)\n"
     ]
    },
    {
     "name": "stdout",
     "output_type": "stream",
     "text": [
      "Elapsed time: 00:00:04\n",
      "Performance:\n",
      "Test AUROC: 0.9155369568702902 \n",
      "\n",
      "Iteration 9:\n",
      "\n",
      "\n",
      "Epoch 0 out of 50\n"
     ]
    },
    {
     "name": "stderr",
     "output_type": "stream",
     "text": [
      "/home/apimple/DSC180A-FA24-project-group/dsc180a/src/custom_funcs.py:493: FutureWarning: A value is trying to be set on a copy of a DataFrame or Series through chained assignment using an inplace method.\n",
      "The behavior will change in pandas 3.0. This inplace method will never work because the intermediate object on which we are setting values always behaves as a copy.\n",
      "\n",
      "For example, when doing 'df[col].method(value, inplace=True)', try using 'df.method({col: value}, inplace=True)' or df[col] = df[col].method(value) instead, to perform the operation inplace on the original object.\n",
      "\n",
      "\n",
      "  partial_metrics['Classification'].replace(to_replace=0, value='TN', inplace=True)\n",
      "/home/apimple/DSC180A-FA24-project-group/dsc180a/src/custom_funcs.py:493: FutureWarning: A value is trying to be set on a copy of a DataFrame or Series through chained assignment using an inplace method.\n",
      "The behavior will change in pandas 3.0. This inplace method will never work because the intermediate object on which we are setting values always behaves as a copy.\n",
      "\n",
      "For example, when doing 'df[col].method(value, inplace=True)', try using 'df.method({col: value}, inplace=True)' or df[col] = df[col].method(value) instead, to perform the operation inplace on the original object.\n",
      "\n",
      "\n",
      "  partial_metrics['Classification'].replace(to_replace=0, value='TN', inplace=True)\n",
      "/home/apimple/DSC180A-FA24-project-group/dsc180a/src/custom_funcs.py:493: FutureWarning: A value is trying to be set on a copy of a DataFrame or Series through chained assignment using an inplace method.\n",
      "The behavior will change in pandas 3.0. This inplace method will never work because the intermediate object on which we are setting values always behaves as a copy.\n",
      "\n",
      "For example, when doing 'df[col].method(value, inplace=True)', try using 'df.method({col: value}, inplace=True)' or df[col] = df[col].method(value) instead, to perform the operation inplace on the original object.\n",
      "\n",
      "\n",
      "  partial_metrics['Classification'].replace(to_replace=0, value='TN', inplace=True)\n"
     ]
    },
    {
     "name": "stdout",
     "output_type": "stream",
     "text": [
      "Elapsed time: 00:00:04\n",
      "Performance:\n",
      "Test AUROC: 0.9183395662506817 \n",
      "\n",
      "Iteration 10:\n",
      "\n",
      "\n",
      "Epoch 0 out of 50\n"
     ]
    },
    {
     "name": "stderr",
     "output_type": "stream",
     "text": [
      "/home/apimple/DSC180A-FA24-project-group/dsc180a/src/custom_funcs.py:493: FutureWarning: A value is trying to be set on a copy of a DataFrame or Series through chained assignment using an inplace method.\n",
      "The behavior will change in pandas 3.0. This inplace method will never work because the intermediate object on which we are setting values always behaves as a copy.\n",
      "\n",
      "For example, when doing 'df[col].method(value, inplace=True)', try using 'df.method({col: value}, inplace=True)' or df[col] = df[col].method(value) instead, to perform the operation inplace on the original object.\n",
      "\n",
      "\n",
      "  partial_metrics['Classification'].replace(to_replace=0, value='TN', inplace=True)\n",
      "/home/apimple/DSC180A-FA24-project-group/dsc180a/src/custom_funcs.py:493: FutureWarning: A value is trying to be set on a copy of a DataFrame or Series through chained assignment using an inplace method.\n",
      "The behavior will change in pandas 3.0. This inplace method will never work because the intermediate object on which we are setting values always behaves as a copy.\n",
      "\n",
      "For example, when doing 'df[col].method(value, inplace=True)', try using 'df.method({col: value}, inplace=True)' or df[col] = df[col].method(value) instead, to perform the operation inplace on the original object.\n",
      "\n",
      "\n",
      "  partial_metrics['Classification'].replace(to_replace=0, value='TN', inplace=True)\n",
      "/home/apimple/DSC180A-FA24-project-group/dsc180a/src/custom_funcs.py:493: FutureWarning: A value is trying to be set on a copy of a DataFrame or Series through chained assignment using an inplace method.\n",
      "The behavior will change in pandas 3.0. This inplace method will never work because the intermediate object on which we are setting values always behaves as a copy.\n",
      "\n",
      "For example, when doing 'df[col].method(value, inplace=True)', try using 'df.method({col: value}, inplace=True)' or df[col] = df[col].method(value) instead, to perform the operation inplace on the original object.\n",
      "\n",
      "\n",
      "  partial_metrics['Classification'].replace(to_replace=0, value='TN', inplace=True)\n"
     ]
    },
    {
     "name": "stdout",
     "output_type": "stream",
     "text": [
      "Elapsed time: 00:00:05\n",
      "Performance:\n",
      "Test AUROC: 0.9157807944874703 \n",
      "\n",
      "Regression Task...\n",
      "Iteration 1:\n",
      "\n",
      "\n",
      "Epoch 0 out of 75\n"
     ]
    },
    {
     "name": "stderr",
     "output_type": "stream",
     "text": [
      "/home/apimple/DSC180A-FA24-project-group/dsc180a/src/custom_funcs.py:553: FutureWarning: The behavior of DataFrame concatenation with empty or all-NA entries is deprecated. In a future version, this will no longer exclude empty or all-NA columns when determining the result dtypes. To retain the old behavior, exclude the relevant entries before the concat operation.\n",
      "  df_full_metrics = pd.concat([df_full_metrics, partial_metrics], ignore_index=True)\n"
     ]
    },
    {
     "name": "stdout",
     "output_type": "stream",
     "text": [
      "Elapsed time: 00:00:13\n",
      "Performance:\n",
      "Test pearson: 0.7330846729622997 \n",
      "\n",
      "Iteration 2:\n",
      "\n",
      "\n",
      "Epoch 0 out of 75\n"
     ]
    },
    {
     "name": "stderr",
     "output_type": "stream",
     "text": [
      "/home/apimple/DSC180A-FA24-project-group/dsc180a/src/custom_funcs.py:553: FutureWarning: The behavior of DataFrame concatenation with empty or all-NA entries is deprecated. In a future version, this will no longer exclude empty or all-NA columns when determining the result dtypes. To retain the old behavior, exclude the relevant entries before the concat operation.\n",
      "  df_full_metrics = pd.concat([df_full_metrics, partial_metrics], ignore_index=True)\n"
     ]
    },
    {
     "name": "stdout",
     "output_type": "stream",
     "text": [
      "Elapsed time: 00:00:13\n",
      "Performance:\n",
      "Test pearson: 0.7642608406436618 \n",
      "\n",
      "Iteration 3:\n",
      "\n",
      "\n",
      "Epoch 0 out of 75\n"
     ]
    },
    {
     "name": "stderr",
     "output_type": "stream",
     "text": [
      "/home/apimple/DSC180A-FA24-project-group/dsc180a/src/custom_funcs.py:553: FutureWarning: The behavior of DataFrame concatenation with empty or all-NA entries is deprecated. In a future version, this will no longer exclude empty or all-NA columns when determining the result dtypes. To retain the old behavior, exclude the relevant entries before the concat operation.\n",
      "  df_full_metrics = pd.concat([df_full_metrics, partial_metrics], ignore_index=True)\n"
     ]
    },
    {
     "name": "stdout",
     "output_type": "stream",
     "text": [
      "Elapsed time: 00:00:15\n",
      "Performance:\n",
      "Test pearson: 0.7754899622744905 \n",
      "\n",
      "Iteration 4:\n",
      "\n",
      "\n",
      "Epoch 0 out of 75\n"
     ]
    },
    {
     "name": "stderr",
     "output_type": "stream",
     "text": [
      "/home/apimple/DSC180A-FA24-project-group/dsc180a/src/custom_funcs.py:553: FutureWarning: The behavior of DataFrame concatenation with empty or all-NA entries is deprecated. In a future version, this will no longer exclude empty or all-NA columns when determining the result dtypes. To retain the old behavior, exclude the relevant entries before the concat operation.\n",
      "  df_full_metrics = pd.concat([df_full_metrics, partial_metrics], ignore_index=True)\n"
     ]
    },
    {
     "name": "stdout",
     "output_type": "stream",
     "text": [
      "Elapsed time: 00:00:16\n",
      "Performance:\n",
      "Test pearson: 0.7610386393135474 \n",
      "\n",
      "Iteration 5:\n",
      "\n",
      "\n",
      "Epoch 0 out of 75\n"
     ]
    },
    {
     "name": "stderr",
     "output_type": "stream",
     "text": [
      "/home/apimple/DSC180A-FA24-project-group/dsc180a/src/custom_funcs.py:553: FutureWarning: The behavior of DataFrame concatenation with empty or all-NA entries is deprecated. In a future version, this will no longer exclude empty or all-NA columns when determining the result dtypes. To retain the old behavior, exclude the relevant entries before the concat operation.\n",
      "  df_full_metrics = pd.concat([df_full_metrics, partial_metrics], ignore_index=True)\n"
     ]
    },
    {
     "name": "stdout",
     "output_type": "stream",
     "text": [
      "Elapsed time: 00:00:15\n",
      "Performance:\n",
      "Test pearson: 0.7534547095813321 \n",
      "\n",
      "Iteration 6:\n",
      "\n",
      "\n",
      "Epoch 0 out of 75\n"
     ]
    },
    {
     "name": "stderr",
     "output_type": "stream",
     "text": [
      "/home/apimple/DSC180A-FA24-project-group/dsc180a/src/custom_funcs.py:553: FutureWarning: The behavior of DataFrame concatenation with empty or all-NA entries is deprecated. In a future version, this will no longer exclude empty or all-NA columns when determining the result dtypes. To retain the old behavior, exclude the relevant entries before the concat operation.\n",
      "  df_full_metrics = pd.concat([df_full_metrics, partial_metrics], ignore_index=True)\n"
     ]
    },
    {
     "name": "stdout",
     "output_type": "stream",
     "text": [
      "Elapsed time: 00:00:13\n",
      "Performance:\n",
      "Test pearson: 0.783951951877163 \n",
      "\n",
      "Iteration 7:\n",
      "\n",
      "\n",
      "Epoch 0 out of 75\n"
     ]
    },
    {
     "name": "stderr",
     "output_type": "stream",
     "text": [
      "/home/apimple/DSC180A-FA24-project-group/dsc180a/src/custom_funcs.py:553: FutureWarning: The behavior of DataFrame concatenation with empty or all-NA entries is deprecated. In a future version, this will no longer exclude empty or all-NA columns when determining the result dtypes. To retain the old behavior, exclude the relevant entries before the concat operation.\n",
      "  df_full_metrics = pd.concat([df_full_metrics, partial_metrics], ignore_index=True)\n"
     ]
    },
    {
     "name": "stdout",
     "output_type": "stream",
     "text": [
      "Elapsed time: 00:00:13\n",
      "Performance:\n",
      "Test pearson: 0.7837828540459141 \n",
      "\n",
      "Iteration 8:\n",
      "\n",
      "\n",
      "Epoch 0 out of 75\n"
     ]
    },
    {
     "name": "stderr",
     "output_type": "stream",
     "text": [
      "/home/apimple/DSC180A-FA24-project-group/dsc180a/src/custom_funcs.py:553: FutureWarning: The behavior of DataFrame concatenation with empty or all-NA entries is deprecated. In a future version, this will no longer exclude empty or all-NA columns when determining the result dtypes. To retain the old behavior, exclude the relevant entries before the concat operation.\n",
      "  df_full_metrics = pd.concat([df_full_metrics, partial_metrics], ignore_index=True)\n"
     ]
    },
    {
     "name": "stdout",
     "output_type": "stream",
     "text": [
      "Elapsed time: 00:00:13\n",
      "Performance:\n",
      "Test pearson: 0.7835392190644261 \n",
      "\n",
      "Iteration 9:\n",
      "\n",
      "\n",
      "Epoch 0 out of 75\n"
     ]
    },
    {
     "name": "stderr",
     "output_type": "stream",
     "text": [
      "/home/apimple/DSC180A-FA24-project-group/dsc180a/src/custom_funcs.py:553: FutureWarning: The behavior of DataFrame concatenation with empty or all-NA entries is deprecated. In a future version, this will no longer exclude empty or all-NA columns when determining the result dtypes. To retain the old behavior, exclude the relevant entries before the concat operation.\n",
      "  df_full_metrics = pd.concat([df_full_metrics, partial_metrics], ignore_index=True)\n"
     ]
    },
    {
     "name": "stdout",
     "output_type": "stream",
     "text": [
      "Elapsed time: 00:00:13\n",
      "Performance:\n",
      "Test pearson: 0.7840770524864612 \n",
      "\n",
      "Iteration 10:\n",
      "\n",
      "\n",
      "Epoch 0 out of 75\n"
     ]
    },
    {
     "name": "stderr",
     "output_type": "stream",
     "text": [
      "/home/apimple/DSC180A-FA24-project-group/dsc180a/src/custom_funcs.py:553: FutureWarning: The behavior of DataFrame concatenation with empty or all-NA entries is deprecated. In a future version, this will no longer exclude empty or all-NA columns when determining the result dtypes. To retain the old behavior, exclude the relevant entries before the concat operation.\n",
      "  df_full_metrics = pd.concat([df_full_metrics, partial_metrics], ignore_index=True)\n"
     ]
    },
    {
     "name": "stdout",
     "output_type": "stream",
     "text": [
      "Elapsed time: 00:00:13\n",
      "Performance:\n",
      "Test pearson: 0.788457649002357 \n",
      "\n",
      "Cell line: E122\n",
      "Classification Task...\n",
      "Iteration 1:\n",
      "\n",
      "\n",
      "Epoch 0 out of 50\n"
     ]
    },
    {
     "name": "stderr",
     "output_type": "stream",
     "text": [
      "/home/apimple/DSC180A-FA24-project-group/dsc180a/src/custom_funcs.py:493: FutureWarning: A value is trying to be set on a copy of a DataFrame or Series through chained assignment using an inplace method.\n",
      "The behavior will change in pandas 3.0. This inplace method will never work because the intermediate object on which we are setting values always behaves as a copy.\n",
      "\n",
      "For example, when doing 'df[col].method(value, inplace=True)', try using 'df.method({col: value}, inplace=True)' or df[col] = df[col].method(value) instead, to perform the operation inplace on the original object.\n",
      "\n",
      "\n",
      "  partial_metrics['Classification'].replace(to_replace=0, value='TN', inplace=True)\n",
      "/home/apimple/DSC180A-FA24-project-group/dsc180a/src/custom_funcs.py:493: FutureWarning: A value is trying to be set on a copy of a DataFrame or Series through chained assignment using an inplace method.\n",
      "The behavior will change in pandas 3.0. This inplace method will never work because the intermediate object on which we are setting values always behaves as a copy.\n",
      "\n",
      "For example, when doing 'df[col].method(value, inplace=True)', try using 'df.method({col: value}, inplace=True)' or df[col] = df[col].method(value) instead, to perform the operation inplace on the original object.\n",
      "\n",
      "\n",
      "  partial_metrics['Classification'].replace(to_replace=0, value='TN', inplace=True)\n",
      "/home/apimple/DSC180A-FA24-project-group/dsc180a/src/custom_funcs.py:493: FutureWarning: A value is trying to be set on a copy of a DataFrame or Series through chained assignment using an inplace method.\n",
      "The behavior will change in pandas 3.0. This inplace method will never work because the intermediate object on which we are setting values always behaves as a copy.\n",
      "\n",
      "For example, when doing 'df[col].method(value, inplace=True)', try using 'df.method({col: value}, inplace=True)' or df[col] = df[col].method(value) instead, to perform the operation inplace on the original object.\n",
      "\n",
      "\n",
      "  partial_metrics['Classification'].replace(to_replace=0, value='TN', inplace=True)\n"
     ]
    },
    {
     "name": "stdout",
     "output_type": "stream",
     "text": [
      "Elapsed time: 00:00:04\n",
      "Performance:\n",
      "Test AUROC: 0.8798916068926242 \n",
      "\n",
      "Iteration 2:\n",
      "\n",
      "\n",
      "Epoch 0 out of 50\n"
     ]
    },
    {
     "name": "stderr",
     "output_type": "stream",
     "text": [
      "/home/apimple/DSC180A-FA24-project-group/dsc180a/src/custom_funcs.py:493: FutureWarning: A value is trying to be set on a copy of a DataFrame or Series through chained assignment using an inplace method.\n",
      "The behavior will change in pandas 3.0. This inplace method will never work because the intermediate object on which we are setting values always behaves as a copy.\n",
      "\n",
      "For example, when doing 'df[col].method(value, inplace=True)', try using 'df.method({col: value}, inplace=True)' or df[col] = df[col].method(value) instead, to perform the operation inplace on the original object.\n",
      "\n",
      "\n",
      "  partial_metrics['Classification'].replace(to_replace=0, value='TN', inplace=True)\n",
      "/home/apimple/DSC180A-FA24-project-group/dsc180a/src/custom_funcs.py:493: FutureWarning: A value is trying to be set on a copy of a DataFrame or Series through chained assignment using an inplace method.\n",
      "The behavior will change in pandas 3.0. This inplace method will never work because the intermediate object on which we are setting values always behaves as a copy.\n",
      "\n",
      "For example, when doing 'df[col].method(value, inplace=True)', try using 'df.method({col: value}, inplace=True)' or df[col] = df[col].method(value) instead, to perform the operation inplace on the original object.\n",
      "\n",
      "\n",
      "  partial_metrics['Classification'].replace(to_replace=0, value='TN', inplace=True)\n",
      "/home/apimple/DSC180A-FA24-project-group/dsc180a/src/custom_funcs.py:493: FutureWarning: A value is trying to be set on a copy of a DataFrame or Series through chained assignment using an inplace method.\n",
      "The behavior will change in pandas 3.0. This inplace method will never work because the intermediate object on which we are setting values always behaves as a copy.\n",
      "\n",
      "For example, when doing 'df[col].method(value, inplace=True)', try using 'df.method({col: value}, inplace=True)' or df[col] = df[col].method(value) instead, to perform the operation inplace on the original object.\n",
      "\n",
      "\n",
      "  partial_metrics['Classification'].replace(to_replace=0, value='TN', inplace=True)\n"
     ]
    },
    {
     "name": "stdout",
     "output_type": "stream",
     "text": [
      "Elapsed time: 00:00:04\n",
      "Performance:\n",
      "Test AUROC: 0.8960843431238601 \n",
      "\n",
      "Iteration 3:\n",
      "\n",
      "\n",
      "Epoch 0 out of 50\n"
     ]
    },
    {
     "name": "stderr",
     "output_type": "stream",
     "text": [
      "/home/apimple/DSC180A-FA24-project-group/dsc180a/src/custom_funcs.py:493: FutureWarning: A value is trying to be set on a copy of a DataFrame or Series through chained assignment using an inplace method.\n",
      "The behavior will change in pandas 3.0. This inplace method will never work because the intermediate object on which we are setting values always behaves as a copy.\n",
      "\n",
      "For example, when doing 'df[col].method(value, inplace=True)', try using 'df.method({col: value}, inplace=True)' or df[col] = df[col].method(value) instead, to perform the operation inplace on the original object.\n",
      "\n",
      "\n",
      "  partial_metrics['Classification'].replace(to_replace=0, value='TN', inplace=True)\n",
      "/home/apimple/DSC180A-FA24-project-group/dsc180a/src/custom_funcs.py:493: FutureWarning: A value is trying to be set on a copy of a DataFrame or Series through chained assignment using an inplace method.\n",
      "The behavior will change in pandas 3.0. This inplace method will never work because the intermediate object on which we are setting values always behaves as a copy.\n",
      "\n",
      "For example, when doing 'df[col].method(value, inplace=True)', try using 'df.method({col: value}, inplace=True)' or df[col] = df[col].method(value) instead, to perform the operation inplace on the original object.\n",
      "\n",
      "\n",
      "  partial_metrics['Classification'].replace(to_replace=0, value='TN', inplace=True)\n",
      "/home/apimple/DSC180A-FA24-project-group/dsc180a/src/custom_funcs.py:493: FutureWarning: A value is trying to be set on a copy of a DataFrame or Series through chained assignment using an inplace method.\n",
      "The behavior will change in pandas 3.0. This inplace method will never work because the intermediate object on which we are setting values always behaves as a copy.\n",
      "\n",
      "For example, when doing 'df[col].method(value, inplace=True)', try using 'df.method({col: value}, inplace=True)' or df[col] = df[col].method(value) instead, to perform the operation inplace on the original object.\n",
      "\n",
      "\n",
      "  partial_metrics['Classification'].replace(to_replace=0, value='TN', inplace=True)\n"
     ]
    },
    {
     "name": "stdout",
     "output_type": "stream",
     "text": [
      "Elapsed time: 00:00:04\n",
      "Performance:\n",
      "Test AUROC: 0.9077480714739034 \n",
      "\n",
      "Iteration 4:\n",
      "\n",
      "\n",
      "Epoch 0 out of 50\n"
     ]
    },
    {
     "name": "stderr",
     "output_type": "stream",
     "text": [
      "/home/apimple/DSC180A-FA24-project-group/dsc180a/src/custom_funcs.py:493: FutureWarning: A value is trying to be set on a copy of a DataFrame or Series through chained assignment using an inplace method.\n",
      "The behavior will change in pandas 3.0. This inplace method will never work because the intermediate object on which we are setting values always behaves as a copy.\n",
      "\n",
      "For example, when doing 'df[col].method(value, inplace=True)', try using 'df.method({col: value}, inplace=True)' or df[col] = df[col].method(value) instead, to perform the operation inplace on the original object.\n",
      "\n",
      "\n",
      "  partial_metrics['Classification'].replace(to_replace=0, value='TN', inplace=True)\n",
      "/home/apimple/DSC180A-FA24-project-group/dsc180a/src/custom_funcs.py:493: FutureWarning: A value is trying to be set on a copy of a DataFrame or Series through chained assignment using an inplace method.\n",
      "The behavior will change in pandas 3.0. This inplace method will never work because the intermediate object on which we are setting values always behaves as a copy.\n",
      "\n",
      "For example, when doing 'df[col].method(value, inplace=True)', try using 'df.method({col: value}, inplace=True)' or df[col] = df[col].method(value) instead, to perform the operation inplace on the original object.\n",
      "\n",
      "\n",
      "  partial_metrics['Classification'].replace(to_replace=0, value='TN', inplace=True)\n",
      "/home/apimple/DSC180A-FA24-project-group/dsc180a/src/custom_funcs.py:493: FutureWarning: A value is trying to be set on a copy of a DataFrame or Series through chained assignment using an inplace method.\n",
      "The behavior will change in pandas 3.0. This inplace method will never work because the intermediate object on which we are setting values always behaves as a copy.\n",
      "\n",
      "For example, when doing 'df[col].method(value, inplace=True)', try using 'df.method({col: value}, inplace=True)' or df[col] = df[col].method(value) instead, to perform the operation inplace on the original object.\n",
      "\n",
      "\n",
      "  partial_metrics['Classification'].replace(to_replace=0, value='TN', inplace=True)\n"
     ]
    },
    {
     "name": "stdout",
     "output_type": "stream",
     "text": [
      "Elapsed time: 00:00:04\n",
      "Performance:\n",
      "Test AUROC: 0.8950129873453353 \n",
      "\n",
      "Iteration 5:\n",
      "\n",
      "\n",
      "Epoch 0 out of 50\n"
     ]
    },
    {
     "name": "stderr",
     "output_type": "stream",
     "text": [
      "/home/apimple/DSC180A-FA24-project-group/dsc180a/src/custom_funcs.py:493: FutureWarning: A value is trying to be set on a copy of a DataFrame or Series through chained assignment using an inplace method.\n",
      "The behavior will change in pandas 3.0. This inplace method will never work because the intermediate object on which we are setting values always behaves as a copy.\n",
      "\n",
      "For example, when doing 'df[col].method(value, inplace=True)', try using 'df.method({col: value}, inplace=True)' or df[col] = df[col].method(value) instead, to perform the operation inplace on the original object.\n",
      "\n",
      "\n",
      "  partial_metrics['Classification'].replace(to_replace=0, value='TN', inplace=True)\n",
      "/home/apimple/DSC180A-FA24-project-group/dsc180a/src/custom_funcs.py:493: FutureWarning: A value is trying to be set on a copy of a DataFrame or Series through chained assignment using an inplace method.\n",
      "The behavior will change in pandas 3.0. This inplace method will never work because the intermediate object on which we are setting values always behaves as a copy.\n",
      "\n",
      "For example, when doing 'df[col].method(value, inplace=True)', try using 'df.method({col: value}, inplace=True)' or df[col] = df[col].method(value) instead, to perform the operation inplace on the original object.\n",
      "\n",
      "\n",
      "  partial_metrics['Classification'].replace(to_replace=0, value='TN', inplace=True)\n",
      "/home/apimple/DSC180A-FA24-project-group/dsc180a/src/custom_funcs.py:493: FutureWarning: A value is trying to be set on a copy of a DataFrame or Series through chained assignment using an inplace method.\n",
      "The behavior will change in pandas 3.0. This inplace method will never work because the intermediate object on which we are setting values always behaves as a copy.\n",
      "\n",
      "For example, when doing 'df[col].method(value, inplace=True)', try using 'df.method({col: value}, inplace=True)' or df[col] = df[col].method(value) instead, to perform the operation inplace on the original object.\n",
      "\n",
      "\n",
      "  partial_metrics['Classification'].replace(to_replace=0, value='TN', inplace=True)\n"
     ]
    },
    {
     "name": "stdout",
     "output_type": "stream",
     "text": [
      "Elapsed time: 00:00:04\n",
      "Performance:\n",
      "Test AUROC: 0.9081086916803693 \n",
      "\n",
      "Iteration 6:\n",
      "\n",
      "\n",
      "Epoch 0 out of 50\n"
     ]
    },
    {
     "name": "stderr",
     "output_type": "stream",
     "text": [
      "/home/apimple/DSC180A-FA24-project-group/dsc180a/src/custom_funcs.py:493: FutureWarning: A value is trying to be set on a copy of a DataFrame or Series through chained assignment using an inplace method.\n",
      "The behavior will change in pandas 3.0. This inplace method will never work because the intermediate object on which we are setting values always behaves as a copy.\n",
      "\n",
      "For example, when doing 'df[col].method(value, inplace=True)', try using 'df.method({col: value}, inplace=True)' or df[col] = df[col].method(value) instead, to perform the operation inplace on the original object.\n",
      "\n",
      "\n",
      "  partial_metrics['Classification'].replace(to_replace=0, value='TN', inplace=True)\n",
      "/home/apimple/DSC180A-FA24-project-group/dsc180a/src/custom_funcs.py:493: FutureWarning: A value is trying to be set on a copy of a DataFrame or Series through chained assignment using an inplace method.\n",
      "The behavior will change in pandas 3.0. This inplace method will never work because the intermediate object on which we are setting values always behaves as a copy.\n",
      "\n",
      "For example, when doing 'df[col].method(value, inplace=True)', try using 'df.method({col: value}, inplace=True)' or df[col] = df[col].method(value) instead, to perform the operation inplace on the original object.\n",
      "\n",
      "\n",
      "  partial_metrics['Classification'].replace(to_replace=0, value='TN', inplace=True)\n",
      "/home/apimple/DSC180A-FA24-project-group/dsc180a/src/custom_funcs.py:493: FutureWarning: A value is trying to be set on a copy of a DataFrame or Series through chained assignment using an inplace method.\n",
      "The behavior will change in pandas 3.0. This inplace method will never work because the intermediate object on which we are setting values always behaves as a copy.\n",
      "\n",
      "For example, when doing 'df[col].method(value, inplace=True)', try using 'df.method({col: value}, inplace=True)' or df[col] = df[col].method(value) instead, to perform the operation inplace on the original object.\n",
      "\n",
      "\n",
      "  partial_metrics['Classification'].replace(to_replace=0, value='TN', inplace=True)\n"
     ]
    },
    {
     "name": "stdout",
     "output_type": "stream",
     "text": [
      "Elapsed time: 00:00:04\n",
      "Performance:\n",
      "Test AUROC: 0.9067314417375983 \n",
      "\n",
      "Iteration 7:\n",
      "\n",
      "\n",
      "Epoch 0 out of 50\n"
     ]
    },
    {
     "name": "stderr",
     "output_type": "stream",
     "text": [
      "/home/apimple/DSC180A-FA24-project-group/dsc180a/src/custom_funcs.py:493: FutureWarning: A value is trying to be set on a copy of a DataFrame or Series through chained assignment using an inplace method.\n",
      "The behavior will change in pandas 3.0. This inplace method will never work because the intermediate object on which we are setting values always behaves as a copy.\n",
      "\n",
      "For example, when doing 'df[col].method(value, inplace=True)', try using 'df.method({col: value}, inplace=True)' or df[col] = df[col].method(value) instead, to perform the operation inplace on the original object.\n",
      "\n",
      "\n",
      "  partial_metrics['Classification'].replace(to_replace=0, value='TN', inplace=True)\n",
      "/home/apimple/DSC180A-FA24-project-group/dsc180a/src/custom_funcs.py:493: FutureWarning: A value is trying to be set on a copy of a DataFrame or Series through chained assignment using an inplace method.\n",
      "The behavior will change in pandas 3.0. This inplace method will never work because the intermediate object on which we are setting values always behaves as a copy.\n",
      "\n",
      "For example, when doing 'df[col].method(value, inplace=True)', try using 'df.method({col: value}, inplace=True)' or df[col] = df[col].method(value) instead, to perform the operation inplace on the original object.\n",
      "\n",
      "\n",
      "  partial_metrics['Classification'].replace(to_replace=0, value='TN', inplace=True)\n",
      "/home/apimple/DSC180A-FA24-project-group/dsc180a/src/custom_funcs.py:493: FutureWarning: A value is trying to be set on a copy of a DataFrame or Series through chained assignment using an inplace method.\n",
      "The behavior will change in pandas 3.0. This inplace method will never work because the intermediate object on which we are setting values always behaves as a copy.\n",
      "\n",
      "For example, when doing 'df[col].method(value, inplace=True)', try using 'df.method({col: value}, inplace=True)' or df[col] = df[col].method(value) instead, to perform the operation inplace on the original object.\n",
      "\n",
      "\n",
      "  partial_metrics['Classification'].replace(to_replace=0, value='TN', inplace=True)\n"
     ]
    },
    {
     "name": "stdout",
     "output_type": "stream",
     "text": [
      "Elapsed time: 00:00:04\n",
      "Performance:\n",
      "Test AUROC: 0.9025549304921829 \n",
      "\n",
      "Iteration 8:\n",
      "\n",
      "\n",
      "Epoch 0 out of 50\n"
     ]
    },
    {
     "name": "stderr",
     "output_type": "stream",
     "text": [
      "/home/apimple/DSC180A-FA24-project-group/dsc180a/src/custom_funcs.py:493: FutureWarning: A value is trying to be set on a copy of a DataFrame or Series through chained assignment using an inplace method.\n",
      "The behavior will change in pandas 3.0. This inplace method will never work because the intermediate object on which we are setting values always behaves as a copy.\n",
      "\n",
      "For example, when doing 'df[col].method(value, inplace=True)', try using 'df.method({col: value}, inplace=True)' or df[col] = df[col].method(value) instead, to perform the operation inplace on the original object.\n",
      "\n",
      "\n",
      "  partial_metrics['Classification'].replace(to_replace=0, value='TN', inplace=True)\n",
      "/home/apimple/DSC180A-FA24-project-group/dsc180a/src/custom_funcs.py:493: FutureWarning: A value is trying to be set on a copy of a DataFrame or Series through chained assignment using an inplace method.\n",
      "The behavior will change in pandas 3.0. This inplace method will never work because the intermediate object on which we are setting values always behaves as a copy.\n",
      "\n",
      "For example, when doing 'df[col].method(value, inplace=True)', try using 'df.method({col: value}, inplace=True)' or df[col] = df[col].method(value) instead, to perform the operation inplace on the original object.\n",
      "\n",
      "\n",
      "  partial_metrics['Classification'].replace(to_replace=0, value='TN', inplace=True)\n",
      "/home/apimple/DSC180A-FA24-project-group/dsc180a/src/custom_funcs.py:493: FutureWarning: A value is trying to be set on a copy of a DataFrame or Series through chained assignment using an inplace method.\n",
      "The behavior will change in pandas 3.0. This inplace method will never work because the intermediate object on which we are setting values always behaves as a copy.\n",
      "\n",
      "For example, when doing 'df[col].method(value, inplace=True)', try using 'df.method({col: value}, inplace=True)' or df[col] = df[col].method(value) instead, to perform the operation inplace on the original object.\n",
      "\n",
      "\n",
      "  partial_metrics['Classification'].replace(to_replace=0, value='TN', inplace=True)\n"
     ]
    },
    {
     "name": "stdout",
     "output_type": "stream",
     "text": [
      "Elapsed time: 00:00:04\n",
      "Performance:\n",
      "Test AUROC: 0.9028376841587606 \n",
      "\n",
      "Iteration 9:\n",
      "\n",
      "\n",
      "Epoch 0 out of 50\n"
     ]
    },
    {
     "name": "stderr",
     "output_type": "stream",
     "text": [
      "/home/apimple/DSC180A-FA24-project-group/dsc180a/src/custom_funcs.py:493: FutureWarning: A value is trying to be set on a copy of a DataFrame or Series through chained assignment using an inplace method.\n",
      "The behavior will change in pandas 3.0. This inplace method will never work because the intermediate object on which we are setting values always behaves as a copy.\n",
      "\n",
      "For example, when doing 'df[col].method(value, inplace=True)', try using 'df.method({col: value}, inplace=True)' or df[col] = df[col].method(value) instead, to perform the operation inplace on the original object.\n",
      "\n",
      "\n",
      "  partial_metrics['Classification'].replace(to_replace=0, value='TN', inplace=True)\n",
      "/home/apimple/DSC180A-FA24-project-group/dsc180a/src/custom_funcs.py:493: FutureWarning: A value is trying to be set on a copy of a DataFrame or Series through chained assignment using an inplace method.\n",
      "The behavior will change in pandas 3.0. This inplace method will never work because the intermediate object on which we are setting values always behaves as a copy.\n",
      "\n",
      "For example, when doing 'df[col].method(value, inplace=True)', try using 'df.method({col: value}, inplace=True)' or df[col] = df[col].method(value) instead, to perform the operation inplace on the original object.\n",
      "\n",
      "\n",
      "  partial_metrics['Classification'].replace(to_replace=0, value='TN', inplace=True)\n",
      "/home/apimple/DSC180A-FA24-project-group/dsc180a/src/custom_funcs.py:493: FutureWarning: A value is trying to be set on a copy of a DataFrame or Series through chained assignment using an inplace method.\n",
      "The behavior will change in pandas 3.0. This inplace method will never work because the intermediate object on which we are setting values always behaves as a copy.\n",
      "\n",
      "For example, when doing 'df[col].method(value, inplace=True)', try using 'df.method({col: value}, inplace=True)' or df[col] = df[col].method(value) instead, to perform the operation inplace on the original object.\n",
      "\n",
      "\n",
      "  partial_metrics['Classification'].replace(to_replace=0, value='TN', inplace=True)\n"
     ]
    },
    {
     "name": "stdout",
     "output_type": "stream",
     "text": [
      "Elapsed time: 00:00:04\n",
      "Performance:\n",
      "Test AUROC: 0.9138932829593681 \n",
      "\n",
      "Iteration 10:\n",
      "\n",
      "\n",
      "Epoch 0 out of 50\n"
     ]
    },
    {
     "name": "stderr",
     "output_type": "stream",
     "text": [
      "/home/apimple/DSC180A-FA24-project-group/dsc180a/src/custom_funcs.py:493: FutureWarning: A value is trying to be set on a copy of a DataFrame or Series through chained assignment using an inplace method.\n",
      "The behavior will change in pandas 3.0. This inplace method will never work because the intermediate object on which we are setting values always behaves as a copy.\n",
      "\n",
      "For example, when doing 'df[col].method(value, inplace=True)', try using 'df.method({col: value}, inplace=True)' or df[col] = df[col].method(value) instead, to perform the operation inplace on the original object.\n",
      "\n",
      "\n",
      "  partial_metrics['Classification'].replace(to_replace=0, value='TN', inplace=True)\n",
      "/home/apimple/DSC180A-FA24-project-group/dsc180a/src/custom_funcs.py:493: FutureWarning: A value is trying to be set on a copy of a DataFrame or Series through chained assignment using an inplace method.\n",
      "The behavior will change in pandas 3.0. This inplace method will never work because the intermediate object on which we are setting values always behaves as a copy.\n",
      "\n",
      "For example, when doing 'df[col].method(value, inplace=True)', try using 'df.method({col: value}, inplace=True)' or df[col] = df[col].method(value) instead, to perform the operation inplace on the original object.\n",
      "\n",
      "\n",
      "  partial_metrics['Classification'].replace(to_replace=0, value='TN', inplace=True)\n",
      "/home/apimple/DSC180A-FA24-project-group/dsc180a/src/custom_funcs.py:493: FutureWarning: A value is trying to be set on a copy of a DataFrame or Series through chained assignment using an inplace method.\n",
      "The behavior will change in pandas 3.0. This inplace method will never work because the intermediate object on which we are setting values always behaves as a copy.\n",
      "\n",
      "For example, when doing 'df[col].method(value, inplace=True)', try using 'df.method({col: value}, inplace=True)' or df[col] = df[col].method(value) instead, to perform the operation inplace on the original object.\n",
      "\n",
      "\n",
      "  partial_metrics['Classification'].replace(to_replace=0, value='TN', inplace=True)\n"
     ]
    },
    {
     "name": "stdout",
     "output_type": "stream",
     "text": [
      "Elapsed time: 00:00:04\n",
      "Performance:\n",
      "Test AUROC: 0.916418602083871 \n",
      "\n",
      "Regression Task...\n",
      "Iteration 1:\n",
      "\n",
      "\n",
      "Epoch 0 out of 75\n"
     ]
    },
    {
     "name": "stderr",
     "output_type": "stream",
     "text": [
      "/home/apimple/DSC180A-FA24-project-group/dsc180a/src/custom_funcs.py:553: FutureWarning: The behavior of DataFrame concatenation with empty or all-NA entries is deprecated. In a future version, this will no longer exclude empty or all-NA columns when determining the result dtypes. To retain the old behavior, exclude the relevant entries before the concat operation.\n",
      "  df_full_metrics = pd.concat([df_full_metrics, partial_metrics], ignore_index=True)\n"
     ]
    },
    {
     "name": "stdout",
     "output_type": "stream",
     "text": [
      "Elapsed time: 00:00:13\n",
      "Performance:\n",
      "Test pearson: 0.6834946823206376 \n",
      "\n",
      "Iteration 2:\n",
      "\n",
      "\n",
      "Epoch 0 out of 75\n"
     ]
    },
    {
     "name": "stderr",
     "output_type": "stream",
     "text": [
      "/home/apimple/DSC180A-FA24-project-group/dsc180a/src/custom_funcs.py:553: FutureWarning: The behavior of DataFrame concatenation with empty or all-NA entries is deprecated. In a future version, this will no longer exclude empty or all-NA columns when determining the result dtypes. To retain the old behavior, exclude the relevant entries before the concat operation.\n",
      "  df_full_metrics = pd.concat([df_full_metrics, partial_metrics], ignore_index=True)\n"
     ]
    },
    {
     "name": "stdout",
     "output_type": "stream",
     "text": [
      "Elapsed time: 00:00:13\n",
      "Performance:\n",
      "Test pearson: 0.719352180516028 \n",
      "\n",
      "Iteration 3:\n",
      "\n",
      "\n",
      "Epoch 0 out of 75\n"
     ]
    },
    {
     "name": "stderr",
     "output_type": "stream",
     "text": [
      "/home/apimple/DSC180A-FA24-project-group/dsc180a/src/custom_funcs.py:553: FutureWarning: The behavior of DataFrame concatenation with empty or all-NA entries is deprecated. In a future version, this will no longer exclude empty or all-NA columns when determining the result dtypes. To retain the old behavior, exclude the relevant entries before the concat operation.\n",
      "  df_full_metrics = pd.concat([df_full_metrics, partial_metrics], ignore_index=True)\n"
     ]
    },
    {
     "name": "stdout",
     "output_type": "stream",
     "text": [
      "Elapsed time: 00:00:13\n",
      "Performance:\n",
      "Test pearson: 0.7483823588735321 \n",
      "\n",
      "Iteration 4:\n",
      "\n",
      "\n",
      "Epoch 0 out of 75\n"
     ]
    },
    {
     "name": "stderr",
     "output_type": "stream",
     "text": [
      "/home/apimple/DSC180A-FA24-project-group/dsc180a/src/custom_funcs.py:553: FutureWarning: The behavior of DataFrame concatenation with empty or all-NA entries is deprecated. In a future version, this will no longer exclude empty or all-NA columns when determining the result dtypes. To retain the old behavior, exclude the relevant entries before the concat operation.\n",
      "  df_full_metrics = pd.concat([df_full_metrics, partial_metrics], ignore_index=True)\n"
     ]
    },
    {
     "name": "stdout",
     "output_type": "stream",
     "text": [
      "Elapsed time: 00:00:13\n",
      "Performance:\n",
      "Test pearson: 0.7395527854616859 \n",
      "\n",
      "Iteration 5:\n",
      "\n",
      "\n",
      "Epoch 0 out of 75\n"
     ]
    },
    {
     "name": "stderr",
     "output_type": "stream",
     "text": [
      "/home/apimple/DSC180A-FA24-project-group/dsc180a/src/custom_funcs.py:553: FutureWarning: The behavior of DataFrame concatenation with empty or all-NA entries is deprecated. In a future version, this will no longer exclude empty or all-NA columns when determining the result dtypes. To retain the old behavior, exclude the relevant entries before the concat operation.\n",
      "  df_full_metrics = pd.concat([df_full_metrics, partial_metrics], ignore_index=True)\n"
     ]
    },
    {
     "name": "stdout",
     "output_type": "stream",
     "text": [
      "Elapsed time: 00:00:14\n",
      "Performance:\n",
      "Test pearson: 0.7640434177603749 \n",
      "\n",
      "Iteration 6:\n",
      "\n",
      "\n",
      "Epoch 0 out of 75\n"
     ]
    },
    {
     "name": "stderr",
     "output_type": "stream",
     "text": [
      "/home/apimple/DSC180A-FA24-project-group/dsc180a/src/custom_funcs.py:553: FutureWarning: The behavior of DataFrame concatenation with empty or all-NA entries is deprecated. In a future version, this will no longer exclude empty or all-NA columns when determining the result dtypes. To retain the old behavior, exclude the relevant entries before the concat operation.\n",
      "  df_full_metrics = pd.concat([df_full_metrics, partial_metrics], ignore_index=True)\n"
     ]
    },
    {
     "name": "stdout",
     "output_type": "stream",
     "text": [
      "Elapsed time: 00:00:13\n",
      "Performance:\n",
      "Test pearson: 0.7415276491710533 \n",
      "\n",
      "Iteration 7:\n",
      "\n",
      "\n",
      "Epoch 0 out of 75\n"
     ]
    },
    {
     "name": "stderr",
     "output_type": "stream",
     "text": [
      "/home/apimple/DSC180A-FA24-project-group/dsc180a/src/custom_funcs.py:553: FutureWarning: The behavior of DataFrame concatenation with empty or all-NA entries is deprecated. In a future version, this will no longer exclude empty or all-NA columns when determining the result dtypes. To retain the old behavior, exclude the relevant entries before the concat operation.\n",
      "  df_full_metrics = pd.concat([df_full_metrics, partial_metrics], ignore_index=True)\n"
     ]
    },
    {
     "name": "stdout",
     "output_type": "stream",
     "text": [
      "Elapsed time: 00:00:14\n",
      "Performance:\n",
      "Test pearson: 0.7559100914126392 \n",
      "\n",
      "Iteration 8:\n",
      "\n",
      "\n",
      "Epoch 0 out of 75\n"
     ]
    },
    {
     "name": "stderr",
     "output_type": "stream",
     "text": [
      "/home/apimple/DSC180A-FA24-project-group/dsc180a/src/custom_funcs.py:553: FutureWarning: The behavior of DataFrame concatenation with empty or all-NA entries is deprecated. In a future version, this will no longer exclude empty or all-NA columns when determining the result dtypes. To retain the old behavior, exclude the relevant entries before the concat operation.\n",
      "  df_full_metrics = pd.concat([df_full_metrics, partial_metrics], ignore_index=True)\n"
     ]
    },
    {
     "name": "stdout",
     "output_type": "stream",
     "text": [
      "Elapsed time: 00:00:15\n",
      "Performance:\n",
      "Test pearson: 0.7614658099341942 \n",
      "\n",
      "Iteration 9:\n",
      "\n",
      "\n",
      "Epoch 0 out of 75\n"
     ]
    },
    {
     "name": "stderr",
     "output_type": "stream",
     "text": [
      "/home/apimple/DSC180A-FA24-project-group/dsc180a/src/custom_funcs.py:553: FutureWarning: The behavior of DataFrame concatenation with empty or all-NA entries is deprecated. In a future version, this will no longer exclude empty or all-NA columns when determining the result dtypes. To retain the old behavior, exclude the relevant entries before the concat operation.\n",
      "  df_full_metrics = pd.concat([df_full_metrics, partial_metrics], ignore_index=True)\n"
     ]
    },
    {
     "name": "stdout",
     "output_type": "stream",
     "text": [
      "Elapsed time: 00:00:13\n",
      "Performance:\n",
      "Test pearson: 0.7644779809286762 \n",
      "\n",
      "Iteration 10:\n",
      "\n",
      "\n",
      "Epoch 0 out of 75\n"
     ]
    },
    {
     "name": "stderr",
     "output_type": "stream",
     "text": [
      "/home/apimple/DSC180A-FA24-project-group/dsc180a/src/custom_funcs.py:553: FutureWarning: The behavior of DataFrame concatenation with empty or all-NA entries is deprecated. In a future version, this will no longer exclude empty or all-NA columns when determining the result dtypes. To retain the old behavior, exclude the relevant entries before the concat operation.\n",
      "  df_full_metrics = pd.concat([df_full_metrics, partial_metrics], ignore_index=True)\n"
     ]
    },
    {
     "name": "stdout",
     "output_type": "stream",
     "text": [
      "Elapsed time: 00:00:14\n",
      "Performance:\n",
      "Test pearson: 0.7632971199085055 \n",
      "\n",
      "Cell line: E123\n",
      "Classification Task...\n",
      "Iteration 1:\n",
      "\n",
      "\n",
      "Epoch 0 out of 50\n"
     ]
    },
    {
     "name": "stderr",
     "output_type": "stream",
     "text": [
      "/home/apimple/DSC180A-FA24-project-group/dsc180a/src/custom_funcs.py:493: FutureWarning: A value is trying to be set on a copy of a DataFrame or Series through chained assignment using an inplace method.\n",
      "The behavior will change in pandas 3.0. This inplace method will never work because the intermediate object on which we are setting values always behaves as a copy.\n",
      "\n",
      "For example, when doing 'df[col].method(value, inplace=True)', try using 'df.method({col: value}, inplace=True)' or df[col] = df[col].method(value) instead, to perform the operation inplace on the original object.\n",
      "\n",
      "\n",
      "  partial_metrics['Classification'].replace(to_replace=0, value='TN', inplace=True)\n",
      "/home/apimple/DSC180A-FA24-project-group/dsc180a/src/custom_funcs.py:493: FutureWarning: A value is trying to be set on a copy of a DataFrame or Series through chained assignment using an inplace method.\n",
      "The behavior will change in pandas 3.0. This inplace method will never work because the intermediate object on which we are setting values always behaves as a copy.\n",
      "\n",
      "For example, when doing 'df[col].method(value, inplace=True)', try using 'df.method({col: value}, inplace=True)' or df[col] = df[col].method(value) instead, to perform the operation inplace on the original object.\n",
      "\n",
      "\n",
      "  partial_metrics['Classification'].replace(to_replace=0, value='TN', inplace=True)\n",
      "/home/apimple/DSC180A-FA24-project-group/dsc180a/src/custom_funcs.py:493: FutureWarning: A value is trying to be set on a copy of a DataFrame or Series through chained assignment using an inplace method.\n",
      "The behavior will change in pandas 3.0. This inplace method will never work because the intermediate object on which we are setting values always behaves as a copy.\n",
      "\n",
      "For example, when doing 'df[col].method(value, inplace=True)', try using 'df.method({col: value}, inplace=True)' or df[col] = df[col].method(value) instead, to perform the operation inplace on the original object.\n",
      "\n",
      "\n",
      "  partial_metrics['Classification'].replace(to_replace=0, value='TN', inplace=True)\n"
     ]
    },
    {
     "name": "stdout",
     "output_type": "stream",
     "text": [
      "Elapsed time: 00:00:04\n",
      "Performance:\n",
      "Test AUROC: 0.9250518231010662 \n",
      "\n",
      "Iteration 2:\n",
      "\n",
      "\n",
      "Epoch 0 out of 50\n"
     ]
    },
    {
     "name": "stderr",
     "output_type": "stream",
     "text": [
      "/home/apimple/DSC180A-FA24-project-group/dsc180a/src/custom_funcs.py:493: FutureWarning: A value is trying to be set on a copy of a DataFrame or Series through chained assignment using an inplace method.\n",
      "The behavior will change in pandas 3.0. This inplace method will never work because the intermediate object on which we are setting values always behaves as a copy.\n",
      "\n",
      "For example, when doing 'df[col].method(value, inplace=True)', try using 'df.method({col: value}, inplace=True)' or df[col] = df[col].method(value) instead, to perform the operation inplace on the original object.\n",
      "\n",
      "\n",
      "  partial_metrics['Classification'].replace(to_replace=0, value='TN', inplace=True)\n",
      "/home/apimple/DSC180A-FA24-project-group/dsc180a/src/custom_funcs.py:493: FutureWarning: A value is trying to be set on a copy of a DataFrame or Series through chained assignment using an inplace method.\n",
      "The behavior will change in pandas 3.0. This inplace method will never work because the intermediate object on which we are setting values always behaves as a copy.\n",
      "\n",
      "For example, when doing 'df[col].method(value, inplace=True)', try using 'df.method({col: value}, inplace=True)' or df[col] = df[col].method(value) instead, to perform the operation inplace on the original object.\n",
      "\n",
      "\n",
      "  partial_metrics['Classification'].replace(to_replace=0, value='TN', inplace=True)\n",
      "/home/apimple/DSC180A-FA24-project-group/dsc180a/src/custom_funcs.py:493: FutureWarning: A value is trying to be set on a copy of a DataFrame or Series through chained assignment using an inplace method.\n",
      "The behavior will change in pandas 3.0. This inplace method will never work because the intermediate object on which we are setting values always behaves as a copy.\n",
      "\n",
      "For example, when doing 'df[col].method(value, inplace=True)', try using 'df.method({col: value}, inplace=True)' or df[col] = df[col].method(value) instead, to perform the operation inplace on the original object.\n",
      "\n",
      "\n",
      "  partial_metrics['Classification'].replace(to_replace=0, value='TN', inplace=True)\n"
     ]
    },
    {
     "name": "stdout",
     "output_type": "stream",
     "text": [
      "Elapsed time: 00:00:04\n",
      "Performance:\n",
      "Test AUROC: 0.9126069726881376 \n",
      "\n",
      "Iteration 3:\n",
      "\n",
      "\n",
      "Epoch 0 out of 50\n"
     ]
    },
    {
     "name": "stderr",
     "output_type": "stream",
     "text": [
      "/home/apimple/DSC180A-FA24-project-group/dsc180a/src/custom_funcs.py:493: FutureWarning: A value is trying to be set on a copy of a DataFrame or Series through chained assignment using an inplace method.\n",
      "The behavior will change in pandas 3.0. This inplace method will never work because the intermediate object on which we are setting values always behaves as a copy.\n",
      "\n",
      "For example, when doing 'df[col].method(value, inplace=True)', try using 'df.method({col: value}, inplace=True)' or df[col] = df[col].method(value) instead, to perform the operation inplace on the original object.\n",
      "\n",
      "\n",
      "  partial_metrics['Classification'].replace(to_replace=0, value='TN', inplace=True)\n",
      "/home/apimple/DSC180A-FA24-project-group/dsc180a/src/custom_funcs.py:493: FutureWarning: A value is trying to be set on a copy of a DataFrame or Series through chained assignment using an inplace method.\n",
      "The behavior will change in pandas 3.0. This inplace method will never work because the intermediate object on which we are setting values always behaves as a copy.\n",
      "\n",
      "For example, when doing 'df[col].method(value, inplace=True)', try using 'df.method({col: value}, inplace=True)' or df[col] = df[col].method(value) instead, to perform the operation inplace on the original object.\n",
      "\n",
      "\n",
      "  partial_metrics['Classification'].replace(to_replace=0, value='TN', inplace=True)\n",
      "/home/apimple/DSC180A-FA24-project-group/dsc180a/src/custom_funcs.py:493: FutureWarning: A value is trying to be set on a copy of a DataFrame or Series through chained assignment using an inplace method.\n",
      "The behavior will change in pandas 3.0. This inplace method will never work because the intermediate object on which we are setting values always behaves as a copy.\n",
      "\n",
      "For example, when doing 'df[col].method(value, inplace=True)', try using 'df.method({col: value}, inplace=True)' or df[col] = df[col].method(value) instead, to perform the operation inplace on the original object.\n",
      "\n",
      "\n",
      "  partial_metrics['Classification'].replace(to_replace=0, value='TN', inplace=True)\n"
     ]
    },
    {
     "name": "stdout",
     "output_type": "stream",
     "text": [
      "Elapsed time: 00:00:04\n",
      "Performance:\n",
      "Test AUROC: 0.9211969895824791 \n",
      "\n",
      "Iteration 4:\n",
      "\n",
      "\n",
      "Epoch 0 out of 50\n"
     ]
    },
    {
     "name": "stderr",
     "output_type": "stream",
     "text": [
      "/home/apimple/DSC180A-FA24-project-group/dsc180a/src/custom_funcs.py:493: FutureWarning: A value is trying to be set on a copy of a DataFrame or Series through chained assignment using an inplace method.\n",
      "The behavior will change in pandas 3.0. This inplace method will never work because the intermediate object on which we are setting values always behaves as a copy.\n",
      "\n",
      "For example, when doing 'df[col].method(value, inplace=True)', try using 'df.method({col: value}, inplace=True)' or df[col] = df[col].method(value) instead, to perform the operation inplace on the original object.\n",
      "\n",
      "\n",
      "  partial_metrics['Classification'].replace(to_replace=0, value='TN', inplace=True)\n",
      "/home/apimple/DSC180A-FA24-project-group/dsc180a/src/custom_funcs.py:493: FutureWarning: A value is trying to be set on a copy of a DataFrame or Series through chained assignment using an inplace method.\n",
      "The behavior will change in pandas 3.0. This inplace method will never work because the intermediate object on which we are setting values always behaves as a copy.\n",
      "\n",
      "For example, when doing 'df[col].method(value, inplace=True)', try using 'df.method({col: value}, inplace=True)' or df[col] = df[col].method(value) instead, to perform the operation inplace on the original object.\n",
      "\n",
      "\n",
      "  partial_metrics['Classification'].replace(to_replace=0, value='TN', inplace=True)\n",
      "/home/apimple/DSC180A-FA24-project-group/dsc180a/src/custom_funcs.py:493: FutureWarning: A value is trying to be set on a copy of a DataFrame or Series through chained assignment using an inplace method.\n",
      "The behavior will change in pandas 3.0. This inplace method will never work because the intermediate object on which we are setting values always behaves as a copy.\n",
      "\n",
      "For example, when doing 'df[col].method(value, inplace=True)', try using 'df.method({col: value}, inplace=True)' or df[col] = df[col].method(value) instead, to perform the operation inplace on the original object.\n",
      "\n",
      "\n",
      "  partial_metrics['Classification'].replace(to_replace=0, value='TN', inplace=True)\n"
     ]
    },
    {
     "name": "stdout",
     "output_type": "stream",
     "text": [
      "Elapsed time: 00:00:04\n",
      "Performance:\n",
      "Test AUROC: 0.9175214890172937 \n",
      "\n",
      "Iteration 5:\n",
      "\n",
      "\n",
      "Epoch 0 out of 50\n"
     ]
    },
    {
     "name": "stderr",
     "output_type": "stream",
     "text": [
      "/home/apimple/DSC180A-FA24-project-group/dsc180a/src/custom_funcs.py:493: FutureWarning: A value is trying to be set on a copy of a DataFrame or Series through chained assignment using an inplace method.\n",
      "The behavior will change in pandas 3.0. This inplace method will never work because the intermediate object on which we are setting values always behaves as a copy.\n",
      "\n",
      "For example, when doing 'df[col].method(value, inplace=True)', try using 'df.method({col: value}, inplace=True)' or df[col] = df[col].method(value) instead, to perform the operation inplace on the original object.\n",
      "\n",
      "\n",
      "  partial_metrics['Classification'].replace(to_replace=0, value='TN', inplace=True)\n",
      "/home/apimple/DSC180A-FA24-project-group/dsc180a/src/custom_funcs.py:493: FutureWarning: A value is trying to be set on a copy of a DataFrame or Series through chained assignment using an inplace method.\n",
      "The behavior will change in pandas 3.0. This inplace method will never work because the intermediate object on which we are setting values always behaves as a copy.\n",
      "\n",
      "For example, when doing 'df[col].method(value, inplace=True)', try using 'df.method({col: value}, inplace=True)' or df[col] = df[col].method(value) instead, to perform the operation inplace on the original object.\n",
      "\n",
      "\n",
      "  partial_metrics['Classification'].replace(to_replace=0, value='TN', inplace=True)\n",
      "/home/apimple/DSC180A-FA24-project-group/dsc180a/src/custom_funcs.py:493: FutureWarning: A value is trying to be set on a copy of a DataFrame or Series through chained assignment using an inplace method.\n",
      "The behavior will change in pandas 3.0. This inplace method will never work because the intermediate object on which we are setting values always behaves as a copy.\n",
      "\n",
      "For example, when doing 'df[col].method(value, inplace=True)', try using 'df.method({col: value}, inplace=True)' or df[col] = df[col].method(value) instead, to perform the operation inplace on the original object.\n",
      "\n",
      "\n",
      "  partial_metrics['Classification'].replace(to_replace=0, value='TN', inplace=True)\n"
     ]
    },
    {
     "name": "stdout",
     "output_type": "stream",
     "text": [
      "Elapsed time: 00:00:04\n",
      "Performance:\n",
      "Test AUROC: 0.9277885742459151 \n",
      "\n",
      "Iteration 6:\n",
      "\n",
      "\n",
      "Epoch 0 out of 50\n"
     ]
    },
    {
     "name": "stderr",
     "output_type": "stream",
     "text": [
      "/home/apimple/DSC180A-FA24-project-group/dsc180a/src/custom_funcs.py:493: FutureWarning: A value is trying to be set on a copy of a DataFrame or Series through chained assignment using an inplace method.\n",
      "The behavior will change in pandas 3.0. This inplace method will never work because the intermediate object on which we are setting values always behaves as a copy.\n",
      "\n",
      "For example, when doing 'df[col].method(value, inplace=True)', try using 'df.method({col: value}, inplace=True)' or df[col] = df[col].method(value) instead, to perform the operation inplace on the original object.\n",
      "\n",
      "\n",
      "  partial_metrics['Classification'].replace(to_replace=0, value='TN', inplace=True)\n",
      "/home/apimple/DSC180A-FA24-project-group/dsc180a/src/custom_funcs.py:493: FutureWarning: A value is trying to be set on a copy of a DataFrame or Series through chained assignment using an inplace method.\n",
      "The behavior will change in pandas 3.0. This inplace method will never work because the intermediate object on which we are setting values always behaves as a copy.\n",
      "\n",
      "For example, when doing 'df[col].method(value, inplace=True)', try using 'df.method({col: value}, inplace=True)' or df[col] = df[col].method(value) instead, to perform the operation inplace on the original object.\n",
      "\n",
      "\n",
      "  partial_metrics['Classification'].replace(to_replace=0, value='TN', inplace=True)\n",
      "/home/apimple/DSC180A-FA24-project-group/dsc180a/src/custom_funcs.py:493: FutureWarning: A value is trying to be set on a copy of a DataFrame or Series through chained assignment using an inplace method.\n",
      "The behavior will change in pandas 3.0. This inplace method will never work because the intermediate object on which we are setting values always behaves as a copy.\n",
      "\n",
      "For example, when doing 'df[col].method(value, inplace=True)', try using 'df.method({col: value}, inplace=True)' or df[col] = df[col].method(value) instead, to perform the operation inplace on the original object.\n",
      "\n",
      "\n",
      "  partial_metrics['Classification'].replace(to_replace=0, value='TN', inplace=True)\n"
     ]
    },
    {
     "name": "stdout",
     "output_type": "stream",
     "text": [
      "Elapsed time: 00:00:04\n",
      "Performance:\n",
      "Test AUROC: 0.9326633859878867 \n",
      "\n",
      "Iteration 7:\n",
      "\n",
      "\n",
      "Epoch 0 out of 50\n"
     ]
    },
    {
     "name": "stderr",
     "output_type": "stream",
     "text": [
      "/home/apimple/DSC180A-FA24-project-group/dsc180a/src/custom_funcs.py:493: FutureWarning: A value is trying to be set on a copy of a DataFrame or Series through chained assignment using an inplace method.\n",
      "The behavior will change in pandas 3.0. This inplace method will never work because the intermediate object on which we are setting values always behaves as a copy.\n",
      "\n",
      "For example, when doing 'df[col].method(value, inplace=True)', try using 'df.method({col: value}, inplace=True)' or df[col] = df[col].method(value) instead, to perform the operation inplace on the original object.\n",
      "\n",
      "\n",
      "  partial_metrics['Classification'].replace(to_replace=0, value='TN', inplace=True)\n",
      "/home/apimple/DSC180A-FA24-project-group/dsc180a/src/custom_funcs.py:493: FutureWarning: A value is trying to be set on a copy of a DataFrame or Series through chained assignment using an inplace method.\n",
      "The behavior will change in pandas 3.0. This inplace method will never work because the intermediate object on which we are setting values always behaves as a copy.\n",
      "\n",
      "For example, when doing 'df[col].method(value, inplace=True)', try using 'df.method({col: value}, inplace=True)' or df[col] = df[col].method(value) instead, to perform the operation inplace on the original object.\n",
      "\n",
      "\n",
      "  partial_metrics['Classification'].replace(to_replace=0, value='TN', inplace=True)\n",
      "/home/apimple/DSC180A-FA24-project-group/dsc180a/src/custom_funcs.py:493: FutureWarning: A value is trying to be set on a copy of a DataFrame or Series through chained assignment using an inplace method.\n",
      "The behavior will change in pandas 3.0. This inplace method will never work because the intermediate object on which we are setting values always behaves as a copy.\n",
      "\n",
      "For example, when doing 'df[col].method(value, inplace=True)', try using 'df.method({col: value}, inplace=True)' or df[col] = df[col].method(value) instead, to perform the operation inplace on the original object.\n",
      "\n",
      "\n",
      "  partial_metrics['Classification'].replace(to_replace=0, value='TN', inplace=True)\n"
     ]
    },
    {
     "name": "stdout",
     "output_type": "stream",
     "text": [
      "Elapsed time: 00:00:04\n",
      "Performance:\n",
      "Test AUROC: 0.9218105596736066 \n",
      "\n",
      "Iteration 8:\n",
      "\n",
      "\n",
      "Epoch 0 out of 50\n"
     ]
    },
    {
     "name": "stderr",
     "output_type": "stream",
     "text": [
      "/home/apimple/DSC180A-FA24-project-group/dsc180a/src/custom_funcs.py:493: FutureWarning: A value is trying to be set on a copy of a DataFrame or Series through chained assignment using an inplace method.\n",
      "The behavior will change in pandas 3.0. This inplace method will never work because the intermediate object on which we are setting values always behaves as a copy.\n",
      "\n",
      "For example, when doing 'df[col].method(value, inplace=True)', try using 'df.method({col: value}, inplace=True)' or df[col] = df[col].method(value) instead, to perform the operation inplace on the original object.\n",
      "\n",
      "\n",
      "  partial_metrics['Classification'].replace(to_replace=0, value='TN', inplace=True)\n",
      "/home/apimple/DSC180A-FA24-project-group/dsc180a/src/custom_funcs.py:493: FutureWarning: A value is trying to be set on a copy of a DataFrame or Series through chained assignment using an inplace method.\n",
      "The behavior will change in pandas 3.0. This inplace method will never work because the intermediate object on which we are setting values always behaves as a copy.\n",
      "\n",
      "For example, when doing 'df[col].method(value, inplace=True)', try using 'df.method({col: value}, inplace=True)' or df[col] = df[col].method(value) instead, to perform the operation inplace on the original object.\n",
      "\n",
      "\n",
      "  partial_metrics['Classification'].replace(to_replace=0, value='TN', inplace=True)\n",
      "/home/apimple/DSC180A-FA24-project-group/dsc180a/src/custom_funcs.py:493: FutureWarning: A value is trying to be set on a copy of a DataFrame or Series through chained assignment using an inplace method.\n",
      "The behavior will change in pandas 3.0. This inplace method will never work because the intermediate object on which we are setting values always behaves as a copy.\n",
      "\n",
      "For example, when doing 'df[col].method(value, inplace=True)', try using 'df.method({col: value}, inplace=True)' or df[col] = df[col].method(value) instead, to perform the operation inplace on the original object.\n",
      "\n",
      "\n",
      "  partial_metrics['Classification'].replace(to_replace=0, value='TN', inplace=True)\n"
     ]
    },
    {
     "name": "stdout",
     "output_type": "stream",
     "text": [
      "Elapsed time: 00:00:05\n",
      "Performance:\n",
      "Test AUROC: 0.9331074299606434 \n",
      "\n",
      "Iteration 9:\n",
      "\n",
      "\n",
      "Epoch 0 out of 50\n"
     ]
    },
    {
     "name": "stderr",
     "output_type": "stream",
     "text": [
      "/home/apimple/DSC180A-FA24-project-group/dsc180a/src/custom_funcs.py:493: FutureWarning: A value is trying to be set on a copy of a DataFrame or Series through chained assignment using an inplace method.\n",
      "The behavior will change in pandas 3.0. This inplace method will never work because the intermediate object on which we are setting values always behaves as a copy.\n",
      "\n",
      "For example, when doing 'df[col].method(value, inplace=True)', try using 'df.method({col: value}, inplace=True)' or df[col] = df[col].method(value) instead, to perform the operation inplace on the original object.\n",
      "\n",
      "\n",
      "  partial_metrics['Classification'].replace(to_replace=0, value='TN', inplace=True)\n",
      "/home/apimple/DSC180A-FA24-project-group/dsc180a/src/custom_funcs.py:493: FutureWarning: A value is trying to be set on a copy of a DataFrame or Series through chained assignment using an inplace method.\n",
      "The behavior will change in pandas 3.0. This inplace method will never work because the intermediate object on which we are setting values always behaves as a copy.\n",
      "\n",
      "For example, when doing 'df[col].method(value, inplace=True)', try using 'df.method({col: value}, inplace=True)' or df[col] = df[col].method(value) instead, to perform the operation inplace on the original object.\n",
      "\n",
      "\n",
      "  partial_metrics['Classification'].replace(to_replace=0, value='TN', inplace=True)\n",
      "/home/apimple/DSC180A-FA24-project-group/dsc180a/src/custom_funcs.py:493: FutureWarning: A value is trying to be set on a copy of a DataFrame or Series through chained assignment using an inplace method.\n",
      "The behavior will change in pandas 3.0. This inplace method will never work because the intermediate object on which we are setting values always behaves as a copy.\n",
      "\n",
      "For example, when doing 'df[col].method(value, inplace=True)', try using 'df.method({col: value}, inplace=True)' or df[col] = df[col].method(value) instead, to perform the operation inplace on the original object.\n",
      "\n",
      "\n",
      "  partial_metrics['Classification'].replace(to_replace=0, value='TN', inplace=True)\n"
     ]
    },
    {
     "name": "stdout",
     "output_type": "stream",
     "text": [
      "Elapsed time: 00:00:04\n",
      "Performance:\n",
      "Test AUROC: 0.9367944879908947 \n",
      "\n",
      "Iteration 10:\n",
      "\n",
      "\n",
      "Epoch 0 out of 50\n"
     ]
    },
    {
     "name": "stderr",
     "output_type": "stream",
     "text": [
      "/home/apimple/DSC180A-FA24-project-group/dsc180a/src/custom_funcs.py:493: FutureWarning: A value is trying to be set on a copy of a DataFrame or Series through chained assignment using an inplace method.\n",
      "The behavior will change in pandas 3.0. This inplace method will never work because the intermediate object on which we are setting values always behaves as a copy.\n",
      "\n",
      "For example, when doing 'df[col].method(value, inplace=True)', try using 'df.method({col: value}, inplace=True)' or df[col] = df[col].method(value) instead, to perform the operation inplace on the original object.\n",
      "\n",
      "\n",
      "  partial_metrics['Classification'].replace(to_replace=0, value='TN', inplace=True)\n",
      "/home/apimple/DSC180A-FA24-project-group/dsc180a/src/custom_funcs.py:493: FutureWarning: A value is trying to be set on a copy of a DataFrame or Series through chained assignment using an inplace method.\n",
      "The behavior will change in pandas 3.0. This inplace method will never work because the intermediate object on which we are setting values always behaves as a copy.\n",
      "\n",
      "For example, when doing 'df[col].method(value, inplace=True)', try using 'df.method({col: value}, inplace=True)' or df[col] = df[col].method(value) instead, to perform the operation inplace on the original object.\n",
      "\n",
      "\n",
      "  partial_metrics['Classification'].replace(to_replace=0, value='TN', inplace=True)\n",
      "/home/apimple/DSC180A-FA24-project-group/dsc180a/src/custom_funcs.py:493: FutureWarning: A value is trying to be set on a copy of a DataFrame or Series through chained assignment using an inplace method.\n",
      "The behavior will change in pandas 3.0. This inplace method will never work because the intermediate object on which we are setting values always behaves as a copy.\n",
      "\n",
      "For example, when doing 'df[col].method(value, inplace=True)', try using 'df.method({col: value}, inplace=True)' or df[col] = df[col].method(value) instead, to perform the operation inplace on the original object.\n",
      "\n",
      "\n",
      "  partial_metrics['Classification'].replace(to_replace=0, value='TN', inplace=True)\n"
     ]
    },
    {
     "name": "stdout",
     "output_type": "stream",
     "text": [
      "Elapsed time: 00:00:04\n",
      "Performance:\n",
      "Test AUROC: 0.9340336336606035 \n",
      "\n",
      "Regression Task...\n",
      "Iteration 1:\n",
      "\n",
      "\n",
      "Epoch 0 out of 75\n"
     ]
    },
    {
     "name": "stderr",
     "output_type": "stream",
     "text": [
      "/home/apimple/DSC180A-FA24-project-group/dsc180a/src/custom_funcs.py:553: FutureWarning: The behavior of DataFrame concatenation with empty or all-NA entries is deprecated. In a future version, this will no longer exclude empty or all-NA columns when determining the result dtypes. To retain the old behavior, exclude the relevant entries before the concat operation.\n",
      "  df_full_metrics = pd.concat([df_full_metrics, partial_metrics], ignore_index=True)\n"
     ]
    },
    {
     "name": "stdout",
     "output_type": "stream",
     "text": [
      "Elapsed time: 00:00:13\n",
      "Performance:\n",
      "Test pearson: 0.7285831360040878 \n",
      "\n",
      "Iteration 2:\n",
      "\n",
      "\n",
      "Epoch 0 out of 75\n"
     ]
    },
    {
     "name": "stderr",
     "output_type": "stream",
     "text": [
      "/home/apimple/DSC180A-FA24-project-group/dsc180a/src/custom_funcs.py:553: FutureWarning: The behavior of DataFrame concatenation with empty or all-NA entries is deprecated. In a future version, this will no longer exclude empty or all-NA columns when determining the result dtypes. To retain the old behavior, exclude the relevant entries before the concat operation.\n",
      "  df_full_metrics = pd.concat([df_full_metrics, partial_metrics], ignore_index=True)\n"
     ]
    },
    {
     "name": "stdout",
     "output_type": "stream",
     "text": [
      "Elapsed time: 00:00:13\n",
      "Performance:\n",
      "Test pearson: 0.7755124913143691 \n",
      "\n",
      "Iteration 3:\n",
      "\n",
      "\n",
      "Epoch 0 out of 75\n"
     ]
    },
    {
     "name": "stderr",
     "output_type": "stream",
     "text": [
      "/home/apimple/DSC180A-FA24-project-group/dsc180a/src/custom_funcs.py:553: FutureWarning: The behavior of DataFrame concatenation with empty or all-NA entries is deprecated. In a future version, this will no longer exclude empty or all-NA columns when determining the result dtypes. To retain the old behavior, exclude the relevant entries before the concat operation.\n",
      "  df_full_metrics = pd.concat([df_full_metrics, partial_metrics], ignore_index=True)\n"
     ]
    },
    {
     "name": "stdout",
     "output_type": "stream",
     "text": [
      "Elapsed time: 00:00:13\n",
      "Performance:\n",
      "Test pearson: 0.7904651285804472 \n",
      "\n",
      "Iteration 4:\n",
      "\n",
      "\n",
      "Epoch 0 out of 75\n"
     ]
    },
    {
     "name": "stderr",
     "output_type": "stream",
     "text": [
      "/home/apimple/DSC180A-FA24-project-group/dsc180a/src/custom_funcs.py:553: FutureWarning: The behavior of DataFrame concatenation with empty or all-NA entries is deprecated. In a future version, this will no longer exclude empty or all-NA columns when determining the result dtypes. To retain the old behavior, exclude the relevant entries before the concat operation.\n",
      "  df_full_metrics = pd.concat([df_full_metrics, partial_metrics], ignore_index=True)\n"
     ]
    },
    {
     "name": "stdout",
     "output_type": "stream",
     "text": [
      "Elapsed time: 00:00:13\n",
      "Performance:\n",
      "Test pearson: 0.7889209354198685 \n",
      "\n",
      "Iteration 5:\n",
      "\n",
      "\n",
      "Epoch 0 out of 75\n"
     ]
    },
    {
     "name": "stderr",
     "output_type": "stream",
     "text": [
      "/home/apimple/DSC180A-FA24-project-group/dsc180a/src/custom_funcs.py:553: FutureWarning: The behavior of DataFrame concatenation with empty or all-NA entries is deprecated. In a future version, this will no longer exclude empty or all-NA columns when determining the result dtypes. To retain the old behavior, exclude the relevant entries before the concat operation.\n",
      "  df_full_metrics = pd.concat([df_full_metrics, partial_metrics], ignore_index=True)\n"
     ]
    },
    {
     "name": "stdout",
     "output_type": "stream",
     "text": [
      "Elapsed time: 00:00:13\n",
      "Performance:\n",
      "Test pearson: 0.7976172918314275 \n",
      "\n",
      "Iteration 6:\n",
      "\n",
      "\n",
      "Epoch 0 out of 75\n"
     ]
    },
    {
     "name": "stderr",
     "output_type": "stream",
     "text": [
      "/home/apimple/DSC180A-FA24-project-group/dsc180a/src/custom_funcs.py:553: FutureWarning: The behavior of DataFrame concatenation with empty or all-NA entries is deprecated. In a future version, this will no longer exclude empty or all-NA columns when determining the result dtypes. To retain the old behavior, exclude the relevant entries before the concat operation.\n",
      "  df_full_metrics = pd.concat([df_full_metrics, partial_metrics], ignore_index=True)\n"
     ]
    },
    {
     "name": "stdout",
     "output_type": "stream",
     "text": [
      "Elapsed time: 00:00:14\n",
      "Performance:\n",
      "Test pearson: 0.799634854496995 \n",
      "\n",
      "Iteration 7:\n",
      "\n",
      "\n",
      "Epoch 0 out of 75\n"
     ]
    },
    {
     "name": "stderr",
     "output_type": "stream",
     "text": [
      "/home/apimple/DSC180A-FA24-project-group/dsc180a/src/custom_funcs.py:553: FutureWarning: The behavior of DataFrame concatenation with empty or all-NA entries is deprecated. In a future version, this will no longer exclude empty or all-NA columns when determining the result dtypes. To retain the old behavior, exclude the relevant entries before the concat operation.\n",
      "  df_full_metrics = pd.concat([df_full_metrics, partial_metrics], ignore_index=True)\n"
     ]
    },
    {
     "name": "stdout",
     "output_type": "stream",
     "text": [
      "Elapsed time: 00:00:13\n",
      "Performance:\n",
      "Test pearson: 0.8141930864749783 \n",
      "\n",
      "Iteration 8:\n",
      "\n",
      "\n",
      "Epoch 0 out of 75\n"
     ]
    },
    {
     "name": "stderr",
     "output_type": "stream",
     "text": [
      "/home/apimple/DSC180A-FA24-project-group/dsc180a/src/custom_funcs.py:553: FutureWarning: The behavior of DataFrame concatenation with empty or all-NA entries is deprecated. In a future version, this will no longer exclude empty or all-NA columns when determining the result dtypes. To retain the old behavior, exclude the relevant entries before the concat operation.\n",
      "  df_full_metrics = pd.concat([df_full_metrics, partial_metrics], ignore_index=True)\n"
     ]
    },
    {
     "name": "stdout",
     "output_type": "stream",
     "text": [
      "Elapsed time: 00:00:14\n",
      "Performance:\n",
      "Test pearson: 0.8033142542582 \n",
      "\n",
      "Iteration 9:\n",
      "\n",
      "\n",
      "Epoch 0 out of 75\n"
     ]
    },
    {
     "name": "stderr",
     "output_type": "stream",
     "text": [
      "/home/apimple/DSC180A-FA24-project-group/dsc180a/src/custom_funcs.py:553: FutureWarning: The behavior of DataFrame concatenation with empty or all-NA entries is deprecated. In a future version, this will no longer exclude empty or all-NA columns when determining the result dtypes. To retain the old behavior, exclude the relevant entries before the concat operation.\n",
      "  df_full_metrics = pd.concat([df_full_metrics, partial_metrics], ignore_index=True)\n"
     ]
    },
    {
     "name": "stdout",
     "output_type": "stream",
     "text": [
      "Elapsed time: 00:00:13\n",
      "Performance:\n",
      "Test pearson: 0.790359479666718 \n",
      "\n",
      "Iteration 10:\n",
      "\n",
      "\n",
      "Epoch 0 out of 75\n",
      "Elapsed time: 00:00:14\n",
      "Performance:\n",
      "Test pearson: 0.7937730138230432 \n",
      "\n"
     ]
    },
    {
     "name": "stderr",
     "output_type": "stream",
     "text": [
      "/home/apimple/DSC180A-FA24-project-group/dsc180a/src/custom_funcs.py:553: FutureWarning: The behavior of DataFrame concatenation with empty or all-NA entries is deprecated. In a future version, this will no longer exclude empty or all-NA columns when determining the result dtypes. To retain the old behavior, exclude the relevant entries before the concat operation.\n",
      "  df_full_metrics = pd.concat([df_full_metrics, partial_metrics], ignore_index=True)\n"
     ]
    }
   ],
   "source": [
    "device='cuda'\n",
    "for cell_line in [E116, E122, E123]:\n",
    "        print(f\"Cell line: {cell_line['name']}\")\n",
    "        experiment_n(\n",
    "            cell_line, \n",
    "            num_runs, \n",
    "            GCN_classification(num_feat, num_graph_conv_layers, graph_conv_layer_sizes, num_lin_layers, lin_hidden_sizes_c, 2),\n",
    "            GCN_regression(num_feat, num_graph_conv_layers, graph_conv_layer_sizes, num_lin_layers, lin_hidden_sizes_r, 1),\n",
    "            'GCN', \n",
    "            max_epoch=max_epoch,\n",
    "            device=device\n",
    "        )"
   ]
  },
  {
   "cell_type": "code",
   "execution_count": 7,
   "metadata": {},
   "outputs": [
    {
     "name": "stdout",
     "output_type": "stream",
     "text": [
      "E116:{'name': 'E116', 'AUROC': (0.9117110484212858, 0.00606381559781273), 'PCC': (0.7711137551251653, 0.016953612638327377), 'PCC_test': array([0.16256441, 0.13893394, 0.8046164 , ..., 0.7909885 , 1.7091173 ,\n",
      "       0.        ], dtype=float32), 'PCC_pred': array([0.2855886 , 0.20845576, 0.33162475, ..., 0.51809305, 1.1311663 ,\n",
      "       0.06133502], dtype=float32)}\n",
      "E122:{'name': 'E122', 'AUROC': (0.9029281641947874, 0.01003532963591568), 'PCC': (0.7441504076287326, 0.02440009730026713), 'PCC_test': array([1.2327167 , 0.6620019 , 0.        , ..., 1.5458264 , 1.225826  ,\n",
      "       0.00860017], dtype=float32), 'PCC_pred': array([0.44444704, 0.86342573, 0.18214026, ..., 1.5037268 , 0.85257846,\n",
      "       0.18611324], dtype=float32)}\n",
      "E123:{'name': 'E123', 'AUROC': (0.9262575345908527, 0.0075583725711076445), 'PCC': (0.7882373671870134, 0.022090777003626928), 'PCC_test': array([1.7423245 , 0.71130097, 0.00259798, ..., 1.1055102 , 0.9737742 ,\n",
      "       0.7704101 ], dtype=float32), 'PCC_pred': array([0.8343513 , 0.73489237, 0.14936057, ..., 0.5473592 , 0.44276375,\n",
      "       0.8671613 ], dtype=float32)}\n"
     ]
    }
   ],
   "source": [
    "print(f\"E116:{E116}\")\n",
    "print(f\"E122:{E122}\")\n",
    "print(f\"E123:{E123}\")"
   ]
  },
  {
   "cell_type": "code",
   "execution_count": 8,
   "metadata": {},
   "outputs": [],
   "source": [
    "with open('results/GCMERGE.csv', 'w') as f:\n",
    "    f.write('cell_line,auroc_mu,auroc_std,pcc_mu,pcc_std\\n')\n",
    "    f.write(f\"E116,{E116['AUROC'][0]},{E116['AUROC'][1]},{E116['PCC'][0]},{E116['PCC'][1]}\\n\")\n",
    "    f.write(f\"E122,{E122['AUROC'][0]},{E122['AUROC'][1]},{E122['PCC'][0]},{E122['PCC'][1]}\\n\")\n",
    "    f.write(f\"E123,{E123['AUROC'][0]},{E123['AUROC'][1]},{E123['PCC'][0]},{E123['PCC'][1]}\\n\")\n",
    "\n",
    "f.close()"
   ]
  },
  {
   "cell_type": "code",
   "execution_count": 9,
   "metadata": {},
   "outputs": [],
   "source": [
    "color = '#b3998b'"
   ]
  },
  {
   "cell_type": "code",
   "execution_count": 11,
   "metadata": {},
   "outputs": [
    {
     "data": {
      "image/png": "[encoded data removed]",
      "text/plain": [
       "<Figure size 2000x500 with 3 Axes>"
      ]
     },
     "metadata": {},
     "output_type": "display_data"
    }
   ],
   "source": [
    "fig, axes = plt.subplots(1, 3, figsize=(20, 5))  # 1 row, 3 columns\n",
    "\n",
    "# Scatter plot for subplot 1\n",
    "slope, intercept, _, _, _ = linregress(E116['PCC_test'], E116['PCC_pred'])\n",
    "x_vals = np.array([min(E116['PCC_test']), max(E116['PCC_test'])])\n",
    "y_vals = slope * x_vals + intercept\n",
    "\n",
    "axes[0].scatter(E116['PCC_test'], E116['PCC_pred'], s=20, color=color, alpha=0.8)\n",
    "axes[0].plot(x_vals, y_vals, color=\"black\", label=f\"PCC={np.round(E116['PCC'][0],2)}\")\n",
    "axes[0].set_title(\"True vs. Predicted Labels For Cell Line E116\")\n",
    "axes[0].set_xlabel(\"Observed $Log_{10}$ Expression\")\n",
    "axes[0].set_ylabel(\"Predicted $Log_{10}$ Expression\")\n",
    "axes[0].legend()\n",
    "\n",
    "slope, intercept, _, _, _ = linregress(E123['PCC_test'], E123['PCC_pred'])\n",
    "x_vals = np.array([min(E123['PCC_test']), max(E123['PCC_test'])])\n",
    "y_vals = slope * x_vals + intercept\n",
    "\n",
    "axes[1].scatter(E123['PCC_test'], E123['PCC_pred'], s=20, color=color, alpha=0.8)\n",
    "axes[1].plot(x_vals, y_vals, color=\"black\", label=f\"PCC={np.round(E123['PCC'][0],2)}\")\n",
    "axes[1].set_title(\"True vs. Predicted Labels For Cell Line E123\")\n",
    "axes[1].set_xlabel(\"Obeserved $Log_{10}$ Expression\")\n",
    "axes[1].set_ylabel(\"Predicted $Log_{10}$ Expression\")\n",
    "axes[1].legend()\n",
    "\n",
    "\n",
    "slope, intercept, _, _, _ = linregress(E122['PCC_test'], E122['PCC_pred'])\n",
    "x_vals = np.array([min(E122['PCC_test']), max(E122['PCC_test'])])\n",
    "y_vals = slope * x_vals + intercept\n",
    "\n",
    "axes[2].scatter(E122['PCC_test'], E122['PCC_pred'], s=20, color=color, alpha=0.8)\n",
    "axes[2].plot(x_vals, y_vals, color=\"black\", label=f\"PCC={np.round(E122['PCC'][0],2)}\")\n",
    "axes[2].set_title(\"True vs. Predicted Labels For Cell Line E122\")\n",
    "axes[2].set_xlabel(\"Obeserved $Log_{10}$ Expression\")\n",
    "axes[2].set_ylabel(\"Predicted $Log_{10}$ Expression\")\n",
    "axes[2].legend()\n",
    "\n",
    "plt.savefig('results/pcc_scatter.png')"
   ]
  },
  {
   "cell_type": "code",
   "execution_count": null,
   "metadata": {},
   "outputs": [],
   "source": []
  }
 ],
 "metadata": {
  "kernelspec": {
   "display_name": "Python 3 (ipykernel)",
   "language": "python",
   "name": "python3"
  },
  "language_info": {
   "codemirror_mode": {
    "name": "ipython",
    "version": 3
   },
   "file_extension": ".py",
   "mimetype": "text/x-python",
   "name": "python",
   "nbconvert_exporter": "python",
   "pygments_lexer": "ipython3",
   "version": "3.11.9"
  }
 },
 "nbformat": 4,
 "nbformat_minor": 4
}
