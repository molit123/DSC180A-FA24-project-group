{
 "cells": [
  {
   "cell_type": "code",
   "execution_count": null,
   "metadata": {},
   "outputs": [],
   "source": [
    "import os\n",
    "import argparse\n",
    "import time\n",
    "from datetime import datetime, date\n",
    "import random\n",
    "\n",
    "import numpy as np\n",
    "from scipy.sparse import load_npz\n",
    "from scipy.stats import pearsonr\n",
    "from sklearn.metrics import roc_auc_score, precision_recall_curve, auc\n",
    "import pandas as pd\n",
    "\n",
    "import torch\n",
    "import torch_geometric\n",
    "import torch.nn as nn\n",
    "import matplotlib.pyplot as plt\n",
    "from torch.utils.data import TensorDataset, DataLoader\n",
    "import torch.nn.functional as F\n",
    "from scipy.stats import linregress\n",
    "\n",
    "from model_classes_ import GCN_classification, GCN_regression, MLP_Classification, MLP_Regression, CNN\n",
    "from custom_funcs import experiment_n"
   ]
  },
  {
   "cell_type": "code",
   "execution_count": null,
   "metadata": {},
   "outputs": [],
   "source": [
    "torch.cuda.empty_cache()"
   ]
  },
  {
   "cell_type": "code",
   "execution_count": null,
   "metadata": {},
   "outputs": [],
   "source": [
    "# Check for GPU\n",
    "print(torch.cuda.is_available())  # True/False\n",
    "print(torch.cuda.device_count())  # Number of GPUs available\n",
    "print(torch.cuda.current_device())  # Current GPU ID (e.g., `0`)\n",
    "print(torch.cuda.get_device_name(0))  # GPU name"
   ]
  },
  {
   "cell_type": "code",
   "execution_count": null,
   "metadata": {},
   "outputs": [],
   "source": [
    "# Hyperparameters\n",
    "chip_res = 10000\n",
    "hic_res = 10000\n",
    "num_hm = 6\n",
    "num_feat = int((hic_res/chip_res)*num_hm)\n",
    "regression_flag = 0\n",
    "max_epoch = 50\n",
    "learning_rate = 0.001\n",
    "num_lin_layers = 2\n",
    "lin_hidden_size = 100\n",
    "num_graph_conv_layers = 2\n",
    "graph_conv_embed_size = 256\n",
    "num_runs = 10\n",
    "graph_conv_layer_sizes = [num_feat] + \\\n",
    "        [int(max(graph_conv_embed_size, lin_hidden_size)) \\\n",
    "              for i in np.arange(1, num_graph_conv_layers, 1)] + [lin_hidden_size]\n",
    "\n",
    "lin_hidden_sizes_r = [graph_conv_layer_sizes[-1]] + \\\n",
    "        [int(max(lin_hidden_size, 1)) \\\n",
    "              for i in np.arange(1, num_lin_layers, 1)] + [1]\n",
    "lin_hidden_sizes_c = [graph_conv_layer_sizes[-1]] + \\\n",
    "        [int(max(lin_hidden_size, 2)) \\\n",
    "              for i in np.arange(1, num_lin_layers, 1)] + [2]"
   ]
  },
  {
   "cell_type": "code",
   "execution_count": null,
   "metadata": {},
   "outputs": [],
   "source": [
    "# Stores AUROC and PCC across all models for each cell line\n",
    "E116 = {'name': 'E116', 'AUROC': None, 'PCC': None}\n",
    "E122 = {'name': 'E122', 'AUROC': None, 'PCC': None}\n",
    "E123 = {'name': 'E123', 'AUROC': None, 'PCC': None}"
   ]
  },
  {
   "cell_type": "code",
   "execution_count": null,
   "metadata": {
    "scrolled": true
   },
   "outputs": [],
   "source": [
    "device='cuda'\n",
    "for cell_line in [E116, E122, E123]:\n",
    "        print(f\"Cell line: {cell_line['name']}\")\n",
    "        experiment_n(\n",
    "            cell_line, \n",
    "            num_runs, \n",
    "            GCN_classification(num_feat, num_graph_conv_layers, graph_conv_layer_sizes, num_lin_layers, lin_hidden_sizes_c, 2),\n",
    "            GCN_regression(num_feat, num_graph_conv_layers, graph_conv_layer_sizes, num_lin_layers, lin_hidden_sizes_r, 1),\n",
    "            'GCN', \n",
    "            max_epoch=max_epoch,\n",
    "            device=device\n",
    "        )"
   ]
  },
  {
   "cell_type": "code",
   "execution_count": null,
   "metadata": {},
   "outputs": [],
   "source": [
    "print(f\"E116:{E116}\")\n",
    "print(f\"E122:{E122}\")\n",
    "print(f\"E123:{E123}\")"
   ]
  },
  {
   "cell_type": "code",
   "execution_count": null,
   "metadata": {},
   "outputs": [],
   "source": [
    "with open('results/GCMERGE.csv', 'w') as f:\n",
    "    f.write('cell_line,auroc_mu,auroc_std,pcc_mu,pcc_std\\n')\n",
    "    f.write(f\"E116,{E116['AUROC'][0]},{E116['AUROC'][1]},{E116['PCC'][0]},{E116['PCC'][1]}\\n\")\n",
    "    f.write(f\"E122,{E122['AUROC'][0]},{E122['AUROC'][1]},{E122['PCC'][0]},{E122['PCC'][1]}\\n\")\n",
    "    f.write(f\"E123,{E123['AUROC'][0]},{E123['AUROC'][1]},{E123['PCC'][0]},{E123['PCC'][1]}\\n\")\n",
    "\n",
    "f.close()"
   ]
  },
  {
   "cell_type": "code",
   "execution_count": null,
   "metadata": {},
   "outputs": [],
   "source": [
    "color = '#b3998b'"
   ]
  },
  {
   "cell_type": "code",
   "execution_count": null,
   "metadata": {},
   "outputs": [],
   "source": [
    "fig, axes = plt.subplots(1, 3, figsize=(20, 5))  # 1 row, 3 columns\n",
    "\n",
    "# Scatter plot for subplot 1\n",
    "slope, intercept, _, _, _ = linregress(E116['PCC_test'], E116['PCC_pred'])\n",
    "x_vals = np.array([min(E116['PCC_test']), max(E116['PCC_test'])])\n",
    "y_vals = slope * x_vals + intercept\n",
    "\n",
    "axes[0].scatter(E116['PCC_test'], E116['PCC_pred'], s=20, color=color, alpha=0.8)\n",
    "axes[0].plot(x_vals, y_vals, color=\"black\", label=f\"PCC={E116['PCC']}\")\n",
    "axes[0].set_title(\"True vs. Predicted Labels For Cell Line E116\")\n",
    "axes[0].set_xlabel(\"Observed $Log_{10}$ Expression\")\n",
    "axes[0].set_ylabel(\"Predicted $Log_{10}$ Expression\")\n",
    "axes[0].legend()\n",
    "\n",
    "slope, intercept, _, _, _ = linregress(E123['PCC_test'], E123['PCC_pred'])\n",
    "x_vals = np.array([min(E123['PCC_test']), max(E123['PCC_test'])])\n",
    "y_vals = slope * x_vals + intercept\n",
    "\n",
    "axes[1].scatter(E123['PCC_test'], E123['PCC_pred'], s=20, color=color, alpha=0.8)\n",
    "axes[1].plot(x_vals, y_vals, color=\"black\", label=f\"PCC={E123['PCC']}\")\n",
    "axes[1].set_title(\"True vs. Predicted Labels For Cell Line E123\")\n",
    "axes[1].set_xlabel(\"Obeserved $Log_{10}$ Expression\")\n",
    "axes[1].set_ylabel(\"Predicted $Log_{10}$ Expression\")\n",
    "axes[1].legend()\n",
    "\n",
    "\n",
    "slope, intercept, _, _, _ = linregress(E122['PCC_test'], E122['PCC_pred'])\n",
    "x_vals = np.array([min(E122['PCC_test']), max(E122['PCC_test'])])\n",
    "y_vals = slope * x_vals + intercept\n",
    "\n",
    "axes[2].scatter(E122['PCC_test'], E122['PCC_pred'], s=20, color=color, alpha=0.8)\n",
    "axes[2].plot(x_vals, y_vals, color=\"black\", label=f\"PCC={E123['PCC']}\")\n",
    "axes[2].set_title(\"True vs. Predicted Labels For Cell Line E122\")\n",
    "axes[2].set_xlabel(\"Obeserved $Log_{10}$ Expression\")\n",
    "axes[2].set_ylabel(\"Predicted $Log_{10}$ Expression\")\n",
    "axes[2].legend()\n",
    "\n",
    "plt.savefig('results/pcc_scatter.png')"
   ]
  }
 ],
 "metadata": {
  "kernelspec": {
   "display_name": "Python 3 (ipykernel)",
   "language": "python",
   "name": "python3"
  },
  "language_info": {
   "codemirror_mode": {
    "name": "ipython",
    "version": 3
   },
   "file_extension": ".py",
   "mimetype": "text/x-python",
   "name": "python",
   "nbconvert_exporter": "python",
   "pygments_lexer": "ipython3",
   "version": "3.11.9"
  }
 },
 "nbformat": 4,
 "nbformat_minor": 4
}
